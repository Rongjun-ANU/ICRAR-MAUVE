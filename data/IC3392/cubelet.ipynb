{
 "cells": [
  {
   "cell_type": "code",
   "execution_count": 1,
   "id": "f42a0dca",
   "metadata": {},
   "outputs": [
    {
     "name": "stdout",
     "output_type": "stream",
     "text": [
      "Input : IC3392_DATACUBE_FINAL_WCS_Pall_mad_red_v3.fits\n",
      "ID    : IC3392\n",
      "Output: IC3392_cubelet_20x20.fits\n"
     ]
    }
   ],
   "source": [
    "# Cell 1: Imports and Parameters\n",
    "import numpy as np                                   # Array handling :contentReference[oaicite:0]{index=0}\n",
    "from spectral_cube import SpectralCube               # WCS-aware cube operations :contentReference[oaicite:1]{index=1}\n",
    "from astropy.io import fits                          # FITS I/O :contentReference[oaicite:2]{index=2}             \n",
    "from pathlib import Path   \n",
    "\n",
    "# Path to your input cube\n",
    "input_file = Path(\"IC3392_DATACUBE_FINAL_WCS_Pall_mad_red_v3.fits\")\n",
    "\n",
    "# Extract the base ID (everything up to the first underscore or up to the extension)\n",
    "stem = input_file.stem         # \"IC3392_DATACUBE_FINAL_WCS_Pall_mad_red_v3\"\n",
    "ID = stem.split(\"_\", 1)[0]     # \"IC3392\"\n",
    "\n",
    "# Set your cubelet size\n",
    "n = 20\n",
    "half = n // 2\n",
    "\n",
    "# Build the output filename: e.g. \"IC3392_cubelet_20x20.fits\"\n",
    "output_file = input_file.with_name(f\"{ID}_cubelet_{n}x{n}.fits\")\n",
    "\n",
    "print(f\"Input : {input_file.name}\")\n",
    "print(f\"ID    : {ID}\")\n",
    "print(f\"Output: {output_file.name}\")"
   ]
  },
  {
   "cell_type": "code",
   "execution_count": 2,
   "id": "260f1c09",
   "metadata": {},
   "outputs": [
    {
     "name": "stdout",
     "output_type": "stream",
     "text": [
      "Filename: IC3392_DATACUBE_FINAL_WCS_Pall_mad_red_v3.fits\n",
      "No.    Name      Ver    Type      Cards   Dimensions   Format\n",
      "  0  PRIMARY       1 PrimaryHDU      47   ()      \n",
      "  1  DATA          1 ImageHDU        40   (437, 438, 3761)   float32   \n",
      "  2  STAT          1 ImageHDU        40   (437, 438, 3761)   float32   \n",
      "  3  DQ            1 ImageHDU        39   (437, 438, 3761)   uint8   \n"
     ]
    }
   ],
   "source": [
    "# Load all HDUs\n",
    "hdul = fits.open(input_file)\n",
    "\n",
    "# Assume EXTNAMEs are exactly \"DATA\", \"STAT\", and \"DQ\" in HDU 1,2,3\n",
    "hdu_data = hdul[\"DATA\"]\n",
    "hdu_stat = hdul[\"STAT\"]\n",
    "hdu_dq   = hdul[\"DQ\"]\n",
    "\n",
    "# Extract the 3D arrays\n",
    "data = hdu_data.data   # shape: (z, y, x)\n",
    "stat = hdu_stat.data\n",
    "dq   = hdu_dq.data\n",
    "\n",
    "# Compute centers\n",
    "_, ny, nx = data.shape\n",
    "cy, cx    = ny // 2, nx // 2\n",
    "\n",
    "# Slice out the cubelet\n",
    "s = slice(cy - half, cy + half), slice(cx - half, cx + half)\n",
    "data_cut = data[:, s[0], s[1]]\n",
    "stat_cut = stat[:, s[0], s[1]]\n",
    "dq_cut   = dq[:,   s[0], s[1]]\n",
    "\n",
    "# Update the HDU data arrays\n",
    "hdu_data_cut = fits.ImageHDU(data_cut, header=hdu_data.header, name=\"DATA\")\n",
    "hdu_stat_cut = fits.ImageHDU(stat_cut, header=hdu_stat.header, name=\"STAT\")\n",
    "hdu_dq_cut   = fits.ImageHDU(dq_cut,   header=hdu_dq.header,   name=\"DQ\")\n",
    "\n",
    "hdul.info()"
   ]
  },
  {
   "cell_type": "code",
   "execution_count": 3,
   "id": "c6b109df",
   "metadata": {},
   "outputs": [
    {
     "name": "stdout",
     "output_type": "stream",
     "text": [
      "Saved multi‐extension cubelet to IC3392_cubelet_20x20.fits\n"
     ]
    }
   ],
   "source": [
    "# Create a primary HDU (you can carry global keywords here if you like)\n",
    "primary_hdu = fits.PrimaryHDU(header=hdul[0].header)\n",
    "\n",
    "hdul.close() \n",
    "\n",
    "# Assemble and write the new multi‐extension cubelet\n",
    "new_hdul = fits.HDUList([primary_hdu, hdu_data_cut, hdu_stat_cut, hdu_dq_cut])\n",
    "\n",
    "# Write to disk\n",
    "new_hdul.writeto(output_file, overwrite=True)\n",
    "print(f\"Saved multi‐extension cubelet to {output_file}\")"
   ]
  },
  {
   "cell_type": "code",
   "execution_count": 4,
   "id": "e67f6508",
   "metadata": {},
   "outputs": [
    {
     "name": "stdout",
     "output_type": "stream",
     "text": [
      "['PRIMARY', 'DATA', 'STAT', 'DQ']\n",
      "DATA shape: (3761, 20, 20)\n",
      "STAT shape: (3761, 20, 20)\n",
      "DQ   shape: (3761, 20, 20)\n"
     ]
    }
   ],
   "source": [
    "# Quick check of the output structure\n",
    "with fits.open(output_file) as out_hdul:\n",
    "    print([hdu.name for hdu in out_hdul])\n",
    "    print(\"DATA shape:\", out_hdul[\"DATA\"].data.shape)\n",
    "    print(\"STAT shape:\", out_hdul[\"STAT\"].data.shape)\n",
    "    print(\"DQ   shape:\", out_hdul[\"DQ\"].data.shape)"
   ]
  },
  {
   "cell_type": "code",
   "execution_count": 5,
   "id": "e7479ded",
   "metadata": {},
   "outputs": [
    {
     "name": "stdout",
     "output_type": "stream",
     "text": [
      "Filename: IC3392_cubelet_20x20.fits\n",
      "No.    Name      Ver    Type      Cards   Dimensions   Format\n",
      "  0  PRIMARY       1 PrimaryHDU      47   ()      \n",
      "  1  DATA          1 ImageHDU        40   (20, 20, 3761)   float32   \n",
      "  2  STAT          1 ImageHDU        40   (20, 20, 3761)   float32   \n",
      "  3  DQ            1 ImageHDU        39   (20, 20, 3761)   uint8   \n"
     ]
    }
   ],
   "source": [
    "hdul = fits.open(output_file)\n",
    "hdul.info()"
   ]
  },
  {
   "cell_type": "code",
   "execution_count": null,
   "id": "149c5818",
   "metadata": {},
   "outputs": [],
   "source": []
  }
 ],
 "metadata": {
  "kernelspec": {
   "display_name": "ICRAR",
   "language": "python",
   "name": "python3"
  },
  "language_info": {
   "name": "python",
   "version": "3.13.2"
  }
 },
 "nbformat": 4,
 "nbformat_minor": 5
}
