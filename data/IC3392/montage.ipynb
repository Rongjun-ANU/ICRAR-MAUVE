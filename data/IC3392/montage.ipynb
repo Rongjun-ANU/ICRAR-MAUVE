{
 "cells": [
  {
   "cell_type": "code",
   "execution_count": 2,
   "id": "87f44cee",
   "metadata": {},
   "outputs": [
    {
     "name": "stdout",
     "output_type": "stream",
     "text": [
      "MontagePy version: 2.2.0\n",
      "\n",
      "Reprojection complete: stacked cube shape = (8, 3931, 3931)\n"
     ]
    }
   ],
   "source": [
    "#!/usr/bin/env python\n",
    "\"\"\"\n",
    "Full-Extent Reprojection with MontagePy’s mProjExec\n",
    "\"\"\"\n",
    "\n",
    "import numpy as np\n",
    "from pathlib import Path\n",
    "from astropy.io import fits\n",
    "import shutil\n",
    "\n",
    "# MontagePy executive functions\n",
    "from MontagePy.main import mGetHdr, mImgtbl, mProjExec\n",
    "\n",
    "# ----------------------------------------------------------------------\n",
    "# Utility to retrieve MontagePy version (no __version__ in bindings)\n",
    "# ----------------------------------------------------------------------\n",
    "try:\n",
    "    from importlib.metadata import version, PackageNotFoundError\n",
    "except ImportError:\n",
    "    from importlib_metadata import version, PackageNotFoundError\n",
    "\n",
    "def reproject_with_mProjExec(\n",
    "    multi_band_fits: Path,\n",
    "    reference_fits: Path,\n",
    "    work_dir: Path = Path(\"montagepy_work\")\n",
    ") -> np.ndarray:\n",
    "    \"\"\"\n",
    "    1. Splits a multi-band FITS into separate 2D FITS files.\n",
    "    2. Extracts the template header via mGetHdr.\n",
    "    3. Builds an image metadata table with mImgtbl.\n",
    "    4. Runs mProjExec(..., wholeImages=True) to reproject all images\n",
    "       across the full template area (no cropping).\n",
    "    5. Loads and stacks the reprojected FITS into a NumPy array.\n",
    "    Returns:\n",
    "        cube : np.ndarray of shape (n_images, 438, 437)\n",
    "    \"\"\"\n",
    "    # --- 1. Prepare working directories and split bands ------------\n",
    "    if work_dir.exists():\n",
    "        shutil.rmtree(work_dir)\n",
    "    work_dir.mkdir()\n",
    "    input_dir = work_dir / \"legacy_fits\"\n",
    "    input_dir.mkdir()\n",
    "    proj_dir = work_dir / \"proj\"\n",
    "    proj_dir.mkdir()\n",
    "\n",
    "    # Load and split the multi-band FITS into standalone 2D files\n",
    "    with fits.open(multi_band_fits) as hdul:\n",
    "        data = hdul[0].data\n",
    "        hdr  = hdul[0].header\n",
    "\n",
    "    # If >20 bands on first axis, move spectral axis to front\n",
    "    if data.ndim > 2 and data.shape[0] > 20:\n",
    "        data = np.moveaxis(data, -1, 0)\n",
    "\n",
    "    # Write each 2D slice as its own file\n",
    "    for idx in range(data.shape[0] if data.ndim > 2 else 1):\n",
    "        band = data[idx] if data.ndim > 2 else data\n",
    "        band_hdr = hdr.copy()\n",
    "        band_hdr[\"NAXIS\"] = 2\n",
    "        # Remove any 3D keywords\n",
    "        for key in list(band_hdr):\n",
    "            if key.startswith((\"NAXIS3\",\"CTYPE3\",\"CUNIT3\",\n",
    "                               \"CRVAL3\",\"CRPIX3\",\"CDELT3\",\n",
    "                               \"CD3_\",\"PC3_\")):\n",
    "                del band_hdr[key]\n",
    "        out_path = input_dir / f\"band_{idx:02d}.fits\"\n",
    "        fits.PrimaryHDU(band.astype(np.float64), header=band_hdr)\\\n",
    "            .writeto(out_path, overwrite=True)\n",
    "\n",
    "    # --- 2. Create a 2D template.fits with proper WCS header --------\n",
    "    # Extract the FLUX extension header from reference_fits\n",
    "    with fits.open(reference_fits) as hd:\n",
    "        flux_hdr = hd[\"FLUX\"].header\n",
    "        ny, nx   = hd[\"FLUX\"].data.shape\n",
    "\n",
    "    template_fits = work_dir / \"template.fits\"\n",
    "    fits.PrimaryHDU(\n",
    "        data=np.zeros((ny, nx), dtype=np.float32),\n",
    "        header=flux_hdr\n",
    "    ).writeto(template_fits, overwrite=True)\n",
    "\n",
    "    # Extract to ASCII .hdr\n",
    "    hdr_file = work_dir / \"template.hdr\"\n",
    "    res_hdr = mGetHdr(str(template_fits), str(hdr_file))\n",
    "    if res_hdr.get(\"status\") != \"0\":\n",
    "        raise RuntimeError(f\"mGetHdr failed: {res_hdr}\")  # \n",
    "\n",
    "    # --- 3. Build image metadata table -----------------------------\n",
    "    tbl_file = work_dir / \"images.tbl\"\n",
    "    res_tbl  = mImgtbl(str(input_dir), str(tbl_file))\n",
    "    if res_tbl.get(\"status\") != \"0\":\n",
    "        raise RuntimeError(f\"mImgtbl failed: {res_tbl}\")  # \n",
    "\n",
    "    # --- 4. Reproject with full-extent (no cropping) ----------------\n",
    "    res_proj = mProjExec(\n",
    "        str(input_dir),\n",
    "        str(tbl_file),\n",
    "        str(hdr_file),\n",
    "        str(proj_dir),\n",
    "        wholeImages=True        # Force full-extent outputs  \n",
    "    )\n",
    "    if res_proj.get(\"status\") != \"0\":\n",
    "        raise RuntimeError(f\"mProjExec failed: {res_proj}\")  # \n",
    "\n",
    "    # --- 5. Load and stack results ---------------------------------\n",
    "    fits_files = sorted(proj_dir.glob(\"*.fits\"))\n",
    "    cube       = []\n",
    "    for fpath in fits_files:\n",
    "        arr = fits.getdata(str(fpath))\n",
    "        # assert arr.shape == (ny, nx), (\n",
    "        #     f\"Unexpected shape {arr.shape} for {fpath.name}\"\n",
    "        # )\n",
    "        cube.append(arr)\n",
    "\n",
    "    return np.stack(cube, axis=0)\n",
    "\n",
    "if __name__ == \"__main__\":\n",
    "    # Version check\n",
    "    try:\n",
    "        mp_ver = version(\"MontagePy\")\n",
    "        print(f\"MontagePy version: {mp_ver}\")  # \n",
    "    except PackageNotFoundError:\n",
    "        print(\"MontagePy not found in this environment\")\n",
    "\n",
    "    multi_band  = Path(\"IC3392_DESI_grih.fits\")\n",
    "    reference   = Path(\"IC3392_SPATIAL_BINNING_maps.fits\")\n",
    "\n",
    "    cube = reproject_with_mProjExec(\n",
    "        multi_band_fits=multi_band,\n",
    "        reference_fits=reference\n",
    "    )\n",
    "    print(f\"\\nReprojection complete: stacked cube shape = {cube.shape}\")\n"
   ]
  },
  {
   "cell_type": "code",
   "execution_count": 2,
   "id": "00fc9ed4",
   "metadata": {},
   "outputs": [],
   "source": [
    "from MontagePy.main import mProject, mViewer"
   ]
  },
  {
   "cell_type": "code",
   "execution_count": 3,
   "id": "5a36c374",
   "metadata": {},
   "outputs": [
    {
     "name": "stdout",
     "output_type": "stream",
     "text": [
      "MontagePy version: 2.2.0\n"
     ]
    }
   ],
   "source": [
    "from importlib.metadata import version, PackageNotFoundError\n",
    "\n",
    "try:\n",
    "    mp_ver = version(\"MontagePy\")\n",
    "    print(\"MontagePy version:\", mp_ver)\n",
    "except PackageNotFoundError:\n",
    "    print(\"MontagePy is not installed\")\n"
   ]
  },
  {
   "cell_type": "code",
   "execution_count": 4,
   "id": "1c3a7bd1",
   "metadata": {},
   "outputs": [
    {
     "name": "stdout",
     "output_type": "stream",
     "text": [
      "MontagePy version: 2.2.0\n"
     ]
    },
    {
     "name": "stderr",
     "output_type": "stream",
     "text": [
      "/var/folders/rm/clp89v210v32vh5vjt2kx7b80000gr/T/ipykernel_62639/55126941.py:1: DeprecationWarning: pkg_resources is deprecated as an API. See https://setuptools.pypa.io/en/latest/pkg_resources.html\n",
      "  import pkg_resources\n"
     ]
    }
   ],
   "source": [
    "import pkg_resources\n",
    "\n",
    "mp_ver = pkg_resources.get_distribution(\"MontagePy\").version\n",
    "print(\"MontagePy version:\", mp_ver)\n"
   ]
  },
  {
   "cell_type": "code",
   "execution_count": null,
   "id": "648b21a2",
   "metadata": {},
   "outputs": [],
   "source": []
  },
  {
   "cell_type": "code",
   "execution_count": null,
   "id": "e1ecd595",
   "metadata": {},
   "outputs": [],
   "source": []
  }
 ],
 "metadata": {
  "kernelspec": {
   "display_name": "montage",
   "language": "python",
   "name": "python3"
  },
  "language_info": {
   "codemirror_mode": {
    "name": "ipython",
    "version": 3
   },
   "file_extension": ".py",
   "mimetype": "text/x-python",
   "name": "python",
   "nbconvert_exporter": "python",
   "pygments_lexer": "ipython3",
   "version": "3.12.10"
  }
 },
 "nbformat": 4,
 "nbformat_minor": 5
}
