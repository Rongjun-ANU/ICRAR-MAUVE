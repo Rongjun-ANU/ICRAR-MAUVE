{
 "cells": [
  {
   "cell_type": "code",
   "execution_count": 1,
   "id": "721a53f6",
   "metadata": {},
   "outputs": [],
   "source": [
    "from pathlib import Path\n",
    "import numpy as np\n",
    "import matplotlib.pyplot as plt\n",
    "from matplotlib.colors import LogNorm\n",
    "from urllib import request\n",
    "from scipy.interpolate import interp1d\n",
    "from mpl_toolkits.axes_grid1.inset_locator import inset_axes\n",
    "import speclite.filters as sp\n",
    "from speclite import filters\n",
    "from scipy.ndimage import sum_labels, mean\n",
    "\n",
    "\n",
    "from astropy.io import fits\n",
    "from astropy import units as u\n",
    "from astropy import constants as c\n",
    "from astropy.wcs import WCS\n",
    "from astropy.wcs.utils import proj_plane_pixel_scales\n",
    "\n",
    "from ppxf.ppxf import ppxf, rebin\n",
    "import ppxf.ppxf_util as util\n",
    "from ppxf import sps_util as lib\n",
    "\n",
    "import os\n",
    "import sys\n",
    "import glob"
   ]
  },
  {
   "cell_type": "code",
   "execution_count": 2,
   "id": "97c80922",
   "metadata": {},
   "outputs": [
    {
     "name": "stdout",
     "output_type": "stream",
     "text": [
      "Loading SFH map from IC3392_SFH_maps.fits\n"
     ]
    },
    {
     "data": {
      "text/plain": [
       "XTENSION= 'IMAGE   '           / Image extension                                \n",
       "BITPIX  =                  -64 / array data type                                \n",
       "NAXIS   =                    2 / number of array dimensions                     \n",
       "NAXIS1  =                  437                                                  \n",
       "NAXIS2  =                  438                                                  \n",
       "PCOUNT  =                    0 / number of parameters                           \n",
       "GCOUNT  =                    1 / number of groups                               \n",
       "WCSAXES =                    2 / Number of coordinate axes                      \n",
       "CRPIX1  =      216.43244136583 / Pixel coordinate of reference point            \n",
       "CRPIX2  =      219.93673592818 / Pixel coordinate of reference point            \n",
       "CDELT1  = -5.5555555555556E-05 / [deg] Coordinate increment at reference point  \n",
       "CDELT2  =  5.5555555555556E-05 / [deg] Coordinate increment at reference point  \n",
       "CUNIT1  = 'deg'                / Units of coordinate increment and value        \n",
       "CUNIT2  = 'deg'                / Units of coordinate increment and value        \n",
       "CTYPE1  = 'RA---TAN'           / Right ascension, gnomonic projection           \n",
       "CTYPE2  = 'DEC--TAN'           / Declination, gnomonic projection               \n",
       "CRVAL1  =      187.18130372552 / [deg] Coordinate value at reference point      \n",
       "CRVAL2  =      14.999457700201 / [deg] Coordinate value at reference point      \n",
       "LONPOLE =                180.0 / [deg] Native longitude of celestial pole       \n",
       "LATPOLE =      14.999457700201 / [deg] Native latitude of celestial pole        \n",
       "CSYER1  =    1.69760864415E-05 / [deg] Systematic error in coordinate           \n",
       "CSYER2  =    6.54379526381E-06 / [deg] Systematic error in coordinate           \n",
       "MJDREF  =                  0.0 / [d] MJD of fiducial time                       \n",
       "RADESYS = 'FK5'                / Equatorial coordinate system                   \n",
       "EQUINOX =               2000.0 / [yr] Equinox of equatorial coordinates         \n",
       "EXTNAME = 'EBV     '           / extension name                                 "
      ]
     },
     "execution_count": 2,
     "metadata": {},
     "output_type": "execute_result"
    }
   ],
   "source": [
    "# Load E(B-V) map from IC3392_SFH_maps.fits\n",
    "SFH_path = Path('IC3392_SFH_maps.fits')\n",
    "print(f\"Loading SFH map from {SFH_path}\")\n",
    "with fits.open(SFH_path) as hdul:\n",
    "    EBV = hdul['EBV'].data\n",
    "    EBV_header = hdul['EBV'].header\n",
    "\n",
    "EBV_header"
   ]
  },
  {
   "cell_type": "code",
   "execution_count": 3,
   "id": "51a5e32b",
   "metadata": {},
   "outputs": [
    {
     "name": "stdout",
     "output_type": "stream",
     "text": [
      "Loading gas line map from IC3392_gas_BIN_maps.fits\n"
     ]
    },
    {
     "data": {
      "text/plain": [
       "XTENSION= 'IMAGE   '           / Image extension                                \n",
       "BITPIX  =                  -64 / array data type                                \n",
       "NAXIS   =                    2 / number of array dimensions                     \n",
       "NAXIS1  =                  437                                                  \n",
       "NAXIS2  =                  438                                                  \n",
       "PCOUNT  =                    0 / number of parameters                           \n",
       "GCOUNT  =                    1 / number of groups                               \n",
       "WCSAXES =                    2 / Number of coordinate axes                      \n",
       "CRPIX1  =      216.43244136583 / Pixel coordinate of reference point            \n",
       "CRPIX2  =      219.93673592818 / Pixel coordinate of reference point            \n",
       "CDELT1  = -5.5555555555556E-05 / [deg] Coordinate increment at reference point  \n",
       "CDELT2  =  5.5555555555556E-05 / [deg] Coordinate increment at reference point  \n",
       "CUNIT1  = 'deg'                / Units of coordinate increment and value        \n",
       "CUNIT2  = 'deg'                / Units of coordinate increment and value        \n",
       "CTYPE1  = 'RA---TAN'           / Right ascension, gnomonic projection           \n",
       "CTYPE2  = 'DEC--TAN'           / Declination, gnomonic projection               \n",
       "CRVAL1  =      187.18130372552 / [deg] Coordinate value at reference point      \n",
       "CRVAL2  =      14.999457700201 / [deg] Coordinate value at reference point      \n",
       "LONPOLE =                180.0 / [deg] Native longitude of celestial pole       \n",
       "LATPOLE =      14.999457700201 / [deg] Native latitude of celestial pole        \n",
       "CSYER1  =    1.69760864415E-05 / [deg] Systematic error in coordinate           \n",
       "CSYER2  =    6.54379526381E-06 / [deg] Systematic error in coordinate           \n",
       "MJDREF  =                  0.0 / [d] MJD of fiducial time                       \n",
       "RADESYS = 'FK5'                / Equatorial coordinate system                   \n",
       "EQUINOX =               2000.0 / [yr] Equinox of equatorial coordinates         \n",
       "EXTNAME = 'HB4861_FLUX'        / extension name                                 "
      ]
     },
     "execution_count": 3,
     "metadata": {},
     "output_type": "execute_result"
    }
   ],
   "source": [
    "# Load gas line map IC3392_gas_BIN_maps.fits \n",
    "gas_path = Path('IC3392_gas_BIN_maps.fits')\n",
    "print(f\"Loading gas line map from {gas_path}\")\n",
    "with fits.open(gas_path) as hdul:\n",
    "    HB4861_FLUX = hdul['HB4861_FLUX'].data\n",
    "    HB4861_FLUX_ERR = hdul['HB4861_FLUX_ERR'].data\n",
    "    HA6562_FLUX = hdul['HA6562_FLUX'].data\n",
    "    HA6562_FLUX_ERR = hdul['HA6562_FLUX_ERR'].data\n",
    "    OIII5006_FLUX = hdul['OIII5006_FLUX'].data\n",
    "    OIII5006_FLUX_ERR = hdul['OIII5006_FLUX_ERR'].data\n",
    "    NII6583_FLUX = hdul['NII6583_FLUX'].data\n",
    "    NII6583_FLUX_ERR = hdul['NII6583_FLUX_ERR'].data\n",
    "    SII6716_FLUX = hdul['SII6716_FLUX'].data\n",
    "    SII6716_FLUX_ERR = hdul['SII6716_FLUX_ERR'].data\n",
    "    SII6730_FLUX = hdul['SII6730_FLUX'].data\n",
    "    SII6730_FLUX_ERR = hdul['SII6730_FLUX_ERR'].data\n",
    "    gas_header = hdul[5].header\n",
    "    hdul.close()\n",
    "\n",
    "gas_header"
   ]
  },
  {
   "cell_type": "code",
   "execution_count": 4,
   "id": "e4e70360",
   "metadata": {},
   "outputs": [
    {
     "name": "stdout",
     "output_type": "stream",
     "text": [
      "Lowest Balmer Decrement: 1.0401808450211778\n",
      "Highest Balmer Decrement: 9.36650837704988\n",
      "Lowest 5 unique non-NaN Balmer Decrement values: [1.04018085 2.65574445 2.82774723 3.09627082 3.22428465]\n"
     ]
    }
   ],
   "source": [
    "# Apply a first cut of FLUX/ERR ≥ 5 on every line, \n",
    "# at least 22 to get min BD>2.86\n",
    "# at least 15 to have all SF in BPT diagram\n",
    "cut = 15\n",
    "mask_HB = HB4861_FLUX / HB4861_FLUX_ERR >= cut\n",
    "mask_HA = HA6562_FLUX / HA6562_FLUX_ERR >= cut\n",
    "# Combine masks for both lines\n",
    "mask_combined = mask_HB & mask_HA\n",
    "# Apply the mask to the flux maps\n",
    "HB4861_FLUX_cut = np.where(mask_combined, HB4861_FLUX, np.nan)\n",
    "HA6562_FLUX_cut = np.where(mask_combined, HA6562_FLUX, np.nan)\n",
    "\n",
    "# Balmer-decrement map – H α/H β (start with all spaxels).\n",
    "BD = HA6562_FLUX_cut / HB4861_FLUX_cut\n",
    "\n",
    "# Print the lowest and highest values of the Balmer decrement map\n",
    "print(f\"Lowest Balmer Decrement: {np.nanmin(BD)}\")\n",
    "print(f\"Highest Balmer Decrement: {np.nanmax(BD)}\")\n",
    "# Print lowest 5 non-NaN values (unique values only)\n",
    "bd_valid = BD[~np.isnan(BD)]\n",
    "bd_unique = np.unique(bd_valid)\n",
    "lowest_5_unique = bd_unique[:5]\n",
    "print(f\"Lowest 5 unique non-NaN Balmer Decrement values: {lowest_5_unique}\")\n"
   ]
  },
  {
   "cell_type": "code",
   "execution_count": 5,
   "id": "49e85d49",
   "metadata": {},
   "outputs": [
    {
     "name": "stdout",
     "output_type": "stream",
     "text": [
      "Saved extended file to /Users/Igniz/Desktop/ICRAR/data/IC3392/IC3392_gas_BIN_maps_extended.fits\n"
     ]
    }
   ],
   "source": [
    "out_path = Path('IC3392_gas_BIN_maps_extended.fits')\n",
    "\n",
    "# 1) read the whole HDUList from disk\n",
    "with fits.open(gas_path) as hdul:\n",
    "    # 2) clone all existing HDUs into a new list\n",
    "    new_hdul = fits.HDUList([hdu.copy() for hdu in hdul])\n",
    "\n",
    "# 3) build the new Balmer Decrement image HDU\n",
    "BD_hdu = fits.ImageHDU(\n",
    "    data=BD.astype(np.float64), name=\"Balmer_Decrement\",)\n",
    "\n",
    "# 4) keep WCS and pixel-scale info by copying the original BINID header\n",
    "BD_hdu.header.update(gas_header)         # you created gas_hdr earlier\n",
    "BD_hdu.header[\"EXTNAME\"] = \"Balmer_Decrement\"\n",
    "BD_hdu.header[\"BUNIT\"]   = \"\"  # physical units\n",
    "\n",
    "# 5) append and write to disk\n",
    "new_hdul.append(BD_hdu)\n",
    "new_hdul.writeto(out_path, overwrite=True)\n",
    "\n",
    "print(f\"Saved extended file to {out_path.resolve()}\")"
   ]
  },
  {
   "cell_type": "code",
   "execution_count": null,
   "id": "56d759bb",
   "metadata": {},
   "outputs": [],
   "source": [
    "# O'Donnell (1994) update\n",
    "# k_Hb = 3.609   # 4861 Å\n",
    "# k_Ha = 2.535   # 6563 Å\n",
    "# Cardelli (2000)\n",
    "k_Hb = 4.598 \n",
    "k_Ha = 3.325\n",
    "R_int = 2.86\n",
    "\n",
    "E_BV_BD = 2.5/(k_Hb - k_Ha) * np.log10( (HA6562_FLUX_cut/HB4861_FLUX_cut) / R_int )"
   ]
  },
  {
   "cell_type": "code",
   "execution_count": 7,
   "id": "e90c61a5",
   "metadata": {},
   "outputs": [
    {
     "name": "stdout",
     "output_type": "stream",
     "text": [
      "E(B-V)_BD layer saved ➜ /Users/Igniz/Desktop/ICRAR/data/IC3392/IC3392_gas_BIN_maps_extended.fits\n"
     ]
    }
   ],
   "source": [
    "# -----------------------------------------------------------------\n",
    "# INPUTS already in memory\n",
    "#   logM_star      (438, 437)  float32   ← log10(M*/M☉) per spaxel\n",
    "#   gas_header    WCS header you copied from the BINID image\n",
    "#   out_path       Path(\"IC3392_SPATIAL_BINNING_maps_extended.fits\")\n",
    "# -----------------------------------------------------------------\n",
    "\n",
    "with fits.open(out_path, mode=\"append\") as hdul:             # open existing file\n",
    "    E_BV_BD_hdu = fits.ImageHDU(\n",
    "        data=E_BV_BD.astype(np.float64),  # like others\n",
    "        header=gas_header, name=\"E(B-V)_BD\")  # new HDU name\n",
    "    E_BV_BD_hdu.header[\"BUNIT\"] = \"\"  # units keyword\n",
    "    hdul.append(E_BV_BD_hdu)                                    # add as new HDU \n",
    "    hdul.flush()                                             # write in-place\n",
    "print(\"E(B-V)_BD layer saved ➜\", out_path.resolve())"
   ]
  },
  {
   "cell_type": "code",
   "execution_count": 8,
   "id": "b4a89ce4",
   "metadata": {},
   "outputs": [
    {
     "name": "stderr",
     "output_type": "stream",
     "text": [
      "/var/folders/rm/clp89v210v32vh5vjt2kx7b80000gr/T/ipykernel_19431/1770318249.py:4: RuntimeWarning: divide by zero encountered in divide\n",
      "  logO3  = np.log10(OIII5006_FLUX / HB4861_FLUX)       # [O III]/Hβ\n",
      "/var/folders/rm/clp89v210v32vh5vjt2kx7b80000gr/T/ipykernel_19431/1770318249.py:4: RuntimeWarning: invalid value encountered in divide\n",
      "  logO3  = np.log10(OIII5006_FLUX / HB4861_FLUX)       # [O III]/Hβ\n",
      "/var/folders/rm/clp89v210v32vh5vjt2kx7b80000gr/T/ipykernel_19431/1770318249.py:4: RuntimeWarning: divide by zero encountered in log10\n",
      "  logO3  = np.log10(OIII5006_FLUX / HB4861_FLUX)       # [O III]/Hβ\n"
     ]
    }
   ],
   "source": [
    "# ---- line ratios --------------------------------------------------\n",
    "logN2  = np.log10(NII6583_FLUX / HA6562_FLUX)        # [N II]/Hα\n",
    "logS2  = np.log10((SII6716_FLUX+SII6730_FLUX) / HA6562_FLUX)   # Σ[S II]/Hα\n",
    "logO3  = np.log10(OIII5006_FLUX / HB4861_FLUX)       # [O III]/Hβ         \n",
    "\n",
    "mask_N2 = NII6583_FLUX / NII6583_FLUX_ERR >= cut\n",
    "mask_S2 = (SII6716_FLUX + SII6730_FLUX) / (SII6716_FLUX_ERR + SII6730_FLUX_ERR) >= cut\n",
    "mask_O3 = OIII5006_FLUX / OIII5006_FLUX_ERR >= cut\n",
    "mask_combinedd = mask_combined & mask_N2 & mask_S2 & mask_O3\n",
    "\n",
    "logN2_cut = np.where(mask_combinedd, logN2, np.nan)\n",
    "logS2_cut = np.where(mask_combinedd, logS2, np.nan)\n",
    "logO3_cut = np.where(mask_combinedd, logO3, np.nan)"
   ]
  },
  {
   "cell_type": "code",
   "execution_count": 9,
   "id": "a09910ba",
   "metadata": {},
   "outputs": [
    {
     "name": "stdout",
     "output_type": "stream",
     "text": [
      "Number of spaxels in [N II] BPT regions:\n",
      "HII: 24964, Comp: 18537, AGN: 38568\n",
      "Number of spaxels in [S II] BPT regions:\n",
      "HII: 35249, Seyfert: 21591, LINER: 16269\n"
     ]
    }
   ],
   "source": [
    "#  N II BPT -----------------------------------------\n",
    "def kewley01_N2(x):   # max-starburst\n",
    "    return 0.61/(x-0.47) + 1.19\n",
    "def kauff03_N2(x):    # empirical SF upper envelope\n",
    "    return 0.61/(x-0.05) + 1.30                            \n",
    "\n",
    "#  S II BPT -----------------------------------------\n",
    "def kewley01_S2(x):\n",
    "    return 0.72/(x-0.32) + 1.30                           \n",
    "def kewley06_Sy_LIN(x):   # Seyfert/LINER division\n",
    "    return 1.89*x + 0.76        \n",
    "\n",
    "# Count the number of spaxels in each region\n",
    "N2_HII = logO3 <= kauff03_N2(logN2)\n",
    "N2_Comp = (logO3 > kauff03_N2(logN2)) & (logO3 <= kewley01_N2(logN2))\n",
    "N2_AGN = logO3 > kewley01_N2(logN2)\n",
    "S2_HII = logO3 <= kewley01_S2(logS2)\n",
    "S2_Seyfert = (logO3 > kewley01_S2(logS2)) & (logO3 > kewley06_Sy_LIN(logS2))\n",
    "S2_LINER = (logO3 > kewley01_S2(logS2)) & (logO3 <= kewley06_Sy_LIN(logS2))\n",
    "# Count the number of spaxels in each region\n",
    "N2_HII_count = np.sum(N2_HII)\n",
    "N2_Comp_count = np.sum(N2_Comp)\n",
    "N2_AGN_count = np.sum(N2_AGN)\n",
    "S2_HII_count = np.sum(S2_HII)\n",
    "S2_Seyfert_count = np.sum(S2_Seyfert)\n",
    "S2_LINER_count = np.sum(S2_LINER)\n",
    "print(f\"Number of spaxels in [N II] BPT regions:\")\n",
    "print(f\"HII: {N2_HII_count}, Comp: {N2_Comp_count}, AGN: {N2_AGN_count}\")\n",
    "print(f\"Number of spaxels in [S II] BPT regions:\")\n",
    "print(f\"HII: {S2_HII_count}, Seyfert: {S2_Seyfert_count}, LINER: {S2_LINER_count}\")"
   ]
  },
  {
   "cell_type": "code",
   "execution_count": 10,
   "id": "3399bb83",
   "metadata": {},
   "outputs": [],
   "source": [
    "# Purely SF spaxels in both BPT diagram\n",
    "mask_SF = (N2_HII+N2_Comp) & (S2_HII)\n",
    "# Apply the mask to the Halpha flux map\n",
    "HA6562_FLUX_SF = np.where(mask_SF, HA6562_FLUX_cut, np.nan)"
   ]
  },
  {
   "cell_type": "code",
   "execution_count": 11,
   "id": "11b0a2c7",
   "metadata": {},
   "outputs": [],
   "source": [
    "# Corrected Halpha map with E(B-V) from gas lines\n",
    "HA6562_FLUX_corr = HA6562_FLUX_cut * 10**(0.4 * k_Ha * E_BV_BD)"
   ]
  },
  {
   "cell_type": "code",
   "execution_count": 12,
   "id": "d8507e95",
   "metadata": {},
   "outputs": [],
   "source": [
    "HA6562_FLUX_SF_corr = HA6562_FLUX_SF * 10**(0.4 * k_Ha * E_BV_BD)"
   ]
  },
  {
   "cell_type": "code",
   "execution_count": 13,
   "id": "838ba339",
   "metadata": {},
   "outputs": [
    {
     "name": "stdout",
     "output_type": "stream",
     "text": [
      "Total corrected Hα Luminosity: 2.70e+40 erg / s erg/s\n",
      "Total Hα Luminosity: 7.42e+39 erg / s \n",
      "Total corrected Hα Luminosity for purely SF spaxels: 2.70e+40 erg / s \n",
      "Total corrected log Hα Luminosity: 6.85 L_sun\n",
      "Total corrected log Hα Luminosity for purely SF spaxels: 6.85 L_sun\n"
     ]
    }
   ],
   "source": [
    "# Convert the corrected Halpha map ($10^{-20}erg/(s cm^2)$) to luminosity (erg/s)\n",
    "def flux_to_luminosity(flux, distance=16.5):\n",
    "    \"\"\"\n",
    "    Convert flux to luminosity.\n",
    "    \n",
    "    Parameters:\n",
    "    flux : array-like\n",
    "        Flux in erg/(s * Angstrom * cm^2).\n",
    "    distance : float\n",
    "        Distance in parsecs.\n",
    "        \n",
    "    Returns:\n",
    "    luminosity : array-like\n",
    "        Luminosity in erg/s.\n",
    "    \"\"\"\n",
    "    return (flux*1e-20*u.erg/u.s/u.cm**2 * 4*np.pi*(distance*u.Mpc)**2).cgs\n",
    "\n",
    "HA6562_Luminosity_corr = flux_to_luminosity(HA6562_FLUX_corr)\n",
    "HA6562_Luminosity = flux_to_luminosity(HA6562_FLUX)\n",
    "HA6562_Luminosity_SF_corr = flux_to_luminosity(HA6562_FLUX_SF_corr)\n",
    "total_HA6562_Luminosity_corr = np.nansum(HA6562_Luminosity_corr)\n",
    "total_HA6562_Luminosity = np.nansum(HA6562_Luminosity)\n",
    "total_HA6562_Luminosity_SF_corr = np.nansum(HA6562_Luminosity_SF_corr)\n",
    "log_halpha_corr = np.log10(HA6562_Luminosity_corr/c.L_sun.cgs)\n",
    "total_log_halpha_corr = np.log10(total_HA6562_Luminosity_corr/c.L_sun.cgs)\n",
    "total_log_halpha_SF_corr = np.log10(total_HA6562_Luminosity_SF_corr/c.L_sun.cgs)\n",
    "print(f\"Total corrected Hα Luminosity: {total_HA6562_Luminosity_corr:.2e} erg/s\")\n",
    "print(f\"Total Hα Luminosity: {total_HA6562_Luminosity:.2e} \")\n",
    "print(f\"Total corrected Hα Luminosity for purely SF spaxels: {total_HA6562_Luminosity_SF_corr:.2e} \")\n",
    "print(f\"Total corrected log Hα Luminosity: {total_log_halpha_corr:.2f} L_sun\")\n",
    "print(f\"Total corrected log Hα Luminosity for purely SF spaxels: {total_log_halpha_SF_corr:.2f} L_sun\")"
   ]
  },
  {
   "cell_type": "code",
   "execution_count": 14,
   "id": "e58062f5",
   "metadata": {},
   "outputs": [
    {
     "name": "stdout",
     "output_type": "stream",
     "text": [
      "Corrected Halpha luminosity from SF layer saved ➜ /Users/Igniz/Desktop/ICRAR/data/IC3392/IC3392_gas_BIN_maps_extended.fits\n"
     ]
    }
   ],
   "source": [
    "# -----------------------------------------------------------------\n",
    "# INPUTS already in memory\n",
    "#   logM_star      (438, 437)  float32   ← log10(M*/M☉) per spaxel\n",
    "#   gas_header    WCS header you copied from the BINID image\n",
    "#   out_path       Path(\"IC3392_SPATIAL_BINNING_maps_extended.fits\")\n",
    "# -----------------------------------------------------------------\n",
    "\n",
    "with fits.open(out_path, mode=\"append\") as hdul:             # open existing file\n",
    "    HA6562_Luminosity_SF_corr_hdu = fits.ImageHDU(\n",
    "        data=HA6562_Luminosity_SF_corr.value.astype(np.float64),  # like others\n",
    "        header=gas_header, name=\"Halpha_Luminosity_SF_corr\")  # new HDU name\n",
    "    HA6562_Luminosity_SF_corr_hdu.header[\"BUNIT\"] = \"erg/s\"  # units keyword\n",
    "    hdul.append(HA6562_Luminosity_SF_corr_hdu)                                    # add as 10-th HDU \n",
    "    hdul.flush()                                             # write in-place\n",
    "print(\"Corrected Halpha luminosity from SF layer saved ➜\", out_path.resolve())"
   ]
  },
  {
   "cell_type": "code",
   "execution_count": 15,
   "id": "e843a3d3",
   "metadata": {},
   "outputs": [
    {
     "name": "stdout",
     "output_type": "stream",
     "text": [
      "Total SFR from corrected Hα Luminosity: 0.13 M_sun/yr or log(SFR) = -0.87 M_sun/yr\n",
      "Total SFR from corrected Hα Luminosity for purely SF spaxels: 0.13 M_sun/yr or log(SFR) = -0.87 M_sun/yr\n"
     ]
    }
   ],
   "source": [
    "# SFR map from Halpha luminosity, using Calzetti 2007\n",
    "def calzetti_sfr(luminosity):\n",
    "    \"\"\"\n",
    "    Convert Halpha luminosity to SFR using Calzetti 2007.\n",
    "    But it is assuming the Kroupa IMF, \n",
    "    so we need to times a coefficient to go to Chabrier IMF.\n",
    "    \n",
    "    Parameters:\n",
    "    luminosity : array-like\n",
    "        Halpha luminosity in erg/s.\n",
    "        \n",
    "    Returns:\n",
    "    sfr : array-like\n",
    "        Star formation rate in solar masses per year.\n",
    "    \"\"\"\n",
    "    return 5.3e-42 * luminosity.cgs.value / 0.67 *0.63 # SFR in M_sun/yr\n",
    "HA6562_SFR_corr = calzetti_sfr(HA6562_Luminosity_corr)\n",
    "total_HA6562_SFR_corr = calzetti_sfr(total_HA6562_Luminosity_corr)\n",
    "HA6562_SFR_SF_corr = calzetti_sfr(HA6562_Luminosity_SF_corr)\n",
    "total_HA6562_SFR_SF_corr = calzetti_sfr(total_HA6562_Luminosity_SF_corr)\n",
    "\n",
    "# Print the total SFR in the map\n",
    "print(f\"Total SFR from corrected Hα Luminosity: {total_HA6562_SFR_corr:.2f} M_sun/yr or log(SFR) = {np.log10(total_HA6562_SFR_corr):.2f} M_sun/yr\")\n",
    "print(f\"Total SFR from corrected Hα Luminosity for purely SF spaxels: {total_HA6562_SFR_SF_corr:.2f} M_sun/yr or log(SFR) = {np.log10(total_HA6562_SFR_SF_corr):.2f} M_sun/yr\")"
   ]
  },
  {
   "cell_type": "code",
   "execution_count": 16,
   "id": "b906692d",
   "metadata": {},
   "outputs": [
    {
     "name": "stdout",
     "output_type": "stream",
     "text": [
      "Corrected Halpha SFR from SF layer saved ➜ /Users/Igniz/Desktop/ICRAR/data/IC3392/IC3392_gas_BIN_maps_extended.fits\n"
     ]
    }
   ],
   "source": [
    "# -----------------------------------------------------------------\n",
    "# INPUTS already in memory\n",
    "#   logM_star      (438, 437)  float32   ← log10(M*/M☉) per spaxel\n",
    "#   gas_header    WCS header you copied from the BINID image\n",
    "#   out_path       Path(\"IC3392_SPATIAL_BINNING_maps_extended.fits\")\n",
    "# -----------------------------------------------------------------\n",
    "\n",
    "with fits.open(out_path, mode=\"append\") as hdul:             # open existing file\n",
    "    HA6562_SFR_SF_corr_hdu = fits.ImageHDU(\n",
    "        data=HA6562_SFR_SF_corr.astype(np.float64),  # like others\n",
    "        header=gas_header, name=\"Halpha_SFR_SF_corr\")  # new HDU name\n",
    "    HA6562_SFR_SF_corr_hdu.header[\"BUNIT\"] = \"M_sun/yr\"  # units keyword\n",
    "    hdul.append(HA6562_SFR_SF_corr_hdu)                                    # add as 10-th HDU \n",
    "    hdul.flush()                                             # write in-place\n",
    "print(\"Corrected Halpha SFR from SF layer saved ➜\", out_path.resolve())"
   ]
  },
  {
   "cell_type": "code",
   "execution_count": 17,
   "id": "f1e30981",
   "metadata": {},
   "outputs": [],
   "source": [
    "# Getting the SFR surface density \n",
    "# Convert to surface density in M☉/pc²\n",
    "# 1. Convert pixel area to physical area in pc²\n",
    "legacy_wcs2 = WCS(gas_header).celestial  # strip spectral axis\n",
    "pixel_scale = (proj_plane_pixel_scales(legacy_wcs2) * u.deg).to(u.arcsec)\n",
    "pixel_area_Mpc = ((pixel_scale[0]).to(u.rad).value*16.5*u.Mpc)*(((pixel_scale[1]).to(u.rad).value*16.5*u.Mpc))\n",
    "pixel_area_kpc = pixel_area_Mpc.to(u.kpc**2)\n",
    "# 2. Convert SFR to surface density\n",
    "SFR_surface_density = HA6562_SFR_SF_corr / pixel_area_kpc  # M☉/yr/kpc²\n",
    "# 3. Convert to log10 scale\n",
    "log_SFR_surface_density = np.log10(SFR_surface_density.value)"
   ]
  },
  {
   "cell_type": "code",
   "execution_count": 18,
   "id": "18f43975",
   "metadata": {},
   "outputs": [
    {
     "name": "stdout",
     "output_type": "stream",
     "text": [
      "Corrected Halpha SFR surface density from SF layer saved ➜ /Users/Igniz/Desktop/ICRAR/data/IC3392/IC3392_gas_BIN_maps_extended.fits\n"
     ]
    }
   ],
   "source": [
    "# -----------------------------------------------------------------\n",
    "# INPUTS already in memory\n",
    "#   logM_star      (438, 437)  float32   ← log10(M*/M☉) per spaxel\n",
    "#   gas_header    WCS header you copied from the BINID image\n",
    "#   out_path       Path(\"IC3392_SPATIAL_BINNING_maps_extended.fits\")\n",
    "# -----------------------------------------------------------------\n",
    "\n",
    "with fits.open(out_path, mode=\"append\") as hdul:             # open existing file\n",
    "    log_SFR_surface_density_hdu = fits.ImageHDU(\n",
    "        data=log_SFR_surface_density.astype(np.float64),  # like others\n",
    "        header=gas_header, name=\"LOGSFR_SURFACE_DENSITY\")  # new HDU name\n",
    "    log_SFR_surface_density_hdu.header[\"BUNIT\"] = \"log(M_sun/yr/kpc2)\"  # units keyword\n",
    "    hdul.append(log_SFR_surface_density_hdu)                                    # add as 10-th HDU \n",
    "    hdul.flush()                                             # write in-place\n",
    "print(\"Corrected Halpha SFR surface density from SF layer saved ➜\", out_path.resolve())"
   ]
  },
  {
   "cell_type": "code",
   "execution_count": null,
   "id": "d86a00ba",
   "metadata": {},
   "outputs": [],
   "source": []
  }
 ],
 "metadata": {
  "kernelspec": {
   "display_name": "ICRAR",
   "language": "python",
   "name": "python3"
  },
  "language_info": {
   "codemirror_mode": {
    "name": "ipython",
    "version": 3
   },
   "file_extension": ".py",
   "mimetype": "text/x-python",
   "name": "python",
   "nbconvert_exporter": "python",
   "pygments_lexer": "ipython3",
   "version": "3.13.3"
  }
 },
 "nbformat": 4,
 "nbformat_minor": 5
}
