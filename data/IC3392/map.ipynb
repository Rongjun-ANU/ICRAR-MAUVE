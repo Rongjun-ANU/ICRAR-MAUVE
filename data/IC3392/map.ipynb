{
 "cells": [
  {
   "cell_type": "code",
   "execution_count": 1,
   "id": "ed62f8a3",
   "metadata": {},
   "outputs": [],
   "source": [
    "from pathlib import Path\n",
    "import numpy as np\n",
    "import matplotlib.pyplot as plt\n",
    "from urllib import request\n",
    "from scipy.interpolate import interp1d\n",
    "from mpl_toolkits.axes_grid1.inset_locator import inset_axes\n",
    "\n",
    "\n",
    "from astropy.io import fits\n",
    "from astropy import units as u\n",
    "from astropy import constants as c\n",
    "\n",
    "from ppxf.ppxf import ppxf, rebin\n",
    "import ppxf.ppxf_util as util\n",
    "from ppxf import sps_util as lib\n",
    "\n",
    "import os\n",
    "import sys\n",
    "import glob"
   ]
  },
  {
   "cell_type": "markdown",
   "id": "8f18902f",
   "metadata": {},
   "source": [
    "I have attached the current output of the nGIST run we did for the current version of the data products. The spatial binning map provide you - for every spaxel - the number of voronoi bin they belong to. The sfh weights includes two extension the \"GRID\" one includes the grid in age and metallicity used for the fit and the \"WEIGHTS\" one includes the weights associated to all the models for each of the bins. Your task is to use these info to construct a map of M/L for IC3392."
   ]
  },
  {
   "cell_type": "code",
   "execution_count": 2,
   "id": "bd46fb7e",
   "metadata": {},
   "outputs": [],
   "source": [
    "# # Load IC3392 raw data\n",
    "# # --------- file location (edit if needed) ----------\n",
    "# cube_path = Path(\"IC3392_DATACUBE_FINAL_WCS_Pall_mad_red_v3.fits\")\n",
    "# print(\"Loading:\", cube_path.resolve())\n",
    "\n",
    "# with fits.open(cube_path) as hdul:\n",
    "#     # Check the file structure\n",
    "#     print(hdul.info())\n",
    "#     data = hdul[\"DATA\"].data.astype(np.float32)   # (nz, ny, nx)\n",
    "#     stat = hdul[\"STAT\"].data.astype(np.float32)\n",
    "#     dq   = hdul[\"DQ\"].data.astype(np.uint8)\n",
    "#     hdr  = hdul[\"DATA\"].header\n",
    "#     hdul.close()\n",
    "\n",
    "# nz, ny, nx = data.shape\n",
    "# print(f\"Cube dimensions  →  nz = {nz},  ny = {ny},  nx = {nx}\")\n",
    "# hdr\n"
   ]
  },
  {
   "cell_type": "code",
   "execution_count": 3,
   "id": "03cb2b09",
   "metadata": {},
   "outputs": [
    {
     "name": "stdout",
     "output_type": "stream",
     "text": [
      "Loading: /Users/maclaptop29/Desktop/ICRAR/data/IC3392/IC3392_SPATIAL_BINNING_maps.fits\n",
      "Filename: IC3392_SPATIAL_BINNING_maps.fits\n",
      "No.    Name      Ver    Type      Cards   Dimensions   Format\n",
      "  0  PRIMARY       1 PrimaryHDU       4   ()      \n",
      "  1  BINID         1 ImageHDU        26   (437, 438)   float64   \n",
      "  2  FLUX          1 ImageHDU        26   (437, 438)   float64   \n",
      "  3  SNR           1 ImageHDU        26   (437, 438)   float64   \n",
      "  4  SNRBIN        1 ImageHDU        26   (437, 438)   float64   \n",
      "  5  XBIN          1 ImageHDU        26   (437, 438)   float64   \n",
      "  6  YBIN          1 ImageHDU        26   (437, 438)   float64   \n",
      "None\n"
     ]
    },
    {
     "data": {
      "text/plain": [
       "XTENSION= 'IMAGE   '           / Image extension                                \n",
       "BITPIX  =                  -64 / array data type                                \n",
       "NAXIS   =                    2 / number of array dimensions                     \n",
       "NAXIS1  =                  437                                                  \n",
       "NAXIS2  =                  438                                                  \n",
       "PCOUNT  =                    0 / number of parameters                           \n",
       "GCOUNT  =                    1 / number of groups                               \n",
       "WCSAXES =                    2 / Number of coordinate axes                      \n",
       "CRPIX1  =      216.43244136583 / Pixel coordinate of reference point            \n",
       "CRPIX2  =      219.93673592818 / Pixel coordinate of reference point            \n",
       "CDELT1  = -5.5555555555556E-05 / [deg] Coordinate increment at reference point  \n",
       "CDELT2  =  5.5555555555556E-05 / [deg] Coordinate increment at reference point  \n",
       "CUNIT1  = 'deg'                / Units of coordinate increment and value        \n",
       "CUNIT2  = 'deg'                / Units of coordinate increment and value        \n",
       "CTYPE1  = 'RA---TAN'           / Right ascension, gnomonic projection           \n",
       "CTYPE2  = 'DEC--TAN'           / Declination, gnomonic projection               \n",
       "CRVAL1  =      187.18130372552 / [deg] Coordinate value at reference point      \n",
       "CRVAL2  =      14.999457700201 / [deg] Coordinate value at reference point      \n",
       "LONPOLE =                180.0 / [deg] Native longitude of celestial pole       \n",
       "LATPOLE =      14.999457700201 / [deg] Native latitude of celestial pole        \n",
       "CSYER1  =    1.69760864415E-05 / [deg] Systematic error in coordinate           \n",
       "CSYER2  =    6.54379526381E-06 / [deg] Systematic error in coordinate           \n",
       "MJDREF  =                  0.0 / [d] MJD of fiducial time                       \n",
       "RADESYS = 'FK5'                / Equatorial coordinate system                   \n",
       "EQUINOX =               2000.0 / [yr] Equinox of equatorial coordinates         \n",
       "EXTNAME = 'BINID   '           / extension name                                 "
      ]
     },
     "execution_count": 3,
     "metadata": {},
     "output_type": "execute_result"
    }
   ],
   "source": [
    "# Load spatial binning map IC3392_individual.fits \n",
    "# --------- file location (edit if needed) ----------\n",
    "binning_path = Path(\"IC3392_SPATIAL_BINNING_maps.fits\")\n",
    "print(\"Loading:\", binning_path.resolve())\n",
    "with fits.open(binning_path) as hdul:\n",
    "    # check data structure and header\n",
    "    print(hdul.info())\n",
    "    binning_primary = hdul[0]\n",
    "    binning_BINID   = hdul[1].data\n",
    "    binning_FLUX    = hdul[2].data\n",
    "    binning_SNR     = hdul[3].data\n",
    "    binning_SNRBIN  = hdul[4].data\n",
    "    binning_XBIN    = hdul[5].data\n",
    "    binning_YBIN    = hdul[6].data\n",
    "    binning_hdr     = hdul[1].header\n",
    "    hdul.close()\n",
    "\n",
    "binning_hdr\n"
   ]
  },
  {
   "cell_type": "code",
   "execution_count": 4,
   "id": "09c204d1",
   "metadata": {},
   "outputs": [
    {
     "data": {
      "text/plain": [
       "(np.float64(0.0), np.float64(4076.0))"
      ]
     },
     "execution_count": 4,
     "metadata": {},
     "output_type": "execute_result"
    }
   ],
   "source": [
    "np.nanmin(binning_BINID), np.nanmax(binning_BINID),"
   ]
  },
  {
   "cell_type": "code",
   "execution_count": 5,
   "id": "ddddd6d5",
   "metadata": {},
   "outputs": [
    {
     "data": {
      "text/plain": [
       "(np.float64(-31.299767981438762), np.float64(34.50190476190504))"
      ]
     },
     "execution_count": 5,
     "metadata": {},
     "output_type": "execute_result"
    }
   ],
   "source": [
    "np.nanmin(binning_XBIN), np.nanmax(binning_XBIN),"
   ]
  },
  {
   "cell_type": "code",
   "execution_count": 6,
   "id": "11719bea",
   "metadata": {},
   "outputs": [
    {
     "name": "stdout",
     "output_type": "stream",
     "text": [
      "Loading: /Users/maclaptop29/Desktop/ICRAR/data/IC3392/IC3392_sfh-weights.fits\n",
      "Filename: IC3392_sfh-weights.fits\n",
      "No.    Name      Ver    Type      Cards   Dimensions   Format\n",
      "  0  PRIMARY       1 PrimaryHDU      23   ()      \n",
      "  1  WEIGHTS       1 BinTableHDU     27   4077R x 1C   [477D]   \n",
      "  2  GRID          1 BinTableHDU     31   477R x 3C   [D, D, D]   \n",
      "None\n"
     ]
    },
    {
     "data": {
      "text/plain": [
       "XTENSION= 'BINTABLE'           / binary table extension                         \n",
       "BITPIX  =                    8 / array data type                                \n",
       "NAXIS   =                    2 / number of array dimensions                     \n",
       "NAXIS1  =                   24 / length of dimension 1                          \n",
       "NAXIS2  =                  477 / length of dimension 2                          \n",
       "PCOUNT  =                    0 / number of group parameters                     \n",
       "GCOUNT  =                    1 / number of groups                               \n",
       "TFIELDS =                    3 / number of table fields                         \n",
       "TTYPE1  = 'LOGAGE  '                                                            \n",
       "TFORM1  = 'D       '                                                            \n",
       "TTYPE2  = 'METAL   '                                                            \n",
       "TFORM2  = 'D       '                                                            \n",
       "TTYPE3  = 'ALPHA   '                                                            \n",
       "TFORM3  = 'D       '                                                            \n",
       "EXTNAME = 'GRID    '           / extension name                                 \n",
       "METHOD  = 'ppxf    '                                                            \n",
       "LMIN    =                 4800                                                  \n",
       "LMAX    =                 7000                                                  \n",
       "HIERARCH SPEC_MASK = 'specMask_KIN'                                             \n",
       "HIERARCH SPEC_EMICLEAN = F                                                      \n",
       "MOM     =                    4                                                  \n",
       "MDEG    =                   12                                                  \n",
       "HIERARCH REGUL_ERR = 10000                                                      \n",
       "NOISE   =                  1.0                                                  \n",
       "FIXED   =                    T                                                  \n",
       "MC_PPXF =                    0                                                  \n",
       "LSF_TEMP= 'lsf_MILES'                                                           \n",
       "HIERARCH TEMPLATE_SET = 'miles   '                                              \n",
       "LIBRARY = 'MILES_safe/'                                                         \n",
       "HIERARCH NORM_TEMP = 'LIGHT   '                                                 \n",
       "DOCLEAN =                    T                                                  "
      ]
     },
     "execution_count": 6,
     "metadata": {},
     "output_type": "execute_result"
    }
   ],
   "source": [
    "# Load SFH and weights data IC3392_sfh-weights.fits\n",
    "# --------- file location (edit if needed) ----------\n",
    "sfh_path = Path(\"IC3392_sfh-weights.fits\")\n",
    "print(\"Loading:\", sfh_path.resolve())\n",
    "with fits.open(sfh_path) as hdul:\n",
    "    # check data structure and header\n",
    "    print(hdul.info())\n",
    "    weights_data = hdul[1].data\n",
    "    grid_data = hdul[2].data\n",
    "    weights_hdr  = hdul[1].header\n",
    "    grid_hdr  = hdul[2].header\n",
    "\n",
    "    hdul.close()\n",
    "# weights_hdr\n",
    "grid_hdr"
   ]
  },
  {
   "cell_type": "code",
   "execution_count": 7,
   "id": "8c545d44",
   "metadata": {},
   "outputs": [
    {
     "data": {
      "text/plain": [
       "XTENSION= 'BINTABLE'           / binary table extension                         \n",
       "BITPIX  =                    8 / array data type                                \n",
       "NAXIS   =                    2 / number of array dimensions                     \n",
       "NAXIS1  =                 3816 / length of dimension 1                          \n",
       "NAXIS2  =                 4077 / length of dimension 2                          \n",
       "PCOUNT  =                    0 / number of group parameters                     \n",
       "GCOUNT  =                    1 / number of groups                               \n",
       "TFIELDS =                    1 / number of table fields                         \n",
       "TTYPE1  = 'WEIGHTS '                                                            \n",
       "TFORM1  = '477D    '                                                            \n",
       "EXTNAME = 'WEIGHTS '           / extension name                                 \n",
       "METHOD  = 'ppxf    '                                                            \n",
       "LMIN    =                 4800                                                  \n",
       "LMAX    =                 7000                                                  \n",
       "HIERARCH SPEC_MASK = 'specMask_KIN'                                             \n",
       "HIERARCH SPEC_EMICLEAN = F                                                      \n",
       "MOM     =                    4                                                  \n",
       "MDEG    =                   12                                                  \n",
       "HIERARCH REGUL_ERR = 10000                                                      \n",
       "NOISE   =                  1.0                                                  \n",
       "FIXED   =                    T                                                  \n",
       "MC_PPXF =                    0                                                  \n",
       "LSF_TEMP= 'lsf_MILES'                                                           \n",
       "HIERARCH TEMPLATE_SET = 'miles   '                                              \n",
       "LIBRARY = 'MILES_safe/'                                                         \n",
       "HIERARCH NORM_TEMP = 'LIGHT   '                                                 \n",
       "DOCLEAN =                    T                                                  "
      ]
     },
     "execution_count": 7,
     "metadata": {},
     "output_type": "execute_result"
    }
   ],
   "source": [
    "weights_hdr"
   ]
  },
  {
   "cell_type": "code",
   "execution_count": 8,
   "id": "ff66a4db",
   "metadata": {},
   "outputs": [
    {
     "data": {
      "text/plain": [
       "(4077,)"
      ]
     },
     "execution_count": 8,
     "metadata": {},
     "output_type": "execute_result"
    }
   ],
   "source": [
    "weights_data.shape"
   ]
  },
  {
   "cell_type": "code",
   "execution_count": 9,
   "id": "88f05c36",
   "metadata": {},
   "outputs": [
    {
     "data": {
      "text/plain": [
       "477"
      ]
     },
     "execution_count": 9,
     "metadata": {},
     "output_type": "execute_result"
    }
   ],
   "source": [
    "len(weights_data[1][0])"
   ]
  },
  {
   "cell_type": "code",
   "execution_count": 10,
   "id": "d13e43bd",
   "metadata": {},
   "outputs": [
    {
     "data": {
      "text/plain": [
       "FITS_rec([(-1.52287875, -1.49, 0.), (-1.52287875, -1.26, 0.),\n",
       "          (-1.52287875, -0.96, 0.), (-1.52287875, -0.66, 0.),\n",
       "          (-1.52287875, -0.35, 0.), (-1.52287875, -0.25, 0.),\n",
       "          (-1.52287875,  0.06, 0.), (-1.52287875,  0.15, 0.),\n",
       "          (-1.52287875,  0.26, 0.), (-1.39794001, -1.49, 0.),\n",
       "          (-1.39794001, -1.26, 0.), (-1.39794001, -0.96, 0.),\n",
       "          (-1.39794001, -0.66, 0.), (-1.39794001, -0.35, 0.),\n",
       "          (-1.39794001, -0.25, 0.), (-1.39794001,  0.06, 0.),\n",
       "          (-1.39794001,  0.15, 0.), (-1.39794001,  0.26, 0.),\n",
       "          (-1.30103   , -1.49, 0.), (-1.30103   , -1.26, 0.),\n",
       "          (-1.30103   , -0.96, 0.), (-1.30103   , -0.66, 0.),\n",
       "          (-1.30103   , -0.35, 0.), (-1.30103   , -0.25, 0.),\n",
       "          (-1.30103   ,  0.06, 0.), (-1.30103   ,  0.15, 0.),\n",
       "          (-1.30103   ,  0.26, 0.), (-1.22184875, -1.49, 0.),\n",
       "          (-1.22184875, -1.26, 0.), (-1.22184875, -0.96, 0.),\n",
       "          (-1.22184875, -0.66, 0.), (-1.22184875, -0.35, 0.),\n",
       "          (-1.22184875, -0.25, 0.), (-1.22184875,  0.06, 0.),\n",
       "          (-1.22184875,  0.15, 0.), (-1.22184875,  0.26, 0.),\n",
       "          (-1.15490196, -1.49, 0.), (-1.15490196, -1.26, 0.),\n",
       "          (-1.15490196, -0.96, 0.), (-1.15490196, -0.66, 0.),\n",
       "          (-1.15490196, -0.35, 0.), (-1.15490196, -0.25, 0.),\n",
       "          (-1.15490196,  0.06, 0.), (-1.15490196,  0.15, 0.),\n",
       "          (-1.15490196,  0.26, 0.), (-1.09691001, -1.49, 0.),\n",
       "          (-1.09691001, -1.26, 0.), (-1.09691001, -0.96, 0.),\n",
       "          (-1.09691001, -0.66, 0.), (-1.09691001, -0.35, 0.),\n",
       "          (-1.09691001, -0.25, 0.), (-1.09691001,  0.06, 0.),\n",
       "          (-1.09691001,  0.15, 0.), (-1.09691001,  0.26, 0.),\n",
       "          (-1.04575749, -1.49, 0.), (-1.04575749, -1.26, 0.),\n",
       "          (-1.04575749, -0.96, 0.), (-1.04575749, -0.66, 0.),\n",
       "          (-1.04575749, -0.35, 0.), (-1.04575749, -0.25, 0.),\n",
       "          (-1.04575749,  0.06, 0.), (-1.04575749,  0.15, 0.),\n",
       "          (-1.04575749,  0.26, 0.), (-1.        , -1.49, 0.),\n",
       "          (-1.        , -1.26, 0.), (-1.        , -0.96, 0.),\n",
       "          (-1.        , -0.66, 0.), (-1.        , -0.35, 0.),\n",
       "          (-1.        , -0.25, 0.), (-1.        ,  0.06, 0.),\n",
       "          (-1.        ,  0.15, 0.), (-1.        ,  0.26, 0.),\n",
       "          (-0.82390874, -1.49, 0.), (-0.82390874, -1.26, 0.),\n",
       "          (-0.82390874, -0.96, 0.), (-0.82390874, -0.66, 0.),\n",
       "          (-0.82390874, -0.35, 0.), (-0.82390874, -0.25, 0.),\n",
       "          (-0.82390874,  0.06, 0.), (-0.82390874,  0.15, 0.),\n",
       "          (-0.82390874,  0.26, 0.), (-0.69897   , -1.49, 0.),\n",
       "          (-0.69897   , -1.26, 0.), (-0.69897   , -0.96, 0.),\n",
       "          (-0.69897   , -0.66, 0.), (-0.69897   , -0.35, 0.),\n",
       "          (-0.69897   , -0.25, 0.), (-0.69897   ,  0.06, 0.),\n",
       "          (-0.69897   ,  0.15, 0.), (-0.69897   ,  0.26, 0.),\n",
       "          (-0.60205999, -1.49, 0.), (-0.60205999, -1.26, 0.),\n",
       "          (-0.60205999, -0.96, 0.), (-0.60205999, -0.66, 0.),\n",
       "          (-0.60205999, -0.35, 0.), (-0.60205999, -0.25, 0.),\n",
       "          (-0.60205999,  0.06, 0.), (-0.60205999,  0.15, 0.),\n",
       "          (-0.60205999,  0.26, 0.), (-0.52287875, -1.49, 0.),\n",
       "          (-0.52287875, -1.26, 0.), (-0.52287875, -0.96, 0.),\n",
       "          (-0.52287875, -0.66, 0.), (-0.52287875, -0.35, 0.),\n",
       "          (-0.52287875, -0.25, 0.), (-0.52287875,  0.06, 0.),\n",
       "          (-0.52287875,  0.15, 0.), (-0.52287875,  0.26, 0.),\n",
       "          (-0.45593196, -1.49, 0.), (-0.45593196, -1.26, 0.),\n",
       "          (-0.45593196, -0.96, 0.), (-0.45593196, -0.66, 0.),\n",
       "          (-0.45593196, -0.35, 0.), (-0.45593196, -0.25, 0.),\n",
       "          (-0.45593196,  0.06, 0.), (-0.45593196,  0.15, 0.),\n",
       "          (-0.45593196,  0.26, 0.), (-0.39794001, -1.49, 0.),\n",
       "          (-0.39794001, -1.26, 0.), (-0.39794001, -0.96, 0.),\n",
       "          (-0.39794001, -0.66, 0.), (-0.39794001, -0.35, 0.),\n",
       "          (-0.39794001, -0.25, 0.), (-0.39794001,  0.06, 0.),\n",
       "          (-0.39794001,  0.15, 0.), (-0.39794001,  0.26, 0.),\n",
       "          (-0.34678749, -1.49, 0.), (-0.34678749, -1.26, 0.),\n",
       "          (-0.34678749, -0.96, 0.), (-0.34678749, -0.66, 0.),\n",
       "          (-0.34678749, -0.35, 0.), (-0.34678749, -0.25, 0.),\n",
       "          (-0.34678749,  0.06, 0.), (-0.34678749,  0.15, 0.),\n",
       "          (-0.34678749,  0.26, 0.), (-0.30103   , -1.49, 0.),\n",
       "          (-0.30103   , -1.26, 0.), (-0.30103   , -0.96, 0.),\n",
       "          (-0.30103   , -0.66, 0.), (-0.30103   , -0.35, 0.),\n",
       "          (-0.30103   , -0.25, 0.), (-0.30103   ,  0.06, 0.),\n",
       "          (-0.30103   ,  0.15, 0.), (-0.30103   ,  0.26, 0.),\n",
       "          (-0.22184875, -1.49, 0.), (-0.22184875, -1.26, 0.),\n",
       "          (-0.22184875, -0.96, 0.), (-0.22184875, -0.66, 0.),\n",
       "          (-0.22184875, -0.35, 0.), (-0.22184875, -0.25, 0.),\n",
       "          (-0.22184875,  0.06, 0.), (-0.22184875,  0.15, 0.),\n",
       "          (-0.22184875,  0.26, 0.), (-0.15490196, -1.49, 0.),\n",
       "          (-0.15490196, -1.26, 0.), (-0.15490196, -0.96, 0.),\n",
       "          (-0.15490196, -0.66, 0.), (-0.15490196, -0.35, 0.),\n",
       "          (-0.15490196, -0.25, 0.), (-0.15490196,  0.06, 0.),\n",
       "          (-0.15490196,  0.15, 0.), (-0.15490196,  0.26, 0.),\n",
       "          (-0.09691001, -1.49, 0.), (-0.09691001, -1.26, 0.),\n",
       "          (-0.09691001, -0.96, 0.), (-0.09691001, -0.66, 0.),\n",
       "          (-0.09691001, -0.35, 0.), (-0.09691001, -0.25, 0.),\n",
       "          (-0.09691001,  0.06, 0.), (-0.09691001,  0.15, 0.),\n",
       "          (-0.09691001,  0.26, 0.), (-0.04575749, -1.49, 0.),\n",
       "          (-0.04575749, -1.26, 0.), (-0.04575749, -0.96, 0.),\n",
       "          (-0.04575749, -0.66, 0.), (-0.04575749, -0.35, 0.),\n",
       "          (-0.04575749, -0.25, 0.), (-0.04575749,  0.06, 0.),\n",
       "          (-0.04575749,  0.15, 0.), (-0.04575749,  0.26, 0.),\n",
       "          ( 0.        , -1.49, 0.), ( 0.        , -1.26, 0.),\n",
       "          ( 0.        , -0.96, 0.), ( 0.        , -0.66, 0.),\n",
       "          ( 0.        , -0.35, 0.), ( 0.        , -0.25, 0.),\n",
       "          ( 0.        ,  0.06, 0.), ( 0.        ,  0.15, 0.),\n",
       "          ( 0.        ,  0.26, 0.), ( 0.09691001, -1.49, 0.),\n",
       "          ( 0.09691001, -1.26, 0.), ( 0.09691001, -0.96, 0.),\n",
       "          ( 0.09691001, -0.66, 0.), ( 0.09691001, -0.35, 0.),\n",
       "          ( 0.09691001, -0.25, 0.), ( 0.09691001,  0.06, 0.),\n",
       "          ( 0.09691001,  0.15, 0.), ( 0.09691001,  0.26, 0.),\n",
       "          ( 0.17609126, -1.49, 0.), ( 0.17609126, -1.26, 0.),\n",
       "          ( 0.17609126, -0.96, 0.), ( 0.17609126, -0.66, 0.),\n",
       "          ( 0.17609126, -0.35, 0.), ( 0.17609126, -0.25, 0.),\n",
       "          ( 0.17609126,  0.06, 0.), ( 0.17609126,  0.15, 0.),\n",
       "          ( 0.17609126,  0.26, 0.), ( 0.24303805, -1.49, 0.),\n",
       "          ( 0.24303805, -1.26, 0.), ( 0.24303805, -0.96, 0.),\n",
       "          ( 0.24303805, -0.66, 0.), ( 0.24303805, -0.35, 0.),\n",
       "          ( 0.24303805, -0.25, 0.), ( 0.24303805,  0.06, 0.),\n",
       "          ( 0.24303805,  0.15, 0.), ( 0.24303805,  0.26, 0.),\n",
       "          ( 0.30103   , -1.49, 0.), ( 0.30103   , -1.26, 0.),\n",
       "          ( 0.30103   , -0.96, 0.), ( 0.30103   , -0.66, 0.),\n",
       "          ( 0.30103   , -0.35, 0.), ( 0.30103   , -0.25, 0.),\n",
       "          ( 0.30103   ,  0.06, 0.), ( 0.30103   ,  0.15, 0.),\n",
       "          ( 0.30103   ,  0.26, 0.), ( 0.35218252, -1.49, 0.),\n",
       "          ( 0.35218252, -1.26, 0.), ( 0.35218252, -0.96, 0.),\n",
       "          ( 0.35218252, -0.66, 0.), ( 0.35218252, -0.35, 0.),\n",
       "          ( 0.35218252, -0.25, 0.), ( 0.35218252,  0.06, 0.),\n",
       "          ( 0.35218252,  0.15, 0.), ( 0.35218252,  0.26, 0.),\n",
       "          ( 0.39794001, -1.49, 0.), ( 0.39794001, -1.26, 0.),\n",
       "          ( 0.39794001, -0.96, 0.), ( 0.39794001, -0.66, 0.),\n",
       "          ( 0.39794001, -0.35, 0.), ( 0.39794001, -0.25, 0.),\n",
       "          ( 0.39794001,  0.06, 0.), ( 0.39794001,  0.15, 0.),\n",
       "          ( 0.39794001,  0.26, 0.), ( 0.43933269, -1.49, 0.),\n",
       "          ( 0.43933269, -1.26, 0.), ( 0.43933269, -0.96, 0.),\n",
       "          ( 0.43933269, -0.66, 0.), ( 0.43933269, -0.35, 0.),\n",
       "          ( 0.43933269, -0.25, 0.), ( 0.43933269,  0.06, 0.),\n",
       "          ( 0.43933269,  0.15, 0.), ( 0.43933269,  0.26, 0.),\n",
       "          ( 0.47712125, -1.49, 0.), ( 0.47712125, -1.26, 0.),\n",
       "          ( 0.47712125, -0.96, 0.), ( 0.47712125, -0.66, 0.),\n",
       "          ( 0.47712125, -0.35, 0.), ( 0.47712125, -0.25, 0.),\n",
       "          ( 0.47712125,  0.06, 0.), ( 0.47712125,  0.15, 0.),\n",
       "          ( 0.47712125,  0.26, 0.), ( 0.51188336, -1.49, 0.),\n",
       "          ( 0.51188336, -1.26, 0.), ( 0.51188336, -0.96, 0.),\n",
       "          ( 0.51188336, -0.66, 0.), ( 0.51188336, -0.35, 0.),\n",
       "          ( 0.51188336, -0.25, 0.), ( 0.51188336,  0.06, 0.),\n",
       "          ( 0.51188336,  0.15, 0.), ( 0.51188336,  0.26, 0.),\n",
       "          ( 0.54406804, -1.49, 0.), ( 0.54406804, -1.26, 0.),\n",
       "          ( 0.54406804, -0.96, 0.), ( 0.54406804, -0.66, 0.),\n",
       "          ( 0.54406804, -0.35, 0.), ( 0.54406804, -0.25, 0.),\n",
       "          ( 0.54406804,  0.06, 0.), ( 0.54406804,  0.15, 0.),\n",
       "          ( 0.54406804,  0.26, 0.), ( 0.57403127, -1.49, 0.),\n",
       "          ( 0.57403127, -1.26, 0.), ( 0.57403127, -0.96, 0.),\n",
       "          ( 0.57403127, -0.66, 0.), ( 0.57403127, -0.35, 0.),\n",
       "          ( 0.57403127, -0.25, 0.), ( 0.57403127,  0.06, 0.),\n",
       "          ( 0.57403127,  0.15, 0.), ( 0.57403127,  0.26, 0.),\n",
       "          ( 0.60205999, -1.49, 0.), ( 0.60205999, -1.26, 0.),\n",
       "          ( 0.60205999, -0.96, 0.), ( 0.60205999, -0.66, 0.),\n",
       "          ( 0.60205999, -0.35, 0.), ( 0.60205999, -0.25, 0.),\n",
       "          ( 0.60205999,  0.06, 0.), ( 0.60205999,  0.15, 0.),\n",
       "          ( 0.60205999,  0.26, 0.), ( 0.65321251, -1.49, 0.),\n",
       "          ( 0.65321251, -1.26, 0.), ( 0.65321251, -0.96, 0.),\n",
       "          ( 0.65321251, -0.66, 0.), ( 0.65321251, -0.35, 0.),\n",
       "          ( 0.65321251, -0.25, 0.), ( 0.65321251,  0.06, 0.),\n",
       "          ( 0.65321251,  0.15, 0.), ( 0.65321251,  0.26, 0.),\n",
       "          ( 0.69897   , -1.49, 0.), ( 0.69897   , -1.26, 0.),\n",
       "          ( 0.69897   , -0.96, 0.), ( 0.69897   , -0.66, 0.),\n",
       "          ( 0.69897   , -0.35, 0.), ( 0.69897   , -0.25, 0.),\n",
       "          ( 0.69897   ,  0.06, 0.), ( 0.69897   ,  0.15, 0.),\n",
       "          ( 0.69897   ,  0.26, 0.), ( 0.74036269, -1.49, 0.),\n",
       "          ( 0.74036269, -1.26, 0.), ( 0.74036269, -0.96, 0.),\n",
       "          ( 0.74036269, -0.66, 0.), ( 0.74036269, -0.35, 0.),\n",
       "          ( 0.74036269, -0.25, 0.), ( 0.74036269,  0.06, 0.),\n",
       "          ( 0.74036269,  0.15, 0.), ( 0.74036269,  0.26, 0.),\n",
       "          ( 0.77815125, -1.49, 0.), ( 0.77815125, -1.26, 0.),\n",
       "          ( 0.77815125, -0.96, 0.), ( 0.77815125, -0.66, 0.),\n",
       "          ( 0.77815125, -0.35, 0.), ( 0.77815125, -0.25, 0.),\n",
       "          ( 0.77815125,  0.06, 0.), ( 0.77815125,  0.15, 0.),\n",
       "          ( 0.77815125,  0.26, 0.), ( 0.81291336, -1.49, 0.),\n",
       "          ( 0.81291336, -1.26, 0.), ( 0.81291336, -0.96, 0.),\n",
       "          ( 0.81291336, -0.66, 0.), ( 0.81291336, -0.35, 0.),\n",
       "          ( 0.81291336, -0.25, 0.), ( 0.81291336,  0.06, 0.),\n",
       "          ( 0.81291336,  0.15, 0.), ( 0.81291336,  0.26, 0.),\n",
       "          ( 0.84509804, -1.49, 0.), ( 0.84509804, -1.26, 0.),\n",
       "          ( 0.84509804, -0.96, 0.), ( 0.84509804, -0.66, 0.),\n",
       "          ( 0.84509804, -0.35, 0.), ( 0.84509804, -0.25, 0.),\n",
       "          ( 0.84509804,  0.06, 0.), ( 0.84509804,  0.15, 0.),\n",
       "          ( 0.84509804,  0.26, 0.), ( 0.87506126, -1.49, 0.),\n",
       "          ( 0.87506126, -1.26, 0.), ( 0.87506126, -0.96, 0.),\n",
       "          ( 0.87506126, -0.66, 0.), ( 0.87506126, -0.35, 0.),\n",
       "          ( 0.87506126, -0.25, 0.), ( 0.87506126,  0.06, 0.),\n",
       "          ( 0.87506126,  0.15, 0.), ( 0.87506126,  0.26, 0.),\n",
       "          ( 0.90308999, -1.49, 0.), ( 0.90308999, -1.26, 0.),\n",
       "          ( 0.90308999, -0.96, 0.), ( 0.90308999, -0.66, 0.),\n",
       "          ( 0.90308999, -0.35, 0.), ( 0.90308999, -0.25, 0.),\n",
       "          ( 0.90308999,  0.06, 0.), ( 0.90308999,  0.15, 0.),\n",
       "          ( 0.90308999,  0.26, 0.), ( 0.92941893, -1.49, 0.),\n",
       "          ( 0.92941893, -1.26, 0.), ( 0.92941893, -0.96, 0.),\n",
       "          ( 0.92941893, -0.66, 0.), ( 0.92941893, -0.35, 0.),\n",
       "          ( 0.92941893, -0.25, 0.), ( 0.92941893,  0.06, 0.),\n",
       "          ( 0.92941893,  0.15, 0.), ( 0.92941893,  0.26, 0.),\n",
       "          ( 0.95424251, -1.49, 0.), ( 0.95424251, -1.26, 0.),\n",
       "          ( 0.95424251, -0.96, 0.), ( 0.95424251, -0.66, 0.),\n",
       "          ( 0.95424251, -0.35, 0.), ( 0.95424251, -0.25, 0.),\n",
       "          ( 0.95424251,  0.06, 0.), ( 0.95424251,  0.15, 0.),\n",
       "          ( 0.95424251,  0.26, 0.), ( 0.97772361, -1.49, 0.),\n",
       "          ( 0.97772361, -1.26, 0.), ( 0.97772361, -0.96, 0.),\n",
       "          ( 0.97772361, -0.66, 0.), ( 0.97772361, -0.35, 0.),\n",
       "          ( 0.97772361, -0.25, 0.), ( 0.97772361,  0.06, 0.),\n",
       "          ( 0.97772361,  0.15, 0.), ( 0.97772361,  0.26, 0.),\n",
       "          ( 1.        , -1.49, 0.), ( 1.        , -1.26, 0.),\n",
       "          ( 1.        , -0.96, 0.), ( 1.        , -0.66, 0.),\n",
       "          ( 1.        , -0.35, 0.), ( 1.        , -0.25, 0.),\n",
       "          ( 1.        ,  0.06, 0.), ( 1.        ,  0.15, 0.),\n",
       "          ( 1.        ,  0.26, 0.), ( 1.0211893 , -1.49, 0.),\n",
       "          ( 1.0211893 , -1.26, 0.), ( 1.0211893 , -0.96, 0.),\n",
       "          ( 1.0211893 , -0.66, 0.), ( 1.0211893 , -0.35, 0.),\n",
       "          ( 1.0211893 , -0.25, 0.), ( 1.0211893 ,  0.06, 0.),\n",
       "          ( 1.0211893 ,  0.15, 0.), ( 1.0211893 ,  0.26, 0.),\n",
       "          ( 1.04139269, -1.49, 0.), ( 1.04139269, -1.26, 0.),\n",
       "          ( 1.04139269, -0.96, 0.), ( 1.04139269, -0.66, 0.),\n",
       "          ( 1.04139269, -0.35, 0.), ( 1.04139269, -0.25, 0.),\n",
       "          ( 1.04139269,  0.06, 0.), ( 1.04139269,  0.15, 0.),\n",
       "          ( 1.04139269,  0.26, 0.), ( 1.06069784, -1.49, 0.),\n",
       "          ( 1.06069784, -1.26, 0.), ( 1.06069784, -0.96, 0.),\n",
       "          ( 1.06069784, -0.66, 0.), ( 1.06069784, -0.35, 0.),\n",
       "          ( 1.06069784, -0.25, 0.), ( 1.06069784,  0.06, 0.),\n",
       "          ( 1.06069784,  0.15, 0.), ( 1.06069784,  0.26, 0.),\n",
       "          ( 1.07918125, -1.49, 0.), ( 1.07918125, -1.26, 0.),\n",
       "          ( 1.07918125, -0.96, 0.), ( 1.07918125, -0.66, 0.),\n",
       "          ( 1.07918125, -0.35, 0.), ( 1.07918125, -0.25, 0.),\n",
       "          ( 1.07918125,  0.06, 0.), ( 1.07918125,  0.15, 0.),\n",
       "          ( 1.07918125,  0.26, 0.), ( 1.09691001, -1.49, 0.),\n",
       "          ( 1.09691001, -1.26, 0.), ( 1.09691001, -0.96, 0.),\n",
       "          ( 1.09691001, -0.66, 0.), ( 1.09691001, -0.35, 0.),\n",
       "          ( 1.09691001, -0.25, 0.), ( 1.09691001,  0.06, 0.),\n",
       "          ( 1.09691001,  0.15, 0.), ( 1.09691001,  0.26, 0.),\n",
       "          ( 1.11394335, -1.49, 0.), ( 1.11394335, -1.26, 0.),\n",
       "          ( 1.11394335, -0.96, 0.), ( 1.11394335, -0.66, 0.),\n",
       "          ( 1.11394335, -0.35, 0.), ( 1.11394335, -0.25, 0.),\n",
       "          ( 1.11394335,  0.06, 0.), ( 1.11394335,  0.15, 0.),\n",
       "          ( 1.11394335,  0.26, 0.), ( 1.13033377, -1.49, 0.),\n",
       "          ( 1.13033377, -1.26, 0.), ( 1.13033377, -0.96, 0.),\n",
       "          ( 1.13033377, -0.66, 0.), ( 1.13033377, -0.35, 0.),\n",
       "          ( 1.13033377, -0.25, 0.), ( 1.13033377,  0.06, 0.),\n",
       "          ( 1.13033377,  0.15, 0.), ( 1.13033377,  0.26, 0.),\n",
       "          ( 1.14612804, -1.49, 0.), ( 1.14612804, -1.26, 0.),\n",
       "          ( 1.14612804, -0.96, 0.), ( 1.14612804, -0.66, 0.),\n",
       "          ( 1.14612804, -0.35, 0.), ( 1.14612804, -0.25, 0.),\n",
       "          ( 1.14612804,  0.06, 0.), ( 1.14612804,  0.15, 0.),\n",
       "          ( 1.14612804,  0.26, 0.)],\n",
       "         dtype=(numpy.record, [('LOGAGE', '>f8'), ('METAL', '>f8'), ('ALPHA', '>f8')]))"
      ]
     },
     "execution_count": 10,
     "metadata": {},
     "output_type": "execute_result"
    }
   ],
   "source": [
    "grid_data"
   ]
  },
  {
   "cell_type": "code",
   "execution_count": 11,
   "id": "21818480",
   "metadata": {},
   "outputs": [
    {
     "data": {
      "image/png": "[encoded data removed]",
      "text/plain": [
       "<Figure size 1000x500 with 2 Axes>"
      ]
     },
     "metadata": {},
     "output_type": "display_data"
    }
   ],
   "source": [
    "import numpy as np\n",
    "import matplotlib.pyplot as plt\n",
    "from matplotlib.colors import LinearSegmentedColormap\n",
    "\n",
    "# weights_data is your numpy array of shape (477,)\n",
    "# grid_data is your FITS_rec array with LOGAGE, METAL, ALPHA values\n",
    "\n",
    "# Extract unique log ages and metallicities from grid_data\n",
    "log_ages = np.unique(grid_data['LOGAGE'])\n",
    "metallicities = np.unique(grid_data['METAL'])\n",
    "\n",
    "# Create a 2D grid to store the light fraction values\n",
    "light_fraction = np.zeros((len(metallicities), len(log_ages)))\n",
    "\n",
    "# Create a dictionary mapping (LOGAGE, METAL) tuples to indices in the grid_data\n",
    "grid_indices = {(row['LOGAGE'], row['METAL']): i for i, row in enumerate(grid_data)}\n",
    "\n",
    "# Fill the grid with light fraction values\n",
    "for log_age_idx, log_age in enumerate(log_ages):\n",
    "    for metal_idx, metal in enumerate(metallicities):\n",
    "        key = (log_age, metal)\n",
    "        if key in grid_indices:\n",
    "            idx = grid_indices[key]\n",
    "            if idx < len(weights_data[0][0]):  # Ensure index is within bounds\n",
    "                light_fraction[metal_idx, log_age_idx] = weights_data[4076][0][idx]\n",
    "\n",
    "# Create the figure and axis\n",
    "fig, ax = plt.subplots(figsize=(10, 5))\n",
    "\n",
    "# Determine extent based on the data ranges\n",
    "x_min, x_max = min(log_ages), max(log_ages)\n",
    "y_min, y_max = min(metallicities), max(metallicities)\n",
    "\n",
    "# Plot the heatmap\n",
    "im = ax.imshow(light_fraction, origin='lower', aspect='auto',\n",
    "              extent=[x_min, x_max, y_min, y_max],\n",
    "              vmin=0, vmax=0.2)\n",
    "\n",
    "# Set axis labels and title\n",
    "ax.set_xlabel('lg Age (yr)')\n",
    "ax.set_ylabel('[M/H]')\n",
    "ax.set_title('Light Fraction')\n",
    "\n",
    "# Add colorbar\n",
    "cbar = fig.colorbar(im, ax=ax)\n",
    "cbar.set_label('Light Fraction')\n",
    "\n",
    "# Set axis ticks\n",
    "x_ticks = np.arange(np.floor(x_min * 2) / 2, np.ceil(x_max * 2) / 2 + 0.1, 0.5)\n",
    "ax.set_xticks(x_ticks)\n",
    "ax.set_yticks([-1.5, -1.0, -0.5, 0.0])\n",
    "\n",
    "# Add grid\n",
    "ax.grid(color='white', linestyle='--', linewidth=0.5, alpha=0.3)\n",
    "\n",
    "ax.set_xlim(np.min(log_ages), np.max(log_ages))\n",
    "ax.set_ylim(np.min(metallicities), np.max(metallicities))\n",
    "\n",
    "plt.tight_layout()\n",
    "# plt.savefig('light_fraction_heatmap.png', dpi=300)\n",
    "plt.show()"
   ]
  },
  {
   "cell_type": "code",
   "execution_count": 12,
   "id": "8cc74a66",
   "metadata": {},
   "outputs": [
    {
     "data": {
      "text/plain": [
       "((53,), (9,))"
      ]
     },
     "execution_count": 12,
     "metadata": {},
     "output_type": "execute_result"
    }
   ],
   "source": [
    "log_ages.shape, metallicities.shape"
   ]
  },
  {
   "cell_type": "code",
   "execution_count": 13,
   "id": "47fbe9fb",
   "metadata": {},
   "outputs": [
    {
     "data": {
      "text/plain": [
       "(4800, 7000)"
      ]
     },
     "execution_count": 13,
     "metadata": {},
     "output_type": "execute_result"
    }
   ],
   "source": [
    "weights_hdr['LMIN'], weights_hdr['LMAX']"
   ]
  },
  {
   "cell_type": "code",
   "execution_count": 14,
   "id": "63f11173",
   "metadata": {},
   "outputs": [
    {
     "data": {
      "text/plain": [
       "array([ 0.03,  0.04,  0.05,  0.06,  0.07,  0.08,  0.09,  0.1 ,  0.15,\n",
       "        0.2 ,  0.25,  0.3 ,  0.35,  0.4 ,  0.45,  0.5 ,  0.6 ,  0.7 ,\n",
       "        0.8 ,  0.9 ,  1.  ,  1.25,  1.5 ,  1.75,  2.  ,  2.25,  2.5 ,\n",
       "        2.75,  3.  ,  3.25,  3.5 ,  3.75,  4.  ,  4.5 ,  5.  ,  5.5 ,\n",
       "        6.  ,  6.5 ,  7.  ,  7.5 ,  8.  ,  8.5 ,  9.  ,  9.5 , 10.  ,\n",
       "       10.5 , 11.  , 11.5 , 12.  , 12.5 , 13.  , 13.5 , 14.  ])"
      ]
     },
     "execution_count": 14,
     "metadata": {},
     "output_type": "execute_result"
    }
   ],
   "source": [
    "10**log_ages"
   ]
  },
  {
   "cell_type": "code",
   "execution_count": 15,
   "id": "884f993f",
   "metadata": {},
   "outputs": [],
   "source": [
    "import numpy as np\n",
    "from pathlib import Path\n",
    "\n",
    "# ---------- 2.1  Column names (from HEADER_out_phot) ----------\n",
    "names = [\n",
    "    'IMF','slope','MH','Age','U','B','V','R','I','J','H','K',\n",
    "    'UminusV','BminusV','VminusR','VminusI','VminusJ','VminusH','VminusK',\n",
    "    'ML_U','ML_B','ML_V','ML_R','ML_I','ML_J','ML_H','ML_K',\n",
    "    'F439W','F555W','F675W','F814W','C439_555','C555_675','C555_814'\n",
    "]\n",
    "\n",
    "fname = Path(\"BaSTI+Chabrier.dat\")\n",
    "\n",
    "# ---------- 2.2  Load data, skip the two header lines ----------\n",
    "tbl = np.genfromtxt(\n",
    "    fname, dtype=None, encoding=None, names=names,\n",
    "    comments='#', skip_header=2, autostrip=True\n",
    ")                                  # :contentReference[oaicite:2]{index=2}\n",
    "\n",
    "# ---------- 2.3  Keep only Chabrier rows ----------\n",
    "mask = (tbl['IMF'] == 'Ch')\n",
    "phot = tbl[mask]\n"
   ]
  },
  {
   "cell_type": "code",
   "execution_count": 16,
   "id": "09048d8b",
   "metadata": {},
   "outputs": [],
   "source": [
    "# --- 3.1  Build a lookup dict keyed by (logAge, MH) rounded to 2 dec —--\n",
    "key_ml = {}\n",
    "\n",
    "for row in phot:\n",
    "    age_gyr = round(row['Age'], 2)                     # e.g. 0.03 → 0.03\n",
    "    mh_dex  = round(row['MH'],  2)                     # e.g. –2.27 → –2.27\n",
    "    mlr     = row['ML_R']                   # keep 2 dp as requested\n",
    "    key_ml[(age_gyr, mh_dex)] = mlr\n"
   ]
  },
  {
   "cell_type": "code",
   "execution_count": 17,
   "id": "900813ed",
   "metadata": {},
   "outputs": [],
   "source": [
    "\n",
    "grid = grid_data  # the FITS_rec you already loaded\n",
    "\n",
    "# --- 4.1  Prepare new array with an extra ML_R column -------------\n",
    "mlr_values = np.full(len(grid), np.nan, dtype=np.float32)\n",
    "\n",
    "for i, (logage, mh, _) in enumerate(grid):\n",
    "    age_gyr = round(10**logage, 2)   # yrs → Gyr, 2 dp\n",
    "    mh_dex  = round(mh, 2)                 # already dex\n",
    "    mlr_values[i] = key_ml.get((age_gyr, mh_dex), np.nan)\n",
    "\n",
    "# --- 4.2  Build a new structured array including ML_R -------------\n",
    "ml_dtype = grid.dtype.descr + [('ML_R', 'f4')]\n",
    "grid_mlr  = np.empty(len(grid), dtype=ml_dtype)\n",
    "\n",
    "for name in grid.dtype.names:\n",
    "    grid_mlr[name] = grid[name]\n",
    "grid_mlr['ML_R'] = mlr_values\n"
   ]
  },
  {
   "cell_type": "code",
   "execution_count": 18,
   "id": "c26ac77c",
   "metadata": {},
   "outputs": [
    {
     "data": {
      "text/plain": [
       "{(np.float64(0.03), np.float64(-2.27)): np.float64(0.129),\n",
       " (np.float64(0.04), np.float64(-2.27)): np.float64(0.144),\n",
       " (np.float64(0.05), np.float64(-2.27)): np.float64(0.157),\n",
       " (np.float64(0.06), np.float64(-2.27)): np.float64(0.165),\n",
       " (np.float64(0.07), np.float64(-2.27)): np.float64(0.172),\n",
       " (np.float64(0.08), np.float64(-2.27)): np.float64(0.163),\n",
       " (np.float64(0.09), np.float64(-2.27)): np.float64(0.151),\n",
       " (np.float64(0.1), np.float64(-2.27)): np.float64(0.12),\n",
       " (np.float64(0.15), np.float64(-2.27)): np.float64(0.147),\n",
       " (np.float64(0.2), np.float64(-2.27)): np.float64(0.162),\n",
       " (np.float64(0.25), np.float64(-2.27)): np.float64(0.176),\n",
       " (np.float64(0.3), np.float64(-2.27)): np.float64(0.192),\n",
       " (np.float64(0.35), np.float64(-2.27)): np.float64(0.203),\n",
       " (np.float64(0.4), np.float64(-2.27)): np.float64(0.215),\n",
       " (np.float64(0.45), np.float64(-2.27)): np.float64(0.229),\n",
       " (np.float64(0.5), np.float64(-2.27)): np.float64(0.238),\n",
       " (np.float64(0.6), np.float64(-2.27)): np.float64(0.26),\n",
       " (np.float64(0.7), np.float64(-2.27)): np.float64(0.286),\n",
       " (np.float64(0.8), np.float64(-2.27)): np.float64(0.299),\n",
       " (np.float64(0.9), np.float64(-2.27)): np.float64(0.282),\n",
       " (np.float64(1.0), np.float64(-2.27)): np.float64(0.289),\n",
       " (np.float64(1.25), np.float64(-2.27)): np.float64(0.361),\n",
       " (np.float64(1.5), np.float64(-2.27)): np.float64(0.421),\n",
       " (np.float64(1.75), np.float64(-2.27)): np.float64(0.47),\n",
       " (np.float64(2.0), np.float64(-2.27)): np.float64(0.507),\n",
       " (np.float64(2.25), np.float64(-2.27)): np.float64(0.55),\n",
       " (np.float64(2.5), np.float64(-2.27)): np.float64(0.597),\n",
       " (np.float64(2.75), np.float64(-2.27)): np.float64(0.631),\n",
       " (np.float64(3.0), np.float64(-2.27)): np.float64(0.67),\n",
       " (np.float64(3.25), np.float64(-2.27)): np.float64(0.704),\n",
       " (np.float64(3.5), np.float64(-2.27)): np.float64(0.735),\n",
       " (np.float64(3.75), np.float64(-2.27)): np.float64(0.767),\n",
       " (np.float64(4.0), np.float64(-2.27)): np.float64(0.807),\n",
       " (np.float64(4.5), np.float64(-2.27)): np.float64(0.876),\n",
       " (np.float64(5.0), np.float64(-2.27)): np.float64(0.94),\n",
       " (np.float64(5.5), np.float64(-2.27)): np.float64(1.007),\n",
       " (np.float64(6.0), np.float64(-2.27)): np.float64(1.091),\n",
       " (np.float64(6.5), np.float64(-2.27)): np.float64(1.153),\n",
       " (np.float64(7.0), np.float64(-2.27)): np.float64(1.215),\n",
       " (np.float64(7.5), np.float64(-2.27)): np.float64(1.277),\n",
       " (np.float64(8.0), np.float64(-2.27)): np.float64(1.339),\n",
       " (np.float64(8.5), np.float64(-2.27)): np.float64(1.389),\n",
       " (np.float64(9.0), np.float64(-2.27)): np.float64(1.444),\n",
       " (np.float64(9.5), np.float64(-2.27)): np.float64(1.5),\n",
       " (np.float64(10.0), np.float64(-2.27)): np.float64(1.558),\n",
       " (np.float64(10.5), np.float64(-2.27)): np.float64(1.618),\n",
       " (np.float64(11.0), np.float64(-2.27)): np.float64(1.672),\n",
       " (np.float64(11.5), np.float64(-2.27)): np.float64(1.726),\n",
       " (np.float64(12.0), np.float64(-2.27)): np.float64(1.78),\n",
       " (np.float64(12.5), np.float64(-2.27)): np.float64(1.845),\n",
       " (np.float64(13.0), np.float64(-2.27)): np.float64(1.902),\n",
       " (np.float64(13.5), np.float64(-2.27)): np.float64(1.952),\n",
       " (np.float64(14.0), np.float64(-2.27)): np.float64(2.003),\n",
       " (np.float64(0.03), np.float64(-1.79)): np.float64(0.099),\n",
       " (np.float64(0.04), np.float64(-1.79)): np.float64(0.111),\n",
       " (np.float64(0.05), np.float64(-1.79)): np.float64(0.122),\n",
       " (np.float64(0.06), np.float64(-1.79)): np.float64(0.131),\n",
       " (np.float64(0.07), np.float64(-1.79)): np.float64(0.136),\n",
       " (np.float64(0.08), np.float64(-1.79)): np.float64(0.133),\n",
       " (np.float64(0.09), np.float64(-1.79)): np.float64(0.125),\n",
       " (np.float64(0.1), np.float64(-1.79)): np.float64(0.117),\n",
       " (np.float64(0.15), np.float64(-1.79)): np.float64(0.136),\n",
       " (np.float64(0.2), np.float64(-1.79)): np.float64(0.156),\n",
       " (np.float64(0.25), np.float64(-1.79)): np.float64(0.171),\n",
       " (np.float64(0.3), np.float64(-1.79)): np.float64(0.189),\n",
       " (np.float64(0.35), np.float64(-1.79)): np.float64(0.202),\n",
       " (np.float64(0.4), np.float64(-1.79)): np.float64(0.214),\n",
       " (np.float64(0.45), np.float64(-1.79)): np.float64(0.231),\n",
       " (np.float64(0.5), np.float64(-1.79)): np.float64(0.242),\n",
       " (np.float64(0.6), np.float64(-1.79)): np.float64(0.269),\n",
       " (np.float64(0.7), np.float64(-1.79)): np.float64(0.297),\n",
       " (np.float64(0.8), np.float64(-1.79)): np.float64(0.31),\n",
       " (np.float64(0.9), np.float64(-1.79)): np.float64(0.282),\n",
       " (np.float64(1.0), np.float64(-1.79)): np.float64(0.288),\n",
       " (np.float64(1.25), np.float64(-1.79)): np.float64(0.352),\n",
       " (np.float64(1.5), np.float64(-1.79)): np.float64(0.407),\n",
       " (np.float64(1.75), np.float64(-1.79)): np.float64(0.464),\n",
       " (np.float64(2.0), np.float64(-1.79)): np.float64(0.502),\n",
       " (np.float64(2.25), np.float64(-1.79)): np.float64(0.542),\n",
       " (np.float64(2.5), np.float64(-1.79)): np.float64(0.597),\n",
       " (np.float64(2.75), np.float64(-1.79)): np.float64(0.632),\n",
       " (np.float64(3.0), np.float64(-1.79)): np.float64(0.671),\n",
       " (np.float64(3.25), np.float64(-1.79)): np.float64(0.713),\n",
       " (np.float64(3.5), np.float64(-1.79)): np.float64(0.746),\n",
       " (np.float64(3.75), np.float64(-1.79)): np.float64(0.78),\n",
       " (np.float64(4.0), np.float64(-1.79)): np.float64(0.815),\n",
       " (np.float64(4.5), np.float64(-1.79)): np.float64(0.889),\n",
       " (np.float64(5.0), np.float64(-1.79)): np.float64(0.948),\n",
       " (np.float64(5.5), np.float64(-1.79)): np.float64(1.01),\n",
       " (np.float64(6.0), np.float64(-1.79)): np.float64(1.096),\n",
       " (np.float64(6.5), np.float64(-1.79)): np.float64(1.158),\n",
       " (np.float64(7.0), np.float64(-1.79)): np.float64(1.22),\n",
       " (np.float64(7.5), np.float64(-1.79)): np.float64(1.282),\n",
       " (np.float64(8.0), np.float64(-1.79)): np.float64(1.346),\n",
       " (np.float64(8.5), np.float64(-1.79)): np.float64(1.404),\n",
       " (np.float64(9.0), np.float64(-1.79)): np.float64(1.463),\n",
       " (np.float64(9.5), np.float64(-1.79)): np.float64(1.524),\n",
       " (np.float64(10.0), np.float64(-1.79)): np.float64(1.583),\n",
       " (np.float64(10.5), np.float64(-1.79)): np.float64(1.643),\n",
       " (np.float64(11.0), np.float64(-1.79)): np.float64(1.697),\n",
       " (np.float64(11.5), np.float64(-1.79)): np.float64(1.757),\n",
       " (np.float64(12.0), np.float64(-1.79)): np.float64(1.817),\n",
       " (np.float64(12.5), np.float64(-1.79)): np.float64(1.878),\n",
       " (np.float64(13.0), np.float64(-1.79)): np.float64(1.958),\n",
       " (np.float64(13.5), np.float64(-1.79)): np.float64(2.011),\n",
       " (np.float64(14.0), np.float64(-1.79)): np.float64(2.065),\n",
       " (np.float64(0.03), np.float64(-1.49)): np.float64(0.082),\n",
       " (np.float64(0.04), np.float64(-1.49)): np.float64(0.092),\n",
       " (np.float64(0.05), np.float64(-1.49)): np.float64(0.102),\n",
       " (np.float64(0.06), np.float64(-1.49)): np.float64(0.111),\n",
       " (np.float64(0.07), np.float64(-1.49)): np.float64(0.117),\n",
       " (np.float64(0.08), np.float64(-1.49)): np.float64(0.117),\n",
       " (np.float64(0.09), np.float64(-1.49)): np.float64(0.115),\n",
       " (np.float64(0.1), np.float64(-1.49)): np.float64(0.114),\n",
       " (np.float64(0.15), np.float64(-1.49)): np.float64(0.133),\n",
       " (np.float64(0.2), np.float64(-1.49)): np.float64(0.153),\n",
       " (np.float64(0.25), np.float64(-1.49)): np.float64(0.169),\n",
       " (np.float64(0.3), np.float64(-1.49)): np.float64(0.19),\n",
       " (np.float64(0.35), np.float64(-1.49)): np.float64(0.205),\n",
       " (np.float64(0.4), np.float64(-1.49)): np.float64(0.22),\n",
       " (np.float64(0.45), np.float64(-1.49)): np.float64(0.235),\n",
       " (np.float64(0.5), np.float64(-1.49)): np.float64(0.25),\n",
       " (np.float64(0.6), np.float64(-1.49)): np.float64(0.277),\n",
       " (np.float64(0.7), np.float64(-1.49)): np.float64(0.301),\n",
       " (np.float64(0.8), np.float64(-1.49)): np.float64(0.321),\n",
       " (np.float64(0.9), np.float64(-1.49)): np.float64(0.315),\n",
       " (np.float64(1.0), np.float64(-1.49)): np.float64(0.298),\n",
       " (np.float64(1.25), np.float64(-1.49)): np.float64(0.356),\n",
       " (np.float64(1.5), np.float64(-1.49)): np.float64(0.399),\n",
       " (np.float64(1.75), np.float64(-1.49)): np.float64(0.468),\n",
       " (np.float64(2.0), np.float64(-1.49)): np.float64(0.505),\n",
       " (np.float64(2.25), np.float64(-1.49)): np.float64(0.544),\n",
       " (np.float64(2.5), np.float64(-1.49)): np.float64(0.605),\n",
       " (np.float64(2.75), np.float64(-1.49)): np.float64(0.642),\n",
       " (np.float64(3.0), np.float64(-1.49)): np.float64(0.68),\n",
       " (np.float64(3.25), np.float64(-1.49)): np.float64(0.726),\n",
       " (np.float64(3.5), np.float64(-1.49)): np.float64(0.759),\n",
       " (np.float64(3.75), np.float64(-1.49)): np.float64(0.791),\n",
       " (np.float64(4.0), np.float64(-1.49)): np.float64(0.825),\n",
       " (np.float64(4.5), np.float64(-1.49)): np.float64(0.903),\n",
       " (np.float64(5.0), np.float64(-1.49)): np.float64(0.965),\n",
       " (np.float64(5.5), np.float64(-1.49)): np.float64(1.029),\n",
       " (np.float64(6.0), np.float64(-1.49)): np.float64(1.118),\n",
       " (np.float64(6.5), np.float64(-1.49)): np.float64(1.18),\n",
       " (np.float64(7.0), np.float64(-1.49)): np.float64(1.242),\n",
       " (np.float64(7.5), np.float64(-1.49)): np.float64(1.306),\n",
       " (np.float64(8.0), np.float64(-1.49)): np.float64(1.37),\n",
       " (np.float64(8.5), np.float64(-1.49)): np.float64(1.434),\n",
       " (np.float64(9.0), np.float64(-1.49)): np.float64(1.49),\n",
       " (np.float64(9.5), np.float64(-1.49)): np.float64(1.552),\n",
       " (np.float64(10.0), np.float64(-1.49)): np.float64(1.615),\n",
       " (np.float64(10.5), np.float64(-1.49)): np.float64(1.677),\n",
       " (np.float64(11.0), np.float64(-1.49)): np.float64(1.74),\n",
       " (np.float64(11.5), np.float64(-1.49)): np.float64(1.796),\n",
       " (np.float64(12.0), np.float64(-1.49)): np.float64(1.856),\n",
       " (np.float64(12.5), np.float64(-1.49)): np.float64(1.919),\n",
       " (np.float64(13.0), np.float64(-1.49)): np.float64(1.982),\n",
       " (np.float64(13.5), np.float64(-1.49)): np.float64(2.056),\n",
       " (np.float64(14.0), np.float64(-1.49)): np.float64(2.125),\n",
       " (np.float64(0.03), np.float64(-1.26)): np.float64(0.07),\n",
       " (np.float64(0.04), np.float64(-1.26)): np.float64(0.08),\n",
       " (np.float64(0.05), np.float64(-1.26)): np.float64(0.091),\n",
       " (np.float64(0.06), np.float64(-1.26)): np.float64(0.099),\n",
       " (np.float64(0.07), np.float64(-1.26)): np.float64(0.106),\n",
       " (np.float64(0.08), np.float64(-1.26)): np.float64(0.108),\n",
       " (np.float64(0.09), np.float64(-1.26)): np.float64(0.11),\n",
       " (np.float64(0.1), np.float64(-1.26)): np.float64(0.112),\n",
       " (np.float64(0.15), np.float64(-1.26)): np.float64(0.133),\n",
       " (np.float64(0.2), np.float64(-1.26)): np.float64(0.155),\n",
       " (np.float64(0.25), np.float64(-1.26)): np.float64(0.172),\n",
       " (np.float64(0.3), np.float64(-1.26)): np.float64(0.192),\n",
       " (np.float64(0.35), np.float64(-1.26)): np.float64(0.209),\n",
       " (np.float64(0.4), np.float64(-1.26)): np.float64(0.224),\n",
       " (np.float64(0.45), np.float64(-1.26)): np.float64(0.24),\n",
       " (np.float64(0.5), np.float64(-1.26)): np.float64(0.256),\n",
       " (np.float64(0.6), np.float64(-1.26)): np.float64(0.284),\n",
       " (np.float64(0.7), np.float64(-1.26)): np.float64(0.31),\n",
       " (np.float64(0.8), np.float64(-1.26)): np.float64(0.336),\n",
       " (np.float64(0.9), np.float64(-1.26)): np.float64(0.339),\n",
       " (np.float64(1.0), np.float64(-1.26)): np.float64(0.313),\n",
       " (np.float64(1.25), np.float64(-1.26)): np.float64(0.373),\n",
       " (np.float64(1.5), np.float64(-1.26)): np.float64(0.4),\n",
       " (np.float64(1.75), np.float64(-1.26)): np.float64(0.475),\n",
       " (np.float64(2.0), np.float64(-1.26)): np.float64(0.512),\n",
       " (np.float64(2.25), np.float64(-1.26)): np.float64(0.553),\n",
       " (np.float64(2.5), np.float64(-1.26)): np.float64(0.612),\n",
       " (np.float64(2.75), np.float64(-1.26)): np.float64(0.657),\n",
       " (np.float64(3.0), np.float64(-1.26)): np.float64(0.694),\n",
       " (np.float64(3.25), np.float64(-1.26)): np.float64(0.739),\n",
       " (np.float64(3.5), np.float64(-1.26)): np.float64(0.777),\n",
       " (np.float64(3.75), np.float64(-1.26)): np.float64(0.811),\n",
       " (np.float64(4.0), np.float64(-1.26)): np.float64(0.846),\n",
       " (np.float64(4.5), np.float64(-1.26)): np.float64(0.932),\n",
       " (np.float64(5.0), np.float64(-1.26)): np.float64(0.994),\n",
       " (np.float64(5.5), np.float64(-1.26)): np.float64(1.058),\n",
       " (np.float64(6.0), np.float64(-1.26)): np.float64(1.127),\n",
       " (np.float64(6.5), np.float64(-1.26)): np.float64(1.211),\n",
       " (np.float64(7.0), np.float64(-1.26)): np.float64(1.275),\n",
       " (np.float64(7.5), np.float64(-1.26)): np.float64(1.341),\n",
       " (np.float64(8.0), np.float64(-1.26)): np.float64(1.408),\n",
       " (np.float64(8.5), np.float64(-1.26)): np.float64(1.478),\n",
       " (np.float64(9.0), np.float64(-1.26)): np.float64(1.544),\n",
       " (np.float64(9.5), np.float64(-1.26)): np.float64(1.608),\n",
       " (np.float64(10.0), np.float64(-1.26)): np.float64(1.672),\n",
       " (np.float64(10.5), np.float64(-1.26)): np.float64(1.738),\n",
       " (np.float64(11.0), np.float64(-1.26)): np.float64(1.803),\n",
       " (np.float64(11.5), np.float64(-1.26)): np.float64(1.868),\n",
       " (np.float64(12.0), np.float64(-1.26)): np.float64(1.927),\n",
       " (np.float64(12.5), np.float64(-1.26)): np.float64(1.987),\n",
       " (np.float64(13.0), np.float64(-1.26)): np.float64(2.051),\n",
       " (np.float64(13.5), np.float64(-1.26)): np.float64(2.114),\n",
       " (np.float64(14.0), np.float64(-1.26)): np.float64(2.193),\n",
       " (np.float64(0.03), np.float64(-0.96)): np.float64(0.057),\n",
       " (np.float64(0.04), np.float64(-0.96)): np.float64(0.068),\n",
       " (np.float64(0.05), np.float64(-0.96)): np.float64(0.079),\n",
       " (np.float64(0.06), np.float64(-0.96)): np.float64(0.089),\n",
       " (np.float64(0.07), np.float64(-0.96)): np.float64(0.098),\n",
       " (np.float64(0.08), np.float64(-0.96)): np.float64(0.103),\n",
       " (np.float64(0.09), np.float64(-0.96)): np.float64(0.109),\n",
       " (np.float64(0.1), np.float64(-0.96)): np.float64(0.117),\n",
       " (np.float64(0.15), np.float64(-0.96)): np.float64(0.14),\n",
       " (np.float64(0.2), np.float64(-0.96)): np.float64(0.157),\n",
       " (np.float64(0.25), np.float64(-0.96)): np.float64(0.176),\n",
       " (np.float64(0.3), np.float64(-0.96)): np.float64(0.199),\n",
       " (np.float64(0.35), np.float64(-0.96)): np.float64(0.221),\n",
       " (np.float64(0.4), np.float64(-0.96)): np.float64(0.236),\n",
       " (np.float64(0.45), np.float64(-0.96)): np.float64(0.252),\n",
       " (np.float64(0.5), np.float64(-0.96)): np.float64(0.27),\n",
       " (np.float64(0.6), np.float64(-0.96)): np.float64(0.302),\n",
       " (np.float64(0.7), np.float64(-0.96)): np.float64(0.334),\n",
       " (np.float64(0.8), np.float64(-0.96)): np.float64(0.361),\n",
       " (np.float64(0.9), np.float64(-0.96)): np.float64(0.378),\n",
       " (np.float64(1.0), np.float64(-0.96)): np.float64(0.372),\n",
       " (np.float64(1.25), np.float64(-0.96)): np.float64(0.373),\n",
       " (np.float64(1.5), np.float64(-0.96)): np.float64(0.428),\n",
       " (np.float64(1.75), np.float64(-0.96)): np.float64(0.494),\n",
       " (np.float64(2.0), np.float64(-0.96)): np.float64(0.547),\n",
       " (np.float64(2.25), np.float64(-0.96)): np.float64(0.585),\n",
       " (np.float64(2.5), np.float64(-0.96)): np.float64(0.626),\n",
       " (np.float64(2.75), np.float64(-0.96)): np.float64(0.695),\n",
       " (np.float64(3.0), np.float64(-0.96)): np.float64(0.733),\n",
       " (np.float64(3.25), np.float64(-0.96)): np.float64(0.773),\n",
       " (np.float64(3.5), np.float64(-0.96)): np.float64(0.822),\n",
       " (np.float64(3.75), np.float64(-0.96)): np.float64(0.862),\n",
       " (np.float64(4.0), np.float64(-0.96)): np.float64(0.897),\n",
       " (np.float64(4.5), np.float64(-0.96)): np.float64(0.97),\n",
       " (np.float64(5.0), np.float64(-0.96)): np.float64(1.057),\n",
       " (np.float64(5.5), np.float64(-0.96)): np.float64(1.124),\n",
       " (np.float64(6.0), np.float64(-0.96)): np.float64(1.194),\n",
       " (np.float64(6.5), np.float64(-0.96)): np.float64(1.269),\n",
       " (np.float64(7.0), np.float64(-0.96)): np.float64(1.353),\n",
       " (np.float64(7.5), np.float64(-0.96)): np.float64(1.419),\n",
       " (np.float64(8.0), np.float64(-0.96)): np.float64(1.487),\n",
       " (np.float64(8.5), np.float64(-0.96)): np.float64(1.555),\n",
       " (np.float64(9.0), np.float64(-0.96)): np.float64(1.624),\n",
       " (np.float64(9.5), np.float64(-0.96)): np.float64(1.695),\n",
       " (np.float64(10.0), np.float64(-0.96)): np.float64(1.764),\n",
       " (np.float64(10.5), np.float64(-0.96)): np.float64(1.832),\n",
       " (np.float64(11.0), np.float64(-0.96)): np.float64(1.901),\n",
       " (np.float64(11.5), np.float64(-0.96)): np.float64(1.973),\n",
       " (np.float64(12.0), np.float64(-0.96)): np.float64(2.045),\n",
       " (np.float64(12.5), np.float64(-0.96)): np.float64(2.118),\n",
       " (np.float64(13.0), np.float64(-0.96)): np.float64(2.182),\n",
       " (np.float64(13.5), np.float64(-0.96)): np.float64(2.249),\n",
       " (np.float64(14.0), np.float64(-0.96)): np.float64(2.32),\n",
       " (np.float64(0.03), np.float64(-0.66)): np.float64(0.057),\n",
       " (np.float64(0.04), np.float64(-0.66)): np.float64(0.07),\n",
       " (np.float64(0.05), np.float64(-0.66)): np.float64(0.082),\n",
       " (np.float64(0.06), np.float64(-0.66)): np.float64(0.092),\n",
       " (np.float64(0.07), np.float64(-0.66)): np.float64(0.102),\n",
       " (np.float64(0.08), np.float64(-0.66)): np.float64(0.109),\n",
       " (np.float64(0.09), np.float64(-0.66)): np.float64(0.117),\n",
       " (np.float64(0.1), np.float64(-0.66)): np.float64(0.126),\n",
       " (np.float64(0.15), np.float64(-0.66)): np.float64(0.152),\n",
       " (np.float64(0.2), np.float64(-0.66)): np.float64(0.173),\n",
       " (np.float64(0.25), np.float64(-0.66)): np.float64(0.193),\n",
       " (np.float64(0.3), np.float64(-0.66)): np.float64(0.214),\n",
       " (np.float64(0.35), np.float64(-0.66)): np.float64(0.241),\n",
       " (np.float64(0.4), np.float64(-0.66)): np.float64(0.26),\n",
       " (np.float64(0.45), np.float64(-0.66)): np.float64(0.279),\n",
       " (np.float64(0.5), np.float64(-0.66)): np.float64(0.299),\n",
       " (np.float64(0.6), np.float64(-0.66)): np.float64(0.336),\n",
       " (np.float64(0.7), np.float64(-0.66)): np.float64(0.365),\n",
       " (np.float64(0.8), np.float64(-0.66)): np.float64(0.392),\n",
       " (np.float64(0.9), np.float64(-0.66)): np.float64(0.415),\n",
       " (np.float64(1.0), np.float64(-0.66)): np.float64(0.428),\n",
       " (np.float64(1.25), np.float64(-0.66)): np.float64(0.388),\n",
       " (np.float64(1.5), np.float64(-0.66)): np.float64(0.48),\n",
       " (np.float64(1.75), np.float64(-0.66)): np.float64(0.515),\n",
       " (np.float64(2.0), np.float64(-0.66)): np.float64(0.608),\n",
       " (np.float64(2.25), np.float64(-0.66)): np.float64(0.65),\n",
       " (np.float64(2.5), np.float64(-0.66)): np.float64(0.693),\n",
       " (np.float64(2.75), np.float64(-0.66)): np.float64(0.737),\n",
       " (np.float64(3.0), np.float64(-0.66)): np.float64(0.797),\n",
       " (np.float64(3.25), np.float64(-0.66)): np.float64(0.847),\n",
       " (np.float64(3.5), np.float64(-0.66)): np.float64(0.891),\n",
       " (np.float64(3.75), np.float64(-0.66)): np.float64(0.936),\n",
       " (np.float64(4.0), np.float64(-0.66)): np.float64(0.998),\n",
       " (np.float64(4.5), np.float64(-0.66)): np.float64(1.077),\n",
       " (np.float64(5.0), np.float64(-0.66)): np.float64(1.158),\n",
       " (np.float64(5.5), np.float64(-0.66)): np.float64(1.26),\n",
       " (np.float64(6.0), np.float64(-0.66)): np.float64(1.334),\n",
       " (np.float64(6.5), np.float64(-0.66)): np.float64(1.41),\n",
       " (np.float64(7.0), np.float64(-0.66)): np.float64(1.488),\n",
       " (np.float64(7.5), np.float64(-0.66)): np.float64(1.575),\n",
       " (np.float64(8.0), np.float64(-0.66)): np.float64(1.652),\n",
       " (np.float64(8.5), np.float64(-0.66)): np.float64(1.725),\n",
       " (np.float64(9.0), np.float64(-0.66)): np.float64(1.799),\n",
       " (np.float64(9.5), np.float64(-0.66)): np.float64(1.873),\n",
       " (np.float64(10.0), np.float64(-0.66)): np.float64(1.948),\n",
       " (np.float64(10.5), np.float64(-0.66)): np.float64(2.025),\n",
       " (np.float64(11.0), np.float64(-0.66)): np.float64(2.102),\n",
       " (np.float64(11.5), np.float64(-0.66)): np.float64(2.174),\n",
       " (np.float64(12.0), np.float64(-0.66)): np.float64(2.246),\n",
       " (np.float64(12.5), np.float64(-0.66)): np.float64(2.32),\n",
       " (np.float64(13.0), np.float64(-0.66)): np.float64(2.394),\n",
       " (np.float64(13.5), np.float64(-0.66)): np.float64(2.469),\n",
       " (np.float64(14.0), np.float64(-0.66)): np.float64(2.54),\n",
       " (np.float64(0.03), np.float64(-0.35)): np.float64(0.062),\n",
       " (np.float64(0.04), np.float64(-0.35)): np.float64(0.073),\n",
       " (np.float64(0.05), np.float64(-0.35)): np.float64(0.086),\n",
       " (np.float64(0.06), np.float64(-0.35)): np.float64(0.095),\n",
       " (np.float64(0.07), np.float64(-0.35)): np.float64(0.105),\n",
       " (np.float64(0.08), np.float64(-0.35)): np.float64(0.113),\n",
       " (np.float64(0.09), np.float64(-0.35)): np.float64(0.121),\n",
       " (np.float64(0.1), np.float64(-0.35)): np.float64(0.131),\n",
       " (np.float64(0.15), np.float64(-0.35)): np.float64(0.16),\n",
       " (np.float64(0.2), np.float64(-0.35)): np.float64(0.19),\n",
       " (np.float64(0.25), np.float64(-0.35)): np.float64(0.215),\n",
       " (np.float64(0.3), np.float64(-0.35)): np.float64(0.24),\n",
       " (np.float64(0.35), np.float64(-0.35)): np.float64(0.266),\n",
       " (np.float64(0.4), np.float64(-0.35)): np.float64(0.289),\n",
       " (np.float64(0.45), np.float64(-0.35)): np.float64(0.309),\n",
       " (np.float64(0.5), np.float64(-0.35)): np.float64(0.328),\n",
       " (np.float64(0.6), np.float64(-0.35)): np.float64(0.364),\n",
       " (np.float64(0.7), np.float64(-0.35)): np.float64(0.395),\n",
       " (np.float64(0.8), np.float64(-0.35)): np.float64(0.426),\n",
       " (np.float64(0.9), np.float64(-0.35)): np.float64(0.454),\n",
       " (np.float64(1.0), np.float64(-0.35)): np.float64(0.48),\n",
       " (np.float64(1.25), np.float64(-0.35)): np.float64(0.476),\n",
       " (np.float64(1.5), np.float64(-0.35)): np.float64(0.435),\n",
       " (np.float64(1.75), np.float64(-0.35)): np.float64(0.609),\n",
       " (np.float64(2.0), np.float64(-0.35)): np.float64(0.658),\n",
       " (np.float64(2.25), np.float64(-0.35)): np.float64(0.761),\n",
       " (np.float64(2.5), np.float64(-0.35)): np.float64(0.828),\n",
       " (np.float64(2.75), np.float64(-0.35)): np.float64(0.878),\n",
       " (np.float64(3.0), np.float64(-0.35)): np.float64(0.93),\n",
       " (np.float64(3.25), np.float64(-0.35)): np.float64(0.982),\n",
       " (np.float64(3.5), np.float64(-0.35)): np.float64(1.041),\n",
       " (np.float64(3.75), np.float64(-0.35)): np.float64(1.106),\n",
       " (np.float64(4.0), np.float64(-0.35)): np.float64(1.156),\n",
       " (np.float64(4.5), np.float64(-0.35)): np.float64(1.258),\n",
       " (np.float64(5.0), np.float64(-0.35)): np.float64(1.375),\n",
       " (np.float64(5.5), np.float64(-0.35)): np.float64(1.465),\n",
       " (np.float64(6.0), np.float64(-0.35)): np.float64(1.559),\n",
       " (np.float64(6.5), np.float64(-0.35)): np.float64(1.676),\n",
       " (np.float64(7.0), np.float64(-0.35)): np.float64(1.762),\n",
       " (np.float64(7.5), np.float64(-0.35)): np.float64(1.848),\n",
       " (np.float64(8.0), np.float64(-0.35)): np.float64(1.935),\n",
       " (np.float64(8.5), np.float64(-0.35)): np.float64(2.024),\n",
       " (np.float64(9.0), np.float64(-0.35)): np.float64(2.114),\n",
       " (np.float64(9.5), np.float64(-0.35)): np.float64(2.204),\n",
       " (np.float64(10.0), np.float64(-0.35)): np.float64(2.289),\n",
       " (np.float64(10.5), np.float64(-0.35)): np.float64(2.374),\n",
       " (np.float64(11.0), np.float64(-0.35)): np.float64(2.46),\n",
       " (np.float64(11.5), np.float64(-0.35)): np.float64(2.547),\n",
       " (np.float64(12.0), np.float64(-0.35)): np.float64(2.635),\n",
       " (np.float64(12.5), np.float64(-0.35)): np.float64(2.724),\n",
       " (np.float64(13.0), np.float64(-0.35)): np.float64(2.813),\n",
       " (np.float64(13.5), np.float64(-0.35)): np.float64(2.888),\n",
       " (np.float64(14.0), np.float64(-0.35)): np.float64(2.962),\n",
       " (np.float64(0.03), np.float64(-0.25)): np.float64(0.062),\n",
       " (np.float64(0.04), np.float64(-0.25)): np.float64(0.076),\n",
       " (np.float64(0.05), np.float64(-0.25)): np.float64(0.088),\n",
       " (np.float64(0.06), np.float64(-0.25)): np.float64(0.096),\n",
       " (np.float64(0.07), np.float64(-0.25)): np.float64(0.108),\n",
       " (np.float64(0.08), np.float64(-0.25)): np.float64(0.115),\n",
       " (np.float64(0.09), np.float64(-0.25)): np.float64(0.123),\n",
       " (np.float64(0.1), np.float64(-0.25)): np.float64(0.134),\n",
       " (np.float64(0.15), np.float64(-0.25)): np.float64(0.166),\n",
       " (np.float64(0.2), np.float64(-0.25)): np.float64(0.193),\n",
       " (np.float64(0.25), np.float64(-0.25)): np.float64(0.219),\n",
       " (np.float64(0.3), np.float64(-0.25)): np.float64(0.246),\n",
       " (np.float64(0.35), np.float64(-0.25)): np.float64(0.272),\n",
       " (np.float64(0.4), np.float64(-0.25)): np.float64(0.298),\n",
       " (np.float64(0.45), np.float64(-0.25)): np.float64(0.317),\n",
       " (np.float64(0.5), np.float64(-0.25)): np.float64(0.336),\n",
       " (np.float64(0.6), np.float64(-0.25)): np.float64(0.372),\n",
       " (np.float64(0.7), np.float64(-0.25)): np.float64(0.406),\n",
       " (np.float64(0.8), np.float64(-0.25)): np.float64(0.439),\n",
       " (np.float64(0.9), np.float64(-0.25)): np.float64(0.464),\n",
       " (np.float64(1.0), np.float64(-0.25)): np.float64(0.471),\n",
       " (np.float64(1.25), np.float64(-0.25)): np.float64(0.492),\n",
       " (np.float64(1.5), np.float64(-0.25)): np.float64(0.567),\n",
       " (np.float64(1.75), np.float64(-0.25)): np.float64(0.649),\n",
       " (np.float64(2.0), np.float64(-0.25)): np.float64(0.701),\n",
       " (np.float64(2.25), np.float64(-0.25)): np.float64(0.763),\n",
       " (np.float64(2.5), np.float64(-0.25)): np.float64(0.885),\n",
       " (np.float64(2.75), np.float64(-0.25)): np.float64(0.938),\n",
       " (np.float64(3.0), np.float64(-0.25)): np.float64(0.991),\n",
       " (np.float64(3.25), np.float64(-0.25)): np.float64(1.046),\n",
       " (np.float64(3.5), np.float64(-0.25)): np.float64(1.1),\n",
       " (np.float64(3.75), np.float64(-0.25)): np.float64(1.16),\n",
       " (np.float64(4.0), np.float64(-0.25)): np.float64(1.228),\n",
       " (np.float64(4.5), np.float64(-0.25)): np.float64(1.329),\n",
       " (np.float64(5.0), np.float64(-0.25)): np.float64(1.448),\n",
       " (np.float64(5.5), np.float64(-0.25)): np.float64(1.553),\n",
       " (np.float64(6.0), np.float64(-0.25)): np.float64(1.65),\n",
       " (np.float64(6.5), np.float64(-0.25)): np.float64(1.752),\n",
       " (np.float64(7.0), np.float64(-0.25)): np.float64(1.881),\n",
       " (np.float64(7.5), np.float64(-0.25)): np.float64(1.969),\n",
       " (np.float64(8.0), np.float64(-0.25)): np.float64(2.057),\n",
       " (np.float64(8.5), np.float64(-0.25)): np.float64(2.146),\n",
       " (np.float64(9.0), np.float64(-0.25)): np.float64(2.237),\n",
       " (np.float64(9.5), np.float64(-0.25)): np.float64(2.329),\n",
       " (np.float64(10.0), np.float64(-0.25)): np.float64(2.403),\n",
       " (np.float64(10.5), np.float64(-0.25)): np.float64(2.491),\n",
       " (np.float64(11.0), np.float64(-0.25)): np.float64(2.578),\n",
       " (np.float64(11.5), np.float64(-0.25)): np.float64(2.666),\n",
       " (np.float64(12.0), np.float64(-0.25)): np.float64(2.755),\n",
       " (np.float64(12.5), np.float64(-0.25)): np.float64(2.845),\n",
       " (np.float64(13.0), np.float64(-0.25)): np.float64(2.935),\n",
       " (np.float64(13.5), np.float64(-0.25)): np.float64(3.026),\n",
       " (np.float64(14.0), np.float64(-0.25)): np.float64(3.118),\n",
       " (np.float64(0.03), np.float64(0.06)): np.float64(0.064),\n",
       " (np.float64(0.04), np.float64(0.06)): np.float64(0.078),\n",
       " (np.float64(0.05), np.float64(0.06)): np.float64(0.093),\n",
       " (np.float64(0.06), np.float64(0.06)): np.float64(0.103),\n",
       " (np.float64(0.07), np.float64(0.06)): np.float64(0.115),\n",
       " (np.float64(0.08), np.float64(0.06)): np.float64(0.125),\n",
       " (np.float64(0.09), np.float64(0.06)): np.float64(0.134),\n",
       " (np.float64(0.1), np.float64(0.06)): np.float64(0.145),\n",
       " (np.float64(0.15), np.float64(0.06)): np.float64(0.184),\n",
       " (np.float64(0.2), np.float64(0.06)): np.float64(0.216),\n",
       " (np.float64(0.25), np.float64(0.06)): np.float64(0.243),\n",
       " (np.float64(0.3), np.float64(0.06)): np.float64(0.269),\n",
       " (np.float64(0.35), np.float64(0.06)): np.float64(0.295),\n",
       " (np.float64(0.4), np.float64(0.06)): np.float64(0.32),\n",
       " (np.float64(0.45), np.float64(0.06)): np.float64(0.344),\n",
       " (np.float64(0.5), np.float64(0.06)): np.float64(0.367),\n",
       " (np.float64(0.6), np.float64(0.06)): np.float64(0.411),\n",
       " (np.float64(0.7), np.float64(0.06)): np.float64(0.452),\n",
       " (np.float64(0.8), np.float64(0.06)): np.float64(0.489),\n",
       " (np.float64(0.9), np.float64(0.06)): np.float64(0.526),\n",
       " (np.float64(1.0), np.float64(0.06)): np.float64(0.561),\n",
       " (np.float64(1.25), np.float64(0.06)): np.float64(0.579),\n",
       " (np.float64(1.5), np.float64(0.06)): np.float64(0.649),\n",
       " (np.float64(1.75), np.float64(0.06)): np.float64(0.771),\n",
       " (np.float64(2.0), np.float64(0.06)): np.float64(0.862),\n",
       " (np.float64(2.25), np.float64(0.06)): np.float64(0.942),\n",
       " (np.float64(2.5), np.float64(0.06)): np.float64(1.012),\n",
       " (np.float64(2.75), np.float64(0.06)): np.float64(1.093),\n",
       " (np.float64(3.0), np.float64(0.06)): np.float64(1.246),\n",
       " (np.float64(3.25), np.float64(0.06)): np.float64(1.309),\n",
       " (np.float64(3.5), np.float64(0.06)): np.float64(1.372),\n",
       " (np.float64(3.75), np.float64(0.06)): np.float64(1.436),\n",
       " (np.float64(4.0), np.float64(0.06)): np.float64(1.501),\n",
       " (np.float64(4.5), np.float64(0.06)): np.float64(1.631),\n",
       " (np.float64(5.0), np.float64(0.06)): np.float64(1.761),\n",
       " (np.float64(5.5), np.float64(0.06)): np.float64(1.888),\n",
       " (np.float64(6.0), np.float64(0.06)): np.float64(2.014),\n",
       " (np.float64(6.5), np.float64(0.06)): np.float64(2.154),\n",
       " (np.float64(7.0), np.float64(0.06)): np.float64(2.266),\n",
       " (np.float64(7.5), np.float64(0.06)): np.float64(2.38),\n",
       " (np.float64(8.0), np.float64(0.06)): np.float64(2.495),\n",
       " (np.float64(8.5), np.float64(0.06)): np.float64(2.612),\n",
       " (np.float64(9.0), np.float64(0.06)): np.float64(2.731),\n",
       " (np.float64(9.5), np.float64(0.06)): np.float64(2.829),\n",
       " (np.float64(10.0), np.float64(0.06)): np.float64(2.927),\n",
       " (np.float64(10.5), np.float64(0.06)): np.float64(3.025),\n",
       " (np.float64(11.0), np.float64(0.06)): np.float64(3.181),\n",
       " (np.float64(11.5), np.float64(0.06)): np.float64(3.287),\n",
       " (np.float64(12.0), np.float64(0.06)): np.float64(3.394),\n",
       " (np.float64(12.5), np.float64(0.06)): np.float64(3.487),\n",
       " (np.float64(13.0), np.float64(0.06)): np.float64(3.517),\n",
       " (np.float64(13.5), np.float64(0.06)): np.float64(3.62),\n",
       " (np.float64(14.0), np.float64(0.06)): np.float64(3.723),\n",
       " (np.float64(0.03), np.float64(0.15)): np.float64(0.065),\n",
       " (np.float64(0.04), np.float64(0.15)): np.float64(0.081),\n",
       " (np.float64(0.05), np.float64(0.15)): np.float64(0.097),\n",
       " (np.float64(0.06), np.float64(0.15)): np.float64(0.107),\n",
       " (np.float64(0.07), np.float64(0.15)): np.float64(0.121),\n",
       " (np.float64(0.08), np.float64(0.15)): np.float64(0.13),\n",
       " (np.float64(0.09), np.float64(0.15)): np.float64(0.139),\n",
       " (np.float64(0.1), np.float64(0.15)): np.float64(0.15),\n",
       " (np.float64(0.15), np.float64(0.15)): np.float64(0.189),\n",
       " (np.float64(0.2), np.float64(0.15)): np.float64(0.221),\n",
       " (np.float64(0.25), np.float64(0.15)): np.float64(0.249),\n",
       " (np.float64(0.3), np.float64(0.15)): np.float64(0.275),\n",
       " (np.float64(0.35), np.float64(0.15)): np.float64(0.301),\n",
       " (np.float64(0.4), np.float64(0.15)): np.float64(0.327),\n",
       " (np.float64(0.45), np.float64(0.15)): np.float64(0.352),\n",
       " (np.float64(0.5), np.float64(0.15)): np.float64(0.377),\n",
       " (np.float64(0.6), np.float64(0.15)): np.float64(0.422),\n",
       " (np.float64(0.7), np.float64(0.15)): np.float64(0.465),\n",
       " (np.float64(0.8), np.float64(0.15)): np.float64(0.506),\n",
       " (np.float64(0.9), np.float64(0.15)): np.float64(0.543),\n",
       " (np.float64(1.0), np.float64(0.15)): np.float64(0.578),\n",
       " (np.float64(1.25), np.float64(0.15)): np.float64(0.606),\n",
       " (np.float64(1.5), np.float64(0.15)): np.float64(0.657),\n",
       " (np.float64(1.75), np.float64(0.15)): np.float64(0.809),\n",
       " (np.float64(2.0), np.float64(0.15)): np.float64(0.901),\n",
       " (np.float64(2.25), np.float64(0.15)): np.float64(0.994),\n",
       " (np.float64(2.5), np.float64(0.15)): np.float64(1.067),\n",
       " (np.float64(2.75), np.float64(0.15)): np.float64(1.146),\n",
       " (np.float64(3.0), np.float64(0.15)): np.float64(1.267),\n",
       " (np.float64(3.25), np.float64(0.15)): np.float64(1.387),\n",
       " (np.float64(3.5), np.float64(0.15)): np.float64(1.453),\n",
       " (np.float64(3.75), np.float64(0.15)): np.float64(1.523),\n",
       " (np.float64(4.0), np.float64(0.15)): np.float64(1.59),\n",
       " (np.float64(4.5), np.float64(0.15)): np.float64(1.721),\n",
       " (np.float64(5.0), np.float64(0.15)): np.float64(1.853),\n",
       " (np.float64(5.5), np.float64(0.15)): np.float64(1.989),\n",
       " (np.float64(6.0), np.float64(0.15)): np.float64(2.122),\n",
       " (np.float64(6.5), np.float64(0.15)): np.float64(2.262),\n",
       " (np.float64(7.0), np.float64(0.15)): np.float64(2.389),\n",
       " (np.float64(7.5), np.float64(0.15)): np.float64(2.51),\n",
       " (np.float64(8.0), np.float64(0.15)): np.float64(2.629),\n",
       " (np.float64(8.5), np.float64(0.15)): np.float64(2.749),\n",
       " (np.float64(9.0), np.float64(0.15)): np.float64(2.872),\n",
       " (np.float64(9.5), np.float64(0.15)): np.float64(2.984),\n",
       " (np.float64(10.0), np.float64(0.15)): np.float64(3.095),\n",
       " (np.float64(10.5), np.float64(0.15)): np.float64(3.231),\n",
       " (np.float64(11.0), np.float64(0.15)): np.float64(3.34),\n",
       " (np.float64(11.5), np.float64(0.15)): np.float64(3.45),\n",
       " (np.float64(12.0), np.float64(0.15)): np.float64(3.56),\n",
       " (np.float64(12.5), np.float64(0.15)): np.float64(3.664),\n",
       " (np.float64(13.0), np.float64(0.15)): np.float64(3.731),\n",
       " (np.float64(13.5), np.float64(0.15)): np.float64(3.841),\n",
       " (np.float64(14.0), np.float64(0.15)): np.float64(3.943),\n",
       " (np.float64(0.03), np.float64(0.26)): np.float64(0.069),\n",
       " (np.float64(0.04), np.float64(0.26)): np.float64(0.087),\n",
       " (np.float64(0.05), np.float64(0.26)): np.float64(0.102),\n",
       " (np.float64(0.06), np.float64(0.26)): np.float64(0.114),\n",
       " (np.float64(0.07), np.float64(0.26)): np.float64(0.127),\n",
       " (np.float64(0.08), np.float64(0.26)): np.float64(0.136),\n",
       " (np.float64(0.09), np.float64(0.26)): np.float64(0.145),\n",
       " (np.float64(0.1), np.float64(0.26)): np.float64(0.155),\n",
       " (np.float64(0.15), np.float64(0.26)): np.float64(0.194),\n",
       " (np.float64(0.2), np.float64(0.26)): np.float64(0.227),\n",
       " (np.float64(0.25), np.float64(0.26)): np.float64(0.255),\n",
       " (np.float64(0.3), np.float64(0.26)): np.float64(0.282),\n",
       " (np.float64(0.35), np.float64(0.26)): np.float64(0.308),\n",
       " (np.float64(0.4), np.float64(0.26)): np.float64(0.336),\n",
       " (np.float64(0.45), np.float64(0.26)): np.float64(0.363),\n",
       " (np.float64(0.5), np.float64(0.26)): np.float64(0.389),\n",
       " (np.float64(0.6), np.float64(0.26)): np.float64(0.436),\n",
       " (np.float64(0.7), np.float64(0.26)): np.float64(0.482),\n",
       " (np.float64(0.8), np.float64(0.26)): np.float64(0.526),\n",
       " (np.float64(0.9), np.float64(0.26)): np.float64(0.565),\n",
       " (np.float64(1.0), np.float64(0.26)): np.float64(0.605),\n",
       " (np.float64(1.25), np.float64(0.26)): np.float64(0.653),\n",
       " (np.float64(1.5), np.float64(0.26)): np.float64(0.669),\n",
       " (np.float64(1.75), np.float64(0.26)): np.float64(0.856),\n",
       " (np.float64(2.0), np.float64(0.26)): np.float64(0.95),\n",
       " (np.float64(2.25), np.float64(0.26)): np.float64(1.058),\n",
       " (np.float64(2.5), np.float64(0.26)): np.float64(1.133),\n",
       " (np.float64(2.75), np.float64(0.26)): np.float64(1.211),\n",
       " (np.float64(3.0), np.float64(0.26)): np.float64(1.297),\n",
       " (np.float64(3.25), np.float64(0.26)): np.float64(1.481),\n",
       " (np.float64(3.5), np.float64(0.26)): np.float64(1.552),\n",
       " (np.float64(3.75), np.float64(0.26)): np.float64(1.621),\n",
       " (np.float64(4.0), np.float64(0.26)): np.float64(1.691),\n",
       " (np.float64(4.5), np.float64(0.26)): np.float64(1.833),\n",
       " (np.float64(5.0), np.float64(0.26)): np.float64(1.975),\n",
       " (np.float64(5.5), np.float64(0.26)): np.float64(2.114),\n",
       " (np.float64(6.0), np.float64(0.26)): np.float64(2.256),\n",
       " (np.float64(6.5), np.float64(0.26)): np.float64(2.396),\n",
       " (np.float64(7.0), np.float64(0.26)): np.float64(2.541),\n",
       " (np.float64(7.5), np.float64(0.26)): np.float64(2.672),\n",
       " (np.float64(8.0), np.float64(0.26)): np.float64(2.795),\n",
       " (np.float64(8.5), np.float64(0.26)): np.float64(2.92),\n",
       " (np.float64(9.0), np.float64(0.26)): np.float64(3.048),\n",
       " (np.float64(9.5), np.float64(0.26)): np.float64(3.178),\n",
       " (np.float64(10.0), np.float64(0.26)): np.float64(3.304),\n",
       " (np.float64(10.5), np.float64(0.26)): np.float64(3.411),\n",
       " (np.float64(11.0), np.float64(0.26)): np.float64(3.537),\n",
       " (np.float64(11.5), np.float64(0.26)): np.float64(3.653),\n",
       " (np.float64(12.0), np.float64(0.26)): np.float64(3.769),\n",
       " (np.float64(12.5), np.float64(0.26)): np.float64(3.885),\n",
       " (np.float64(13.0), np.float64(0.26)): np.float64(4.003),\n",
       " (np.float64(13.5), np.float64(0.26)): np.float64(4.122),\n",
       " (np.float64(14.0), np.float64(0.26)): np.float64(4.217),\n",
       " (np.float64(0.03), np.float64(0.4)): np.float64(0.083),\n",
       " (np.float64(0.04), np.float64(0.4)): np.float64(0.098),\n",
       " (np.float64(0.05), np.float64(0.4)): np.float64(0.111),\n",
       " (np.float64(0.06), np.float64(0.4)): np.float64(0.122),\n",
       " (np.float64(0.07), np.float64(0.4)): np.float64(0.133),\n",
       " (np.float64(0.08), np.float64(0.4)): np.float64(0.141),\n",
       " (np.float64(0.09), np.float64(0.4)): np.float64(0.15),\n",
       " (np.float64(0.1), np.float64(0.4)): np.float64(0.161),\n",
       " (np.float64(0.15), np.float64(0.4)): np.float64(0.202),\n",
       " (np.float64(0.2), np.float64(0.4)): np.float64(0.235),\n",
       " (np.float64(0.25), np.float64(0.4)): np.float64(0.265),\n",
       " (np.float64(0.3), np.float64(0.4)): np.float64(0.292),\n",
       " (np.float64(0.35), np.float64(0.4)): np.float64(0.32),\n",
       " (np.float64(0.4), np.float64(0.4)): np.float64(0.349),\n",
       " (np.float64(0.45), np.float64(0.4)): np.float64(0.378),\n",
       " (np.float64(0.5), np.float64(0.4)): np.float64(0.404),\n",
       " (np.float64(0.6), np.float64(0.4)): np.float64(0.455),\n",
       " (np.float64(0.7), np.float64(0.4)): np.float64(0.506),\n",
       " (np.float64(0.8), np.float64(0.4)): np.float64(0.554),\n",
       " (np.float64(0.9), np.float64(0.4)): np.float64(0.597),\n",
       " (np.float64(1.0), np.float64(0.4)): np.float64(0.638),\n",
       " (np.float64(1.25), np.float64(0.4)): np.float64(0.711),\n",
       " (np.float64(1.5), np.float64(0.4)): np.float64(0.722),\n",
       " (np.float64(1.75), np.float64(0.4)): np.float64(0.91),\n",
       " (np.float64(2.0), np.float64(0.4)): np.float64(1.009),\n",
       " (np.float64(2.25), np.float64(0.4)): np.float64(1.116),\n",
       " (np.float64(2.5), np.float64(0.4)): np.float64(1.216),\n",
       " (np.float64(2.75), np.float64(0.4)): np.float64(1.3),\n",
       " (np.float64(3.0), np.float64(0.4)): np.float64(1.386),\n",
       " (np.float64(3.25), np.float64(0.4)): np.float64(1.537),\n",
       " (np.float64(3.5), np.float64(0.4)): np.float64(1.677),\n",
       " (np.float64(3.75), np.float64(0.4)): np.float64(1.752),\n",
       " (np.float64(4.0), np.float64(0.4)): np.float64(1.827),\n",
       " (np.float64(4.5), np.float64(0.4)): np.float64(2.011),\n",
       " (np.float64(5.0), np.float64(0.4)): np.float64(2.164),\n",
       " (np.float64(5.5), np.float64(0.4)): np.float64(2.253),\n",
       " (np.float64(6.0), np.float64(0.4)): np.float64(2.406),\n",
       " (np.float64(6.5), np.float64(0.4)): np.float64(2.555),\n",
       " (np.float64(7.0), np.float64(0.4)): np.float64(2.705),\n",
       " (np.float64(7.5), np.float64(0.4)): np.float64(2.883),\n",
       " (np.float64(8.0), np.float64(0.4)): np.float64(3.017),\n",
       " (np.float64(8.5), np.float64(0.4)): np.float64(3.152),\n",
       " (np.float64(9.0), np.float64(0.4)): np.float64(3.289),\n",
       " (np.float64(9.5), np.float64(0.4)): np.float64(3.43),\n",
       " (np.float64(10.0), np.float64(0.4)): np.float64(3.574),\n",
       " (np.float64(10.5), np.float64(0.4)): np.float64(3.718),\n",
       " (np.float64(11.0), np.float64(0.4)): np.float64(3.819),\n",
       " (np.float64(11.5), np.float64(0.4)): np.float64(3.945),\n",
       " (np.float64(12.0), np.float64(0.4)): np.float64(4.072),\n",
       " (np.float64(12.5), np.float64(0.4)): np.float64(4.2),\n",
       " (np.float64(13.0), np.float64(0.4)): np.float64(4.33),\n",
       " (np.float64(13.5), np.float64(0.4)): np.float64(4.461),\n",
       " (np.float64(14.0), np.float64(0.4)): np.float64(4.593)}"
      ]
     },
     "execution_count": 18,
     "metadata": {},
     "output_type": "execute_result"
    }
   ],
   "source": [
    "key_ml"
   ]
  },
  {
   "cell_type": "code",
   "execution_count": 19,
   "id": "ca302877",
   "metadata": {},
   "outputs": [
    {
     "data": {
      "text/plain": [
       "array([(-1.52287875, -1.49, 0., 0.082), (-1.52287875, -1.26, 0., 0.07 ),\n",
       "       (-1.52287875, -0.96, 0., 0.057), (-1.52287875, -0.66, 0., 0.057),\n",
       "       (-1.52287875, -0.35, 0., 0.062), (-1.52287875, -0.25, 0., 0.062),\n",
       "       (-1.52287875,  0.06, 0., 0.064), (-1.52287875,  0.15, 0., 0.065),\n",
       "       (-1.52287875,  0.26, 0., 0.069), (-1.39794001, -1.49, 0., 0.092),\n",
       "       (-1.39794001, -1.26, 0., 0.08 ), (-1.39794001, -0.96, 0., 0.068),\n",
       "       (-1.39794001, -0.66, 0., 0.07 ), (-1.39794001, -0.35, 0., 0.073),\n",
       "       (-1.39794001, -0.25, 0., 0.076), (-1.39794001,  0.06, 0., 0.078),\n",
       "       (-1.39794001,  0.15, 0., 0.081), (-1.39794001,  0.26, 0., 0.087),\n",
       "       (-1.30103   , -1.49, 0., 0.102), (-1.30103   , -1.26, 0., 0.091),\n",
       "       (-1.30103   , -0.96, 0., 0.079), (-1.30103   , -0.66, 0., 0.082),\n",
       "       (-1.30103   , -0.35, 0., 0.086), (-1.30103   , -0.25, 0., 0.088),\n",
       "       (-1.30103   ,  0.06, 0., 0.093), (-1.30103   ,  0.15, 0., 0.097),\n",
       "       (-1.30103   ,  0.26, 0., 0.102), (-1.22184875, -1.49, 0., 0.111),\n",
       "       (-1.22184875, -1.26, 0., 0.099), (-1.22184875, -0.96, 0., 0.089),\n",
       "       (-1.22184875, -0.66, 0., 0.092), (-1.22184875, -0.35, 0., 0.095),\n",
       "       (-1.22184875, -0.25, 0., 0.096), (-1.22184875,  0.06, 0., 0.103),\n",
       "       (-1.22184875,  0.15, 0., 0.107), (-1.22184875,  0.26, 0., 0.114),\n",
       "       (-1.15490196, -1.49, 0., 0.117), (-1.15490196, -1.26, 0., 0.106),\n",
       "       (-1.15490196, -0.96, 0., 0.098), (-1.15490196, -0.66, 0., 0.102),\n",
       "       (-1.15490196, -0.35, 0., 0.105), (-1.15490196, -0.25, 0., 0.108),\n",
       "       (-1.15490196,  0.06, 0., 0.115), (-1.15490196,  0.15, 0., 0.121),\n",
       "       (-1.15490196,  0.26, 0., 0.127), (-1.09691001, -1.49, 0., 0.117),\n",
       "       (-1.09691001, -1.26, 0., 0.108), (-1.09691001, -0.96, 0., 0.103),\n",
       "       (-1.09691001, -0.66, 0., 0.109), (-1.09691001, -0.35, 0., 0.113),\n",
       "       (-1.09691001, -0.25, 0., 0.115), (-1.09691001,  0.06, 0., 0.125),\n",
       "       (-1.09691001,  0.15, 0., 0.13 ), (-1.09691001,  0.26, 0., 0.136),\n",
       "       (-1.04575749, -1.49, 0., 0.115), (-1.04575749, -1.26, 0., 0.11 ),\n",
       "       (-1.04575749, -0.96, 0., 0.109), (-1.04575749, -0.66, 0., 0.117),\n",
       "       (-1.04575749, -0.35, 0., 0.121), (-1.04575749, -0.25, 0., 0.123),\n",
       "       (-1.04575749,  0.06, 0., 0.134), (-1.04575749,  0.15, 0., 0.139),\n",
       "       (-1.04575749,  0.26, 0., 0.145), (-1.        , -1.49, 0., 0.114),\n",
       "       (-1.        , -1.26, 0., 0.112), (-1.        , -0.96, 0., 0.117),\n",
       "       (-1.        , -0.66, 0., 0.126), (-1.        , -0.35, 0., 0.131),\n",
       "       (-1.        , -0.25, 0., 0.134), (-1.        ,  0.06, 0., 0.145),\n",
       "       (-1.        ,  0.15, 0., 0.15 ), (-1.        ,  0.26, 0., 0.155),\n",
       "       (-0.82390874, -1.49, 0., 0.133), (-0.82390874, -1.26, 0., 0.133),\n",
       "       (-0.82390874, -0.96, 0., 0.14 ), (-0.82390874, -0.66, 0., 0.152),\n",
       "       (-0.82390874, -0.35, 0., 0.16 ), (-0.82390874, -0.25, 0., 0.166),\n",
       "       (-0.82390874,  0.06, 0., 0.184), (-0.82390874,  0.15, 0., 0.189),\n",
       "       (-0.82390874,  0.26, 0., 0.194), (-0.69897   , -1.49, 0., 0.153),\n",
       "       (-0.69897   , -1.26, 0., 0.155), (-0.69897   , -0.96, 0., 0.157),\n",
       "       (-0.69897   , -0.66, 0., 0.173), (-0.69897   , -0.35, 0., 0.19 ),\n",
       "       (-0.69897   , -0.25, 0., 0.193), (-0.69897   ,  0.06, 0., 0.216),\n",
       "       (-0.69897   ,  0.15, 0., 0.221), (-0.69897   ,  0.26, 0., 0.227),\n",
       "       (-0.60205999, -1.49, 0., 0.169), (-0.60205999, -1.26, 0., 0.172),\n",
       "       (-0.60205999, -0.96, 0., 0.176), (-0.60205999, -0.66, 0., 0.193),\n",
       "       (-0.60205999, -0.35, 0., 0.215), (-0.60205999, -0.25, 0., 0.219),\n",
       "       (-0.60205999,  0.06, 0., 0.243), (-0.60205999,  0.15, 0., 0.249),\n",
       "       (-0.60205999,  0.26, 0., 0.255), (-0.52287875, -1.49, 0., 0.19 ),\n",
       "       (-0.52287875, -1.26, 0., 0.192), (-0.52287875, -0.96, 0., 0.199),\n",
       "       (-0.52287875, -0.66, 0., 0.214), (-0.52287875, -0.35, 0., 0.24 ),\n",
       "       (-0.52287875, -0.25, 0., 0.246), (-0.52287875,  0.06, 0., 0.269),\n",
       "       (-0.52287875,  0.15, 0., 0.275), (-0.52287875,  0.26, 0., 0.282),\n",
       "       (-0.45593196, -1.49, 0., 0.205), (-0.45593196, -1.26, 0., 0.209),\n",
       "       (-0.45593196, -0.96, 0., 0.221), (-0.45593196, -0.66, 0., 0.241),\n",
       "       (-0.45593196, -0.35, 0., 0.266), (-0.45593196, -0.25, 0., 0.272),\n",
       "       (-0.45593196,  0.06, 0., 0.295), (-0.45593196,  0.15, 0., 0.301),\n",
       "       (-0.45593196,  0.26, 0., 0.308), (-0.39794001, -1.49, 0., 0.22 ),\n",
       "       (-0.39794001, -1.26, 0., 0.224), (-0.39794001, -0.96, 0., 0.236),\n",
       "       (-0.39794001, -0.66, 0., 0.26 ), (-0.39794001, -0.35, 0., 0.289),\n",
       "       (-0.39794001, -0.25, 0., 0.298), (-0.39794001,  0.06, 0., 0.32 ),\n",
       "       (-0.39794001,  0.15, 0., 0.327), (-0.39794001,  0.26, 0., 0.336),\n",
       "       (-0.34678749, -1.49, 0., 0.235), (-0.34678749, -1.26, 0., 0.24 ),\n",
       "       (-0.34678749, -0.96, 0., 0.252), (-0.34678749, -0.66, 0., 0.279),\n",
       "       (-0.34678749, -0.35, 0., 0.309), (-0.34678749, -0.25, 0., 0.317),\n",
       "       (-0.34678749,  0.06, 0., 0.344), (-0.34678749,  0.15, 0., 0.352),\n",
       "       (-0.34678749,  0.26, 0., 0.363), (-0.30103   , -1.49, 0., 0.25 ),\n",
       "       (-0.30103   , -1.26, 0., 0.256), (-0.30103   , -0.96, 0., 0.27 ),\n",
       "       (-0.30103   , -0.66, 0., 0.299), (-0.30103   , -0.35, 0., 0.328),\n",
       "       (-0.30103   , -0.25, 0., 0.336), (-0.30103   ,  0.06, 0., 0.367),\n",
       "       (-0.30103   ,  0.15, 0., 0.377), (-0.30103   ,  0.26, 0., 0.389),\n",
       "       (-0.22184875, -1.49, 0., 0.277), (-0.22184875, -1.26, 0., 0.284),\n",
       "       (-0.22184875, -0.96, 0., 0.302), (-0.22184875, -0.66, 0., 0.336),\n",
       "       (-0.22184875, -0.35, 0., 0.364), (-0.22184875, -0.25, 0., 0.372),\n",
       "       (-0.22184875,  0.06, 0., 0.411), (-0.22184875,  0.15, 0., 0.422),\n",
       "       (-0.22184875,  0.26, 0., 0.436), (-0.15490196, -1.49, 0., 0.301),\n",
       "       (-0.15490196, -1.26, 0., 0.31 ), (-0.15490196, -0.96, 0., 0.334),\n",
       "       (-0.15490196, -0.66, 0., 0.365), (-0.15490196, -0.35, 0., 0.395),\n",
       "       (-0.15490196, -0.25, 0., 0.406), (-0.15490196,  0.06, 0., 0.452),\n",
       "       (-0.15490196,  0.15, 0., 0.465), (-0.15490196,  0.26, 0., 0.482),\n",
       "       (-0.09691001, -1.49, 0., 0.321), (-0.09691001, -1.26, 0., 0.336),\n",
       "       (-0.09691001, -0.96, 0., 0.361), (-0.09691001, -0.66, 0., 0.392),\n",
       "       (-0.09691001, -0.35, 0., 0.426), (-0.09691001, -0.25, 0., 0.439),\n",
       "       (-0.09691001,  0.06, 0., 0.489), (-0.09691001,  0.15, 0., 0.506),\n",
       "       (-0.09691001,  0.26, 0., 0.526), (-0.04575749, -1.49, 0., 0.315),\n",
       "       (-0.04575749, -1.26, 0., 0.339), (-0.04575749, -0.96, 0., 0.378),\n",
       "       (-0.04575749, -0.66, 0., 0.415), (-0.04575749, -0.35, 0., 0.454),\n",
       "       (-0.04575749, -0.25, 0., 0.464), (-0.04575749,  0.06, 0., 0.526),\n",
       "       (-0.04575749,  0.15, 0., 0.543), (-0.04575749,  0.26, 0., 0.565),\n",
       "       ( 0.        , -1.49, 0., 0.298), ( 0.        , -1.26, 0., 0.313),\n",
       "       ( 0.        , -0.96, 0., 0.372), ( 0.        , -0.66, 0., 0.428),\n",
       "       ( 0.        , -0.35, 0., 0.48 ), ( 0.        , -0.25, 0., 0.471),\n",
       "       ( 0.        ,  0.06, 0., 0.561), ( 0.        ,  0.15, 0., 0.578),\n",
       "       ( 0.        ,  0.26, 0., 0.605), ( 0.09691001, -1.49, 0., 0.356),\n",
       "       ( 0.09691001, -1.26, 0., 0.373), ( 0.09691001, -0.96, 0., 0.373),\n",
       "       ( 0.09691001, -0.66, 0., 0.388), ( 0.09691001, -0.35, 0., 0.476),\n",
       "       ( 0.09691001, -0.25, 0., 0.492), ( 0.09691001,  0.06, 0., 0.579),\n",
       "       ( 0.09691001,  0.15, 0., 0.606), ( 0.09691001,  0.26, 0., 0.653),\n",
       "       ( 0.17609126, -1.49, 0., 0.399), ( 0.17609126, -1.26, 0., 0.4  ),\n",
       "       ( 0.17609126, -0.96, 0., 0.428), ( 0.17609126, -0.66, 0., 0.48 ),\n",
       "       ( 0.17609126, -0.35, 0., 0.435), ( 0.17609126, -0.25, 0., 0.567),\n",
       "       ( 0.17609126,  0.06, 0., 0.649), ( 0.17609126,  0.15, 0., 0.657),\n",
       "       ( 0.17609126,  0.26, 0., 0.669), ( 0.24303805, -1.49, 0., 0.468),\n",
       "       ( 0.24303805, -1.26, 0., 0.475), ( 0.24303805, -0.96, 0., 0.494),\n",
       "       ( 0.24303805, -0.66, 0., 0.515), ( 0.24303805, -0.35, 0., 0.609),\n",
       "       ( 0.24303805, -0.25, 0., 0.649), ( 0.24303805,  0.06, 0., 0.771),\n",
       "       ( 0.24303805,  0.15, 0., 0.809), ( 0.24303805,  0.26, 0., 0.856),\n",
       "       ( 0.30103   , -1.49, 0., 0.505), ( 0.30103   , -1.26, 0., 0.512),\n",
       "       ( 0.30103   , -0.96, 0., 0.547), ( 0.30103   , -0.66, 0., 0.608),\n",
       "       ( 0.30103   , -0.35, 0., 0.658), ( 0.30103   , -0.25, 0., 0.701),\n",
       "       ( 0.30103   ,  0.06, 0., 0.862), ( 0.30103   ,  0.15, 0., 0.901),\n",
       "       ( 0.30103   ,  0.26, 0., 0.95 ), ( 0.35218252, -1.49, 0., 0.544),\n",
       "       ( 0.35218252, -1.26, 0., 0.553), ( 0.35218252, -0.96, 0., 0.585),\n",
       "       ( 0.35218252, -0.66, 0., 0.65 ), ( 0.35218252, -0.35, 0., 0.761),\n",
       "       ( 0.35218252, -0.25, 0., 0.763), ( 0.35218252,  0.06, 0., 0.942),\n",
       "       ( 0.35218252,  0.15, 0., 0.994), ( 0.35218252,  0.26, 0., 1.058),\n",
       "       ( 0.39794001, -1.49, 0., 0.605), ( 0.39794001, -1.26, 0., 0.612),\n",
       "       ( 0.39794001, -0.96, 0., 0.626), ( 0.39794001, -0.66, 0., 0.693),\n",
       "       ( 0.39794001, -0.35, 0., 0.828), ( 0.39794001, -0.25, 0., 0.885),\n",
       "       ( 0.39794001,  0.06, 0., 1.012), ( 0.39794001,  0.15, 0., 1.067),\n",
       "       ( 0.39794001,  0.26, 0., 1.133), ( 0.43933269, -1.49, 0., 0.642),\n",
       "       ( 0.43933269, -1.26, 0., 0.657), ( 0.43933269, -0.96, 0., 0.695),\n",
       "       ( 0.43933269, -0.66, 0., 0.737), ( 0.43933269, -0.35, 0., 0.878),\n",
       "       ( 0.43933269, -0.25, 0., 0.938), ( 0.43933269,  0.06, 0., 1.093),\n",
       "       ( 0.43933269,  0.15, 0., 1.146), ( 0.43933269,  0.26, 0., 1.211),\n",
       "       ( 0.47712125, -1.49, 0., 0.68 ), ( 0.47712125, -1.26, 0., 0.694),\n",
       "       ( 0.47712125, -0.96, 0., 0.733), ( 0.47712125, -0.66, 0., 0.797),\n",
       "       ( 0.47712125, -0.35, 0., 0.93 ), ( 0.47712125, -0.25, 0., 0.991),\n",
       "       ( 0.47712125,  0.06, 0., 1.246), ( 0.47712125,  0.15, 0., 1.267),\n",
       "       ( 0.47712125,  0.26, 0., 1.297), ( 0.51188336, -1.49, 0., 0.726),\n",
       "       ( 0.51188336, -1.26, 0., 0.739), ( 0.51188336, -0.96, 0., 0.773),\n",
       "       ( 0.51188336, -0.66, 0., 0.847), ( 0.51188336, -0.35, 0., 0.982),\n",
       "       ( 0.51188336, -0.25, 0., 1.046), ( 0.51188336,  0.06, 0., 1.309),\n",
       "       ( 0.51188336,  0.15, 0., 1.387), ( 0.51188336,  0.26, 0., 1.481),\n",
       "       ( 0.54406804, -1.49, 0., 0.759), ( 0.54406804, -1.26, 0., 0.777),\n",
       "       ( 0.54406804, -0.96, 0., 0.822), ( 0.54406804, -0.66, 0., 0.891),\n",
       "       ( 0.54406804, -0.35, 0., 1.041), ( 0.54406804, -0.25, 0., 1.1  ),\n",
       "       ( 0.54406804,  0.06, 0., 1.372), ( 0.54406804,  0.15, 0., 1.453),\n",
       "       ( 0.54406804,  0.26, 0., 1.552), ( 0.57403127, -1.49, 0., 0.791),\n",
       "       ( 0.57403127, -1.26, 0., 0.811), ( 0.57403127, -0.96, 0., 0.862),\n",
       "       ( 0.57403127, -0.66, 0., 0.936), ( 0.57403127, -0.35, 0., 1.106),\n",
       "       ( 0.57403127, -0.25, 0., 1.16 ), ( 0.57403127,  0.06, 0., 1.436),\n",
       "       ( 0.57403127,  0.15, 0., 1.523), ( 0.57403127,  0.26, 0., 1.621),\n",
       "       ( 0.60205999, -1.49, 0., 0.825), ( 0.60205999, -1.26, 0., 0.846),\n",
       "       ( 0.60205999, -0.96, 0., 0.897), ( 0.60205999, -0.66, 0., 0.998),\n",
       "       ( 0.60205999, -0.35, 0., 1.156), ( 0.60205999, -0.25, 0., 1.228),\n",
       "       ( 0.60205999,  0.06, 0., 1.501), ( 0.60205999,  0.15, 0., 1.59 ),\n",
       "       ( 0.60205999,  0.26, 0., 1.691), ( 0.65321251, -1.49, 0., 0.903),\n",
       "       ( 0.65321251, -1.26, 0., 0.932), ( 0.65321251, -0.96, 0., 0.97 ),\n",
       "       ( 0.65321251, -0.66, 0., 1.077), ( 0.65321251, -0.35, 0., 1.258),\n",
       "       ( 0.65321251, -0.25, 0., 1.329), ( 0.65321251,  0.06, 0., 1.631),\n",
       "       ( 0.65321251,  0.15, 0., 1.721), ( 0.65321251,  0.26, 0., 1.833),\n",
       "       ( 0.69897   , -1.49, 0., 0.965), ( 0.69897   , -1.26, 0., 0.994),\n",
       "       ( 0.69897   , -0.96, 0., 1.057), ( 0.69897   , -0.66, 0., 1.158),\n",
       "       ( 0.69897   , -0.35, 0., 1.375), ( 0.69897   , -0.25, 0., 1.448),\n",
       "       ( 0.69897   ,  0.06, 0., 1.761), ( 0.69897   ,  0.15, 0., 1.853),\n",
       "       ( 0.69897   ,  0.26, 0., 1.975), ( 0.74036269, -1.49, 0., 1.029),\n",
       "       ( 0.74036269, -1.26, 0., 1.058), ( 0.74036269, -0.96, 0., 1.124),\n",
       "       ( 0.74036269, -0.66, 0., 1.26 ), ( 0.74036269, -0.35, 0., 1.465),\n",
       "       ( 0.74036269, -0.25, 0., 1.553), ( 0.74036269,  0.06, 0., 1.888),\n",
       "       ( 0.74036269,  0.15, 0., 1.989), ( 0.74036269,  0.26, 0., 2.114),\n",
       "       ( 0.77815125, -1.49, 0., 1.118), ( 0.77815125, -1.26, 0., 1.127),\n",
       "       ( 0.77815125, -0.96, 0., 1.194), ( 0.77815125, -0.66, 0., 1.334),\n",
       "       ( 0.77815125, -0.35, 0., 1.559), ( 0.77815125, -0.25, 0., 1.65 ),\n",
       "       ( 0.77815125,  0.06, 0., 2.014), ( 0.77815125,  0.15, 0., 2.122),\n",
       "       ( 0.77815125,  0.26, 0., 2.256), ( 0.81291336, -1.49, 0., 1.18 ),\n",
       "       ( 0.81291336, -1.26, 0., 1.211), ( 0.81291336, -0.96, 0., 1.269),\n",
       "       ( 0.81291336, -0.66, 0., 1.41 ), ( 0.81291336, -0.35, 0., 1.676),\n",
       "       ( 0.81291336, -0.25, 0., 1.752), ( 0.81291336,  0.06, 0., 2.154),\n",
       "       ( 0.81291336,  0.15, 0., 2.262), ( 0.81291336,  0.26, 0., 2.396),\n",
       "       ( 0.84509804, -1.49, 0., 1.242), ( 0.84509804, -1.26, 0., 1.275),\n",
       "       ( 0.84509804, -0.96, 0., 1.353), ( 0.84509804, -0.66, 0., 1.488),\n",
       "       ( 0.84509804, -0.35, 0., 1.762), ( 0.84509804, -0.25, 0., 1.881),\n",
       "       ( 0.84509804,  0.06, 0., 2.266), ( 0.84509804,  0.15, 0., 2.389),\n",
       "       ( 0.84509804,  0.26, 0., 2.541), ( 0.87506126, -1.49, 0., 1.306),\n",
       "       ( 0.87506126, -1.26, 0., 1.341), ( 0.87506126, -0.96, 0., 1.419),\n",
       "       ( 0.87506126, -0.66, 0., 1.575), ( 0.87506126, -0.35, 0., 1.848),\n",
       "       ( 0.87506126, -0.25, 0., 1.969), ( 0.87506126,  0.06, 0., 2.38 ),\n",
       "       ( 0.87506126,  0.15, 0., 2.51 ), ( 0.87506126,  0.26, 0., 2.672),\n",
       "       ( 0.90308999, -1.49, 0., 1.37 ), ( 0.90308999, -1.26, 0., 1.408),\n",
       "       ( 0.90308999, -0.96, 0., 1.487), ( 0.90308999, -0.66, 0., 1.652),\n",
       "       ( 0.90308999, -0.35, 0., 1.935), ( 0.90308999, -0.25, 0., 2.057),\n",
       "       ( 0.90308999,  0.06, 0., 2.495), ( 0.90308999,  0.15, 0., 2.629),\n",
       "       ( 0.90308999,  0.26, 0., 2.795), ( 0.92941893, -1.49, 0., 1.434),\n",
       "       ( 0.92941893, -1.26, 0., 1.478), ( 0.92941893, -0.96, 0., 1.555),\n",
       "       ( 0.92941893, -0.66, 0., 1.725), ( 0.92941893, -0.35, 0., 2.024),\n",
       "       ( 0.92941893, -0.25, 0., 2.146), ( 0.92941893,  0.06, 0., 2.612),\n",
       "       ( 0.92941893,  0.15, 0., 2.749), ( 0.92941893,  0.26, 0., 2.92 ),\n",
       "       ( 0.95424251, -1.49, 0., 1.49 ), ( 0.95424251, -1.26, 0., 1.544),\n",
       "       ( 0.95424251, -0.96, 0., 1.624), ( 0.95424251, -0.66, 0., 1.799),\n",
       "       ( 0.95424251, -0.35, 0., 2.114), ( 0.95424251, -0.25, 0., 2.237),\n",
       "       ( 0.95424251,  0.06, 0., 2.731), ( 0.95424251,  0.15, 0., 2.872),\n",
       "       ( 0.95424251,  0.26, 0., 3.048), ( 0.97772361, -1.49, 0., 1.552),\n",
       "       ( 0.97772361, -1.26, 0., 1.608), ( 0.97772361, -0.96, 0., 1.695),\n",
       "       ( 0.97772361, -0.66, 0., 1.873), ( 0.97772361, -0.35, 0., 2.204),\n",
       "       ( 0.97772361, -0.25, 0., 2.329), ( 0.97772361,  0.06, 0., 2.829),\n",
       "       ( 0.97772361,  0.15, 0., 2.984), ( 0.97772361,  0.26, 0., 3.178),\n",
       "       ( 1.        , -1.49, 0., 1.615), ( 1.        , -1.26, 0., 1.672),\n",
       "       ( 1.        , -0.96, 0., 1.764), ( 1.        , -0.66, 0., 1.948),\n",
       "       ( 1.        , -0.35, 0., 2.289), ( 1.        , -0.25, 0., 2.403),\n",
       "       ( 1.        ,  0.06, 0., 2.927), ( 1.        ,  0.15, 0., 3.095),\n",
       "       ( 1.        ,  0.26, 0., 3.304), ( 1.0211893 , -1.49, 0., 1.677),\n",
       "       ( 1.0211893 , -1.26, 0., 1.738), ( 1.0211893 , -0.96, 0., 1.832),\n",
       "       ( 1.0211893 , -0.66, 0., 2.025), ( 1.0211893 , -0.35, 0., 2.374),\n",
       "       ( 1.0211893 , -0.25, 0., 2.491), ( 1.0211893 ,  0.06, 0., 3.025),\n",
       "       ( 1.0211893 ,  0.15, 0., 3.231), ( 1.0211893 ,  0.26, 0., 3.411),\n",
       "       ( 1.04139269, -1.49, 0., 1.74 ), ( 1.04139269, -1.26, 0., 1.803),\n",
       "       ( 1.04139269, -0.96, 0., 1.901), ( 1.04139269, -0.66, 0., 2.102),\n",
       "       ( 1.04139269, -0.35, 0., 2.46 ), ( 1.04139269, -0.25, 0., 2.578),\n",
       "       ( 1.04139269,  0.06, 0., 3.181), ( 1.04139269,  0.15, 0., 3.34 ),\n",
       "       ( 1.04139269,  0.26, 0., 3.537), ( 1.06069784, -1.49, 0., 1.796),\n",
       "       ( 1.06069784, -1.26, 0., 1.868), ( 1.06069784, -0.96, 0., 1.973),\n",
       "       ( 1.06069784, -0.66, 0., 2.174), ( 1.06069784, -0.35, 0., 2.547),\n",
       "       ( 1.06069784, -0.25, 0., 2.666), ( 1.06069784,  0.06, 0., 3.287),\n",
       "       ( 1.06069784,  0.15, 0., 3.45 ), ( 1.06069784,  0.26, 0., 3.653),\n",
       "       ( 1.07918125, -1.49, 0., 1.856), ( 1.07918125, -1.26, 0., 1.927),\n",
       "       ( 1.07918125, -0.96, 0., 2.045), ( 1.07918125, -0.66, 0., 2.246),\n",
       "       ( 1.07918125, -0.35, 0., 2.635), ( 1.07918125, -0.25, 0., 2.755),\n",
       "       ( 1.07918125,  0.06, 0., 3.394), ( 1.07918125,  0.15, 0., 3.56 ),\n",
       "       ( 1.07918125,  0.26, 0., 3.769), ( 1.09691001, -1.49, 0., 1.919),\n",
       "       ( 1.09691001, -1.26, 0., 1.987), ( 1.09691001, -0.96, 0., 2.118),\n",
       "       ( 1.09691001, -0.66, 0., 2.32 ), ( 1.09691001, -0.35, 0., 2.724),\n",
       "       ( 1.09691001, -0.25, 0., 2.845), ( 1.09691001,  0.06, 0., 3.487),\n",
       "       ( 1.09691001,  0.15, 0., 3.664), ( 1.09691001,  0.26, 0., 3.885),\n",
       "       ( 1.11394335, -1.49, 0., 1.982), ( 1.11394335, -1.26, 0., 2.051),\n",
       "       ( 1.11394335, -0.96, 0., 2.182), ( 1.11394335, -0.66, 0., 2.394),\n",
       "       ( 1.11394335, -0.35, 0., 2.813), ( 1.11394335, -0.25, 0., 2.935),\n",
       "       ( 1.11394335,  0.06, 0., 3.517), ( 1.11394335,  0.15, 0., 3.731),\n",
       "       ( 1.11394335,  0.26, 0., 4.003), ( 1.13033377, -1.49, 0., 2.056),\n",
       "       ( 1.13033377, -1.26, 0., 2.114), ( 1.13033377, -0.96, 0., 2.249),\n",
       "       ( 1.13033377, -0.66, 0., 2.469), ( 1.13033377, -0.35, 0., 2.888),\n",
       "       ( 1.13033377, -0.25, 0., 3.026), ( 1.13033377,  0.06, 0., 3.62 ),\n",
       "       ( 1.13033377,  0.15, 0., 3.841), ( 1.13033377,  0.26, 0., 4.122),\n",
       "       ( 1.14612804, -1.49, 0., 2.125), ( 1.14612804, -1.26, 0., 2.193),\n",
       "       ( 1.14612804, -0.96, 0., 2.32 ), ( 1.14612804, -0.66, 0., 2.54 ),\n",
       "       ( 1.14612804, -0.35, 0., 2.962), ( 1.14612804, -0.25, 0., 3.118),\n",
       "       ( 1.14612804,  0.06, 0., 3.723), ( 1.14612804,  0.15, 0., 3.943),\n",
       "       ( 1.14612804,  0.26, 0., 4.217)],\n",
       "      dtype=[('LOGAGE', '>f8'), ('METAL', '>f8'), ('ALPHA', '>f8'), ('ML_R', '<f4')])"
      ]
     },
     "execution_count": 19,
     "metadata": {},
     "output_type": "execute_result"
    }
   ],
   "source": [
    "grid_mlr"
   ]
  },
  {
   "cell_type": "code",
   "execution_count": 20,
   "id": "8b9a9c5a",
   "metadata": {},
   "outputs": [
    {
     "data": {
      "text/plain": [
       "FITS_rec([([0.        , 0.        , 0.        , 0.        , 0.        , 0.        , 0.        , 0.        , 0.        , 0.        , 0.        , 0.        , 0.        , 0.        , 0.        , 0.        , 0.        , 0.        , 0.        , 0.        , 0.        , 0.        , 0.        , 0.        , 0.        , 0.        , 0.        , 0.        , 0.        , 0.        , 0.        , 0.        , 0.        , 0.        , 0.        , 0.        , 0.        , 0.        , 0.        , 0.        , 0.        , 0.        , 0.        , 0.        , 0.        , 0.        , 0.        , 0.        , 0.        , 0.        , 0.        , 0.        , 0.        , 0.        , 0.        , 0.        , 0.        , 0.        , 0.        , 0.        , 0.        , 0.        , 0.        , 0.        , 0.        , 0.        , 0.        , 0.        , 0.        , 0.        , 0.        , 0.        , 0.        , 0.        , 0.        , 0.        , 0.        , 0.        , 0.        , 0.        , 0.        , 0.        , 0.        , 0.        , 0.        , 0.        , 0.        , 0.        , 0.        , 0.        , 0.        , 0.        , 0.        , 0.        , 0.        , 0.        , 0.        , 0.        , 0.        , 0.        , 0.        , 0.        , 0.        , 0.        , 0.        , 0.        , 0.        , 0.        , 0.        , 0.        , 0.        , 0.        , 0.        , 0.        , 0.        , 0.        , 0.        , 0.        , 0.        , 0.        , 0.        , 0.        , 0.        , 0.        , 0.        , 0.04101761, 0.        , 0.        , 0.        , 0.        , 0.        , 0.        , 0.        , 0.        , 0.        , 0.        , 0.        , 0.        , 0.        , 0.        , 0.        , 0.        , 0.        , 0.        , 0.        , 0.1380397 , 0.        , 0.        , 0.        , 0.        , 0.        , 0.        , 0.        , 0.        , 0.        , 0.        , 0.        , 0.        , 0.        , 0.        , 0.        , 0.        , 0.        , 0.        , 0.        , 0.        , 0.        , 0.        , 0.        , 0.18397174, 0.        , 0.        , 0.01326022, 0.        , 0.        , 0.        , 0.        , 0.        , 0.07676459, 0.        , 0.        , 0.        , 0.        , 0.        , 0.        , 0.        , 0.        , 0.        , 0.        , 0.        , 0.        , 0.        , 0.        , 0.        , 0.        , 0.        , 0.        , 0.        , 0.        , 0.        , 0.        , 0.        , 0.        , 0.        , 0.        , 0.        , 0.        , 0.        , 0.        , 0.        , 0.        , 0.        , 0.        , 0.        , 0.        , 0.        , 0.        , 0.        , 0.        , 0.        , 0.        , 0.        , 0.        , 0.        , 0.        , 0.        , 0.        , 0.        , 0.        , 0.        , 0.        , 0.        , 0.        , 0.        , 0.        , 0.        , 0.        , 0.        , 0.        , 0.        , 0.        , 0.        , 0.        , 0.        , 0.        , 0.        , 0.        , 0.        , 0.        , 0.        , 0.        , 0.        , 0.        , 0.        , 0.        , 0.        , 0.        , 0.        , 0.        , 0.        , 0.        , 0.        , 0.        , 0.        , 0.        , 0.        , 0.        , 0.        , 0.        , 0.        , 0.        , 0.        , 0.        , 0.        , 0.        , 0.        , 0.        , 0.        , 0.        , 0.        , 0.        , 0.        , 0.        , 0.        , 0.        , 0.        , 0.        , 0.        , 0.        , 0.        , 0.        , 0.        , 0.        , 0.        , 0.        , 0.        , 0.        , 0.        , 0.        , 0.        , 0.        , 0.        , 0.        , 0.        , 0.        , 0.41694826, 0.        , 0.        , 0.        , 0.        , 0.        , 0.        , 0.        , 0.        , 0.        , 0.        , 0.        , 0.        , 0.        , 0.        , 0.        , 0.        , 0.        , 0.        , 0.        , 0.        , 0.        , 0.        , 0.        , 0.        , 0.        , 0.        , 0.        , 0.        , 0.        , 0.        , 0.        , 0.        , 0.        , 0.        , 0.        , 0.        , 0.        , 0.        , 0.        , 0.        , 0.        , 0.        , 0.        , 0.        , 0.        , 0.        , 0.        , 0.        , 0.        , 0.        , 0.        , 0.        , 0.        , 0.        , 0.        , 0.        , 0.        , 0.        , 0.        , 0.        , 0.        , 0.        , 0.        , 0.        , 0.        , 0.        , 0.        , 0.        , 0.        , 0.        , 0.        , 0.        , 0.        , 0.        , 0.        , 0.        , 0.        , 0.        , 0.        , 0.        , 0.        , 0.        , 0.        , 0.        , 0.        , 0.        , 0.        , 0.        , 0.        , 0.        , 0.        , 0.        , 0.        , 0.        , 0.        , 0.        , 0.        , 0.        , 0.        , 0.        , 0.        , 0.12999788, 0.        , 0.        , 0.        , 0.        , 0.        , 0.        , 0.        , 0.        , 0.        , 0.        , 0.        , 0.        , 0.        , 0.        , 0.        , 0.        , 0.        , 0.        , 0.        , 0.        , 0.        , 0.        , 0.        , 0.        , 0.        , 0.        , 0.        , 0.        , 0.        , 0.        , 0.        , 0.        , 0.        , 0.        , 0.        , 0.        , 0.        , 0.        , 0.        , 0.        , 0.        , 0.        , 0.        , 0.        , 0.        , 0.        , 0.        , 0.        , 0.        , 0.        , 0.        , 0.        , 0.        , 0.        , 0.        , 0.        , 0.        , 0.        , 0.        , 0.        , 0.        , 0.        , 0.        , 0.        , 0.        , 0.        , 0.        , 0.        , 0.        ],),\n",
       "          ([0.        , 0.        , 0.        , 0.        , 0.        , 0.        , 0.        , 0.        , 0.        , 0.        , 0.        , 0.        , 0.        , 0.        , 0.        , 0.        , 0.        , 0.        , 0.        , 0.00347635, 0.        , 0.        , 0.        , 0.        , 0.        , 0.        , 0.        , 0.        , 0.        , 0.        , 0.        , 0.        , 0.        , 0.        , 0.        , 0.        , 0.        , 0.        , 0.        , 0.        , 0.        , 0.        , 0.        , 0.        , 0.        , 0.        , 0.        , 0.        , 0.        , 0.        , 0.        , 0.        , 0.        , 0.        , 0.        , 0.        , 0.        , 0.        , 0.        , 0.        , 0.        , 0.        , 0.        , 0.        , 0.        , 0.        , 0.        , 0.        , 0.        , 0.        , 0.        , 0.        , 0.        , 0.        , 0.        , 0.        , 0.        , 0.        , 0.        , 0.        , 0.        , 0.        , 0.        , 0.        , 0.        , 0.        , 0.        , 0.        , 0.        , 0.        , 0.        , 0.        , 0.        , 0.        , 0.        , 0.        , 0.        , 0.        , 0.        , 0.        , 0.        , 0.        , 0.        , 0.        , 0.        , 0.        , 0.        , 0.        , 0.        , 0.        , 0.        , 0.        , 0.        , 0.        , 0.        , 0.        , 0.        , 0.        , 0.        , 0.        , 0.        , 0.        , 0.        , 0.        , 0.        , 0.        , 0.        , 0.        , 0.        , 0.        , 0.        , 0.        , 0.        , 0.        , 0.        , 0.        , 0.        , 0.        , 0.        , 0.        , 0.        , 0.        , 0.        , 0.        , 0.        , 0.        , 0.        , 0.        , 0.        , 0.        , 0.        , 0.        , 0.        , 0.        , 0.        , 0.        , 0.        , 0.        , 0.        , 0.        , 0.27530059, 0.        , 0.        , 0.        , 0.        , 0.        , 0.        , 0.        , 0.        , 0.        , 0.        , 0.        , 0.        , 0.        , 0.        , 0.        , 0.        , 0.        , 0.        , 0.        , 0.        , 0.        , 0.        , 0.        , 0.        , 0.        , 0.        , 0.        , 0.        , 0.        , 0.        , 0.        , 0.        , 0.        , 0.        , 0.        , 0.        , 0.09128198, 0.        , 0.        , 0.        , 0.        , 0.        , 0.        , 0.        , 0.        , 0.        , 0.        , 0.        , 0.        , 0.        , 0.        , 0.        , 0.        , 0.        , 0.        , 0.        , 0.        , 0.        , 0.        , 0.        , 0.        , 0.        , 0.        , 0.        , 0.        , 0.        , 0.        , 0.        , 0.        , 0.        , 0.        , 0.        , 0.        , 0.        , 0.        , 0.        , 0.        , 0.        , 0.        , 0.        , 0.        , 0.        , 0.        , 0.        , 0.        , 0.        , 0.        , 0.        , 0.        , 0.        , 0.        , 0.        , 0.        , 0.        , 0.        , 0.        , 0.        , 0.        , 0.        , 0.        , 0.        , 0.        , 0.        , 0.        , 0.        , 0.        , 0.        , 0.        , 0.        , 0.        , 0.        , 0.        , 0.        , 0.        , 0.        , 0.        , 0.        , 0.        , 0.        , 0.        , 0.        , 0.        , 0.        , 0.        , 0.        , 0.        , 0.        , 0.        , 0.        , 0.        , 0.        , 0.        , 0.        , 0.        , 0.        , 0.        , 0.        , 0.        , 0.        , 0.        , 0.        , 0.        , 0.        , 0.        , 0.        , 0.        , 0.        , 0.        , 0.        , 0.        , 0.        , 0.        , 0.        , 0.        , 0.        , 0.        , 0.        , 0.        , 0.        , 0.        , 0.        , 0.        , 0.        , 0.        , 0.        , 0.        , 0.        , 0.        , 0.        , 0.        , 0.        , 0.        , 0.        , 0.        , 0.        , 0.        , 0.        , 0.        , 0.        , 0.        , 0.        , 0.        , 0.        , 0.        , 0.        , 0.        , 0.        , 0.        , 0.        , 0.        , 0.        , 0.        , 0.        , 0.        , 0.        , 0.        , 0.        , 0.        , 0.        , 0.        , 0.        , 0.        , 0.        , 0.        , 0.        , 0.        , 0.        , 0.        , 0.        , 0.        , 0.        , 0.        , 0.        , 0.        , 0.        , 0.        , 0.        , 0.        , 0.        , 0.        , 0.        , 0.        , 0.        , 0.30219192, 0.        , 0.        , 0.        , 0.        , 0.        , 0.        , 0.        , 0.        , 0.        , 0.        , 0.        , 0.        , 0.11635159, 0.        , 0.        , 0.        , 0.        , 0.        , 0.        , 0.        , 0.        , 0.        , 0.        , 0.        , 0.        , 0.        , 0.        , 0.        , 0.        , 0.        , 0.        , 0.        , 0.21139757, 0.        , 0.        , 0.        , 0.        , 0.        , 0.        , 0.        , 0.        , 0.        , 0.        , 0.        , 0.        , 0.        , 0.        , 0.        , 0.        , 0.        , 0.        , 0.        , 0.        , 0.        , 0.        , 0.        , 0.        , 0.        , 0.        , 0.        , 0.        , 0.        , 0.        , 0.        , 0.        , 0.        , 0.        , 0.        , 0.        , 0.        , 0.        , 0.        , 0.        , 0.        , 0.        , 0.        , 0.        , 0.        , 0.        , 0.        , 0.        , 0.        , 0.        , 0.        , 0.        , 0.        , 0.        , 0.        , 0.        , 0.        , 0.        , 0.        ],),\n",
       "          ([0.        , 0.        , 0.        , 0.        , 0.        , 0.        , 0.        , 0.        , 0.        , 0.        , 0.        , 0.        , 0.        , 0.        , 0.        , 0.        , 0.        , 0.        , 0.        , 0.        , 0.        , 0.        , 0.        , 0.        , 0.        , 0.        , 0.        , 0.        , 0.        , 0.        , 0.        , 0.        , 0.        , 0.        , 0.        , 0.        , 0.        , 0.        , 0.        , 0.        , 0.        , 0.        , 0.        , 0.        , 0.        , 0.        , 0.        , 0.        , 0.        , 0.        , 0.        , 0.        , 0.        , 0.        , 0.        , 0.        , 0.        , 0.        , 0.        , 0.        , 0.        , 0.        , 0.        , 0.        , 0.        , 0.        , 0.        , 0.        , 0.        , 0.        , 0.        , 0.        , 0.02933695, 0.        , 0.        , 0.        , 0.        , 0.        , 0.        , 0.        , 0.        , 0.        , 0.        , 0.        , 0.        , 0.        , 0.32404763, 0.        , 0.        , 0.        , 0.        , 0.        , 0.        , 0.        , 0.        , 0.        , 0.        , 0.        , 0.        , 0.        , 0.        , 0.        , 0.        , 0.        , 0.        , 0.        , 0.        , 0.        , 0.        , 0.        , 0.        , 0.        , 0.        , 0.        , 0.        , 0.        , 0.        , 0.        , 0.        , 0.        , 0.        , 0.        , 0.        , 0.        , 0.        , 0.        , 0.        , 0.        , 0.        , 0.        , 0.        , 0.        , 0.        , 0.        , 0.        , 0.        , 0.        , 0.        , 0.        , 0.        , 0.        , 0.        , 0.        , 0.        , 0.        , 0.        , 0.        , 0.        , 0.        , 0.        , 0.        , 0.        , 0.        , 0.        , 0.        , 0.        , 0.        , 0.        , 0.        , 0.        , 0.        , 0.        , 0.        , 0.        , 0.        , 0.        , 0.        , 0.        , 0.        , 0.        , 0.        , 0.        , 0.        , 0.        , 0.        , 0.        , 0.        , 0.        , 0.        , 0.        , 0.        , 0.        , 0.        , 0.        , 0.        , 0.        , 0.        , 0.        , 0.        , 0.        , 0.        , 0.        , 0.        , 0.        , 0.        , 0.        , 0.        , 0.21045153, 0.        , 0.        , 0.        , 0.        , 0.        , 0.        , 0.        , 0.        , 0.        , 0.        , 0.        , 0.        , 0.        , 0.        , 0.        , 0.        , 0.        , 0.        , 0.        , 0.        , 0.        , 0.        , 0.        , 0.        , 0.        , 0.        , 0.        , 0.        , 0.        , 0.        , 0.        , 0.        , 0.        , 0.        , 0.        , 0.        , 0.        , 0.        , 0.        , 0.        , 0.        , 0.        , 0.        , 0.        , 0.        , 0.        , 0.        , 0.        , 0.        , 0.        , 0.        , 0.        , 0.        , 0.        , 0.        , 0.        , 0.        , 0.        , 0.        , 0.        , 0.        , 0.        , 0.        , 0.        , 0.        , 0.        , 0.        , 0.        , 0.        , 0.        , 0.        , 0.        , 0.        , 0.        , 0.        , 0.        , 0.        , 0.        , 0.        , 0.        , 0.        , 0.        , 0.        , 0.        , 0.        , 0.        , 0.        , 0.        , 0.        , 0.        , 0.        , 0.        , 0.        , 0.        , 0.        , 0.        , 0.        , 0.        , 0.        , 0.        , 0.        , 0.        , 0.        , 0.        , 0.        , 0.        , 0.        , 0.        , 0.        , 0.        , 0.        , 0.        , 0.        , 0.        , 0.        , 0.        , 0.        , 0.        , 0.        , 0.        , 0.        , 0.        , 0.        , 0.        , 0.        , 0.        , 0.        , 0.        , 0.        , 0.        , 0.        , 0.        , 0.        , 0.        , 0.        , 0.        , 0.        , 0.        , 0.        , 0.        , 0.        , 0.        , 0.        , 0.        , 0.        , 0.        , 0.        , 0.        , 0.        , 0.        , 0.        , 0.        , 0.        , 0.        , 0.        , 0.        , 0.        , 0.        , 0.        , 0.        , 0.        , 0.        , 0.        , 0.        , 0.        , 0.        , 0.        , 0.        , 0.        , 0.        , 0.        , 0.        , 0.        , 0.        , 0.        , 0.        , 0.        , 0.        , 0.        , 0.        , 0.        , 0.        , 0.        , 0.        , 0.        , 0.        , 0.        , 0.        , 0.        , 0.        , 0.        , 0.        , 0.        , 0.        , 0.        , 0.        , 0.        , 0.        , 0.        , 0.        , 0.        , 0.        , 0.        , 0.        , 0.        , 0.        , 0.        , 0.        , 0.        , 0.        , 0.        , 0.        , 0.        , 0.        , 0.        , 0.        , 0.        , 0.        , 0.        , 0.        , 0.        , 0.        , 0.        , 0.        , 0.        , 0.        , 0.        , 0.        , 0.        , 0.        , 0.        , 0.        , 0.        , 0.        , 0.        , 0.        , 0.        , 0.        , 0.        , 0.        , 0.        , 0.        , 0.        , 0.        , 0.        , 0.        , 0.        , 0.        , 0.        , 0.        , 0.        , 0.        , 0.        , 0.        , 0.        , 0.        , 0.        , 0.        , 0.        , 0.        , 0.        , 0.        , 0.        , 0.11629747, 0.        , 0.        , 0.        , 0.        , 0.        , 0.31986642, 0.        , 0.        , 0.        , 0.        , 0.        , 0.        , 0.        , 0.        , 0.        ],),\n",
       "          ...,\n",
       "          ([0.        , 0.        , 0.        , 0.        , 0.        , 0.        , 0.        , 0.        , 0.        , 0.        , 0.        , 0.        , 0.        , 0.        , 0.        , 0.        , 0.        , 0.        , 0.        , 0.        , 0.        , 0.        , 0.        , 0.        , 0.        , 0.        , 0.        , 0.        , 0.        , 0.        , 0.        , 0.        , 0.        , 0.        , 0.        , 0.        , 0.        , 0.        , 0.        , 0.        , 0.        , 0.        , 0.        , 0.        , 0.        , 0.        , 0.        , 0.        , 0.        , 0.        , 0.        , 0.        , 0.        , 0.        , 0.        , 0.        , 0.        , 0.        , 0.        , 0.        , 0.        , 0.        , 0.        , 0.        , 0.        , 0.        , 0.        , 0.        , 0.        , 0.        , 0.        , 0.        , 0.        , 0.        , 0.        , 0.        , 0.        , 0.        , 0.        , 0.        , 0.        , 0.        , 0.        , 0.        , 0.        , 0.        , 0.        , 0.        , 0.        , 0.        , 0.        , 0.        , 0.        , 0.        , 0.        , 0.        , 0.        , 0.        , 0.        , 0.        , 0.        , 0.        , 0.        , 0.        , 0.        , 0.32832034, 0.        , 0.        , 0.        , 0.        , 0.        , 0.        , 0.        , 0.        , 0.        , 0.        , 0.        , 0.        , 0.        , 0.        , 0.        , 0.        , 0.        , 0.        , 0.        , 0.        , 0.        , 0.        , 0.        , 0.        , 0.        , 0.        , 0.        , 0.        , 0.        , 0.        , 0.        , 0.        , 0.        , 0.        , 0.        , 0.        , 0.        , 0.        , 0.        , 0.        , 0.        , 0.        , 0.        , 0.        , 0.        , 0.        , 0.        , 0.        , 0.        , 0.        , 0.        , 0.        , 0.        , 0.        , 0.05251348, 0.        , 0.        , 0.        , 0.        , 0.        , 0.        , 0.        , 0.08496499, 0.        , 0.        , 0.        , 0.        , 0.        , 0.        , 0.        , 0.        , 0.        , 0.        , 0.        , 0.        , 0.        , 0.        , 0.        , 0.        , 0.        , 0.        , 0.        , 0.        , 0.        , 0.        , 0.        , 0.        , 0.        , 0.        , 0.        , 0.        , 0.00579415, 0.        , 0.        , 0.        , 0.        , 0.        , 0.        , 0.        , 0.        , 0.        , 0.        , 0.        , 0.        , 0.        , 0.        , 0.        , 0.        , 0.        , 0.        , 0.        , 0.        , 0.        , 0.        , 0.        , 0.        , 0.        , 0.        , 0.        , 0.        , 0.        , 0.        , 0.1403042 , 0.        , 0.        , 0.        , 0.        , 0.        , 0.        , 0.        , 0.        , 0.        , 0.        , 0.        , 0.        , 0.        , 0.        , 0.        , 0.        , 0.        , 0.        , 0.        , 0.        , 0.        , 0.        , 0.        , 0.        , 0.        , 0.        , 0.        , 0.        , 0.        , 0.        , 0.        , 0.        , 0.        , 0.        , 0.        , 0.        , 0.        , 0.        , 0.        , 0.        , 0.        , 0.        , 0.        , 0.        , 0.        , 0.        , 0.        , 0.        , 0.        , 0.        , 0.        , 0.        , 0.        , 0.        , 0.        , 0.        , 0.        , 0.        , 0.        , 0.        , 0.        , 0.        , 0.        , 0.        , 0.        , 0.        , 0.        , 0.        , 0.        , 0.        , 0.        , 0.        , 0.        , 0.        , 0.        , 0.        , 0.        , 0.        , 0.        , 0.        , 0.        , 0.        , 0.        , 0.        , 0.        , 0.        , 0.        , 0.        , 0.        , 0.        , 0.        , 0.        , 0.        , 0.        , 0.        , 0.        , 0.        , 0.        , 0.        , 0.        , 0.        , 0.        , 0.        , 0.        , 0.        , 0.        , 0.        , 0.        , 0.        , 0.        , 0.        , 0.        , 0.        , 0.        , 0.        , 0.        , 0.        , 0.        , 0.        , 0.        , 0.        , 0.        , 0.        , 0.        , 0.        , 0.        , 0.        , 0.        , 0.        , 0.        , 0.        , 0.        , 0.        , 0.        , 0.        , 0.        , 0.        , 0.        , 0.        , 0.        , 0.        , 0.        , 0.        , 0.        , 0.        , 0.        , 0.        , 0.        , 0.        , 0.        , 0.        , 0.        , 0.        , 0.        , 0.        , 0.        , 0.        , 0.        , 0.        , 0.        , 0.        , 0.        , 0.        , 0.        , 0.        , 0.        , 0.        , 0.        , 0.        , 0.        , 0.        , 0.        , 0.        , 0.        , 0.        , 0.        , 0.        , 0.        , 0.        , 0.        , 0.        , 0.        , 0.        , 0.15970259, 0.        , 0.        , 0.        , 0.        , 0.        , 0.        , 0.        , 0.        , 0.22840026, 0.        , 0.        , 0.        , 0.        , 0.        , 0.        , 0.        , 0.        , 0.        , 0.        , 0.        , 0.        , 0.        , 0.        , 0.        , 0.        , 0.        , 0.        , 0.        , 0.        , 0.        , 0.        , 0.        , 0.        , 0.        , 0.        , 0.        , 0.        , 0.        , 0.        , 0.        , 0.        , 0.        , 0.        , 0.        , 0.        , 0.        , 0.        , 0.        , 0.        , 0.        , 0.        , 0.        , 0.        , 0.        , 0.        , 0.        , 0.        , 0.        , 0.        , 0.        , 0.        , 0.        , 0.        , 0.        ],),\n",
       "          ([0.        , 0.        , 0.        , 0.        , 0.        , 0.        , 0.        , 0.        , 0.        , 0.        , 0.        , 0.        , 0.        , 0.        , 0.        , 0.        , 0.        , 0.        , 0.        , 0.        , 0.        , 0.        , 0.        , 0.        , 0.        , 0.        , 0.        , 0.        , 0.        , 0.        , 0.        , 0.        , 0.        , 0.        , 0.        , 0.        , 0.        , 0.        , 0.        , 0.        , 0.        , 0.        , 0.        , 0.        , 0.        , 0.        , 0.        , 0.        , 0.        , 0.        , 0.        , 0.        , 0.        , 0.        , 0.        , 0.        , 0.        , 0.        , 0.        , 0.        , 0.        , 0.        , 0.        , 0.        , 0.        , 0.        , 0.        , 0.        , 0.        , 0.        , 0.        , 0.        , 0.        , 0.        , 0.        , 0.        , 0.        , 0.        , 0.        , 0.        , 0.        , 0.        , 0.        , 0.        , 0.        , 0.        , 0.        , 0.        , 0.        , 0.        , 0.        , 0.        , 0.        , 0.        , 0.        , 0.        , 0.        , 0.        , 0.        , 0.        , 0.        , 0.        , 0.        , 0.        , 0.        , 0.19150657, 0.        , 0.        , 0.        , 0.        , 0.        , 0.        , 0.        , 0.        , 0.        , 0.        , 0.        , 0.        , 0.        , 0.        , 0.        , 0.        , 0.        , 0.        , 0.        , 0.        , 0.        , 0.        , 0.        , 0.        , 0.        , 0.        , 0.        , 0.        , 0.        , 0.        , 0.        , 0.        , 0.        , 0.        , 0.        , 0.32331362, 0.        , 0.        , 0.        , 0.        , 0.        , 0.        , 0.        , 0.        , 0.        , 0.        , 0.        , 0.        , 0.        , 0.        , 0.        , 0.        , 0.        , 0.        , 0.        , 0.        , 0.        , 0.        , 0.        , 0.        , 0.        , 0.        , 0.        , 0.        , 0.        , 0.        , 0.        , 0.        , 0.        , 0.        , 0.        , 0.        , 0.        , 0.        , 0.        , 0.        , 0.        , 0.        , 0.        , 0.        , 0.        , 0.        , 0.        , 0.        , 0.        , 0.        , 0.        , 0.        , 0.        , 0.        , 0.3618587 , 0.        , 0.        , 0.        , 0.        , 0.02574847, 0.        , 0.        , 0.        , 0.        , 0.        , 0.        , 0.        , 0.        , 0.        , 0.        , 0.        , 0.        , 0.        , 0.        , 0.        , 0.        , 0.        , 0.        , 0.        , 0.        , 0.        , 0.        , 0.        , 0.        , 0.        , 0.        , 0.        , 0.        , 0.        , 0.        , 0.        , 0.        , 0.        , 0.        , 0.        , 0.        , 0.        , 0.        , 0.        , 0.        , 0.        , 0.        , 0.        , 0.        , 0.        , 0.        , 0.        , 0.        , 0.        , 0.        , 0.        , 0.        , 0.        , 0.        , 0.        , 0.        , 0.        , 0.        , 0.        , 0.        , 0.        , 0.        , 0.        , 0.        , 0.        , 0.        , 0.        , 0.        , 0.        , 0.        , 0.        , 0.        , 0.        , 0.        , 0.        , 0.        , 0.        , 0.        , 0.        , 0.        , 0.        , 0.        , 0.        , 0.        , 0.        , 0.        , 0.        , 0.        , 0.        , 0.        , 0.        , 0.        , 0.        , 0.        , 0.        , 0.        , 0.        , 0.        , 0.        , 0.        , 0.        , 0.        , 0.        , 0.        , 0.        , 0.        , 0.        , 0.        , 0.        , 0.        , 0.        , 0.        , 0.        , 0.        , 0.        , 0.        , 0.        , 0.        , 0.        , 0.        , 0.        , 0.        , 0.        , 0.        , 0.        , 0.        , 0.        , 0.        , 0.        , 0.        , 0.        , 0.        , 0.        , 0.        , 0.        , 0.        , 0.        , 0.        , 0.        , 0.        , 0.        , 0.        , 0.        , 0.        , 0.        , 0.        , 0.        , 0.        , 0.        , 0.        , 0.        , 0.        , 0.        , 0.        , 0.        , 0.        , 0.        , 0.        , 0.        , 0.        , 0.        , 0.        , 0.        , 0.        , 0.        , 0.        , 0.        , 0.        , 0.        , 0.        , 0.        , 0.        , 0.        , 0.        , 0.        , 0.        , 0.        , 0.        , 0.        , 0.        , 0.        , 0.        , 0.        , 0.        , 0.        , 0.        , 0.        , 0.        , 0.        , 0.        , 0.        , 0.        , 0.        , 0.        , 0.        , 0.        , 0.        , 0.        , 0.        , 0.        , 0.        , 0.        , 0.        , 0.        , 0.        , 0.        , 0.        , 0.        , 0.        , 0.        , 0.09757263, 0.        , 0.        , 0.        , 0.        , 0.        , 0.        , 0.        , 0.        , 0.        , 0.        , 0.        , 0.        , 0.        , 0.        , 0.        , 0.        , 0.        , 0.        , 0.        , 0.        , 0.        , 0.        , 0.        , 0.        , 0.        , 0.        , 0.        , 0.        , 0.        , 0.        , 0.        , 0.        , 0.        , 0.        , 0.        , 0.        , 0.        , 0.        , 0.        , 0.        , 0.        , 0.        , 0.        , 0.        , 0.        , 0.        , 0.        , 0.        , 0.        , 0.        , 0.        , 0.        , 0.        , 0.        , 0.        , 0.        , 0.        , 0.        , 0.        , 0.        , 0.        , 0.        , 0.        , 0.        ],),\n",
       "          ([0.        , 0.        , 0.        , 0.        , 0.        , 0.        , 0.        , 0.        , 0.        , 0.        , 0.        , 0.        , 0.        , 0.        , 0.        , 0.        , 0.        , 0.        , 0.        , 0.        , 0.        , 0.        , 0.        , 0.        , 0.        , 0.        , 0.        , 0.        , 0.        , 0.        , 0.        , 0.        , 0.        , 0.        , 0.        , 0.        , 0.        , 0.        , 0.        , 0.        , 0.        , 0.        , 0.        , 0.        , 0.        , 0.        , 0.        , 0.        , 0.        , 0.        , 0.        , 0.        , 0.        , 0.        , 0.        , 0.        , 0.        , 0.        , 0.        , 0.        , 0.        , 0.        , 0.        , 0.        , 0.        , 0.        , 0.        , 0.        , 0.        , 0.        , 0.        , 0.        , 0.        , 0.        , 0.        , 0.        , 0.        , 0.        , 0.        , 0.        , 0.        , 0.        , 0.        , 0.        , 0.        , 0.        , 0.        , 0.        , 0.        , 0.        , 0.        , 0.        , 0.        , 0.        , 0.        , 0.        , 0.        , 0.        , 0.        , 0.        , 0.        , 0.        , 0.        , 0.        , 0.        , 0.        , 0.        , 0.        , 0.        , 0.        , 0.        , 0.        , 0.        , 0.        , 0.28706823, 0.        , 0.        , 0.        , 0.        , 0.        , 0.        , 0.        , 0.        , 0.        , 0.        , 0.        , 0.        , 0.        , 0.        , 0.        , 0.        , 0.        , 0.        , 0.        , 0.        , 0.        , 0.        , 0.        , 0.        , 0.        , 0.        , 0.        , 0.        , 0.        , 0.        , 0.        , 0.        , 0.        , 0.        , 0.        , 0.        , 0.        , 0.        , 0.        , 0.        , 0.        , 0.        , 0.        , 0.        , 0.        , 0.        , 0.        , 0.        , 0.        , 0.        , 0.        , 0.        , 0.        , 0.        , 0.        , 0.        , 0.        , 0.        , 0.        , 0.        , 0.        , 0.        , 0.        , 0.        , 0.        , 0.        , 0.        , 0.        , 0.        , 0.        , 0.        , 0.        , 0.        , 0.        , 0.        , 0.        , 0.        , 0.        , 0.        , 0.        , 0.        , 0.41885176, 0.        , 0.        , 0.        , 0.        , 0.        , 0.        , 0.        , 0.        , 0.        , 0.        , 0.        , 0.        , 0.        , 0.        , 0.        , 0.        , 0.        , 0.        , 0.        , 0.        , 0.        , 0.15413824, 0.        , 0.        , 0.        , 0.        , 0.        , 0.        , 0.        , 0.        , 0.        , 0.        , 0.        , 0.        , 0.        , 0.        , 0.        , 0.00889694, 0.        , 0.        , 0.        , 0.        , 0.        , 0.        , 0.        , 0.        , 0.        , 0.        , 0.        , 0.        , 0.        , 0.        , 0.        , 0.        , 0.        , 0.        , 0.        , 0.        , 0.        , 0.        , 0.        , 0.        , 0.        , 0.        , 0.        , 0.        , 0.        , 0.        , 0.        , 0.        , 0.        , 0.        , 0.        , 0.        , 0.        , 0.        , 0.        , 0.        , 0.        , 0.        , 0.        , 0.        , 0.        , 0.        , 0.        , 0.        , 0.        , 0.        , 0.        , 0.        , 0.        , 0.        , 0.        , 0.        , 0.        , 0.        , 0.        , 0.        , 0.        , 0.        , 0.        , 0.        , 0.        , 0.        , 0.        , 0.        , 0.        , 0.        , 0.        , 0.        , 0.        , 0.        , 0.        , 0.        , 0.        , 0.        , 0.        , 0.        , 0.        , 0.        , 0.        , 0.        , 0.        , 0.        , 0.        , 0.        , 0.        , 0.        , 0.        , 0.        , 0.        , 0.        , 0.        , 0.        , 0.        , 0.        , 0.        , 0.        , 0.        , 0.        , 0.        , 0.        , 0.        , 0.        , 0.        , 0.        , 0.        , 0.        , 0.        , 0.        , 0.        , 0.        , 0.        , 0.        , 0.        , 0.        , 0.        , 0.        , 0.        , 0.        , 0.        , 0.        , 0.        , 0.        , 0.        , 0.        , 0.        , 0.        , 0.        , 0.        , 0.        , 0.        , 0.        , 0.        , 0.        , 0.        , 0.        , 0.        , 0.        , 0.        , 0.        , 0.        , 0.        , 0.        , 0.        , 0.        , 0.        , 0.        , 0.        , 0.        , 0.        , 0.        , 0.        , 0.        , 0.        , 0.        , 0.        , 0.        , 0.        , 0.        , 0.        , 0.        , 0.        , 0.        , 0.        , 0.        , 0.        , 0.        , 0.        , 0.        , 0.        , 0.        , 0.        , 0.        , 0.        , 0.        , 0.        , 0.        , 0.        , 0.        , 0.        , 0.        , 0.        , 0.        , 0.        , 0.        , 0.        , 0.        , 0.        , 0.        , 0.        , 0.        , 0.13104482, 0.        , 0.        , 0.        , 0.        , 0.        , 0.        , 0.        , 0.        , 0.        , 0.        , 0.        , 0.        , 0.        , 0.        , 0.        , 0.        , 0.        , 0.        , 0.        , 0.        , 0.        , 0.        , 0.        , 0.        , 0.        , 0.        , 0.        , 0.        , 0.        , 0.        , 0.        , 0.        , 0.        , 0.        , 0.        , 0.        , 0.        , 0.        , 0.        , 0.        , 0.        , 0.        , 0.        , 0.        , 0.        , 0.        , 0.        ],)],\n",
       "         shape=(4077,), dtype=(numpy.record, [('WEIGHTS', '>f8', (477,))]))"
      ]
     },
     "execution_count": 20,
     "metadata": {},
     "output_type": "execute_result"
    }
   ],
   "source": [
    "weights_data"
   ]
  },
  {
   "cell_type": "code",
   "execution_count": 21,
   "id": "5ed3ae06",
   "metadata": {},
   "outputs": [
    {
     "data": {
      "text/plain": [
       "array([[0., 0., 0., ..., 0., 0., 0.],\n",
       "       [0., 0., 0., ..., 0., 0., 0.],\n",
       "       [0., 0., 0., ..., 0., 0., 0.],\n",
       "       ...,\n",
       "       [0., 0., 0., ..., 0., 0., 0.],\n",
       "       [0., 0., 0., ..., 0., 0., 0.],\n",
       "       [0., 0., 0., ..., 0., 0., 0.]], shape=(4077, 477), dtype=float32)"
      ]
     },
     "execution_count": 21,
     "metadata": {},
     "output_type": "execute_result"
    }
   ],
   "source": [
    "weights_data['WEIGHTS'].astype(np.float32)"
   ]
  },
  {
   "cell_type": "code",
   "execution_count": 22,
   "id": "2393b23b",
   "metadata": {},
   "outputs": [
    {
     "data": {
      "text/plain": [
       "array([0.082, 0.07 , 0.057, 0.057, 0.062, 0.062, 0.064, 0.065, 0.069,\n",
       "       0.092, 0.08 , 0.068, 0.07 , 0.073, 0.076, 0.078, 0.081, 0.087,\n",
       "       0.102, 0.091, 0.079, 0.082, 0.086, 0.088, 0.093, 0.097, 0.102,\n",
       "       0.111, 0.099, 0.089, 0.092, 0.095, 0.096, 0.103, 0.107, 0.114,\n",
       "       0.117, 0.106, 0.098, 0.102, 0.105, 0.108, 0.115, 0.121, 0.127,\n",
       "       0.117, 0.108, 0.103, 0.109, 0.113, 0.115, 0.125, 0.13 , 0.136,\n",
       "       0.115, 0.11 , 0.109, 0.117, 0.121, 0.123, 0.134, 0.139, 0.145,\n",
       "       0.114, 0.112, 0.117, 0.126, 0.131, 0.134, 0.145, 0.15 , 0.155,\n",
       "       0.133, 0.133, 0.14 , 0.152, 0.16 , 0.166, 0.184, 0.189, 0.194,\n",
       "       0.153, 0.155, 0.157, 0.173, 0.19 , 0.193, 0.216, 0.221, 0.227,\n",
       "       0.169, 0.172, 0.176, 0.193, 0.215, 0.219, 0.243, 0.249, 0.255,\n",
       "       0.19 , 0.192, 0.199, 0.214, 0.24 , 0.246, 0.269, 0.275, 0.282,\n",
       "       0.205, 0.209, 0.221, 0.241, 0.266, 0.272, 0.295, 0.301, 0.308,\n",
       "       0.22 , 0.224, 0.236, 0.26 , 0.289, 0.298, 0.32 , 0.327, 0.336,\n",
       "       0.235, 0.24 , 0.252, 0.279, 0.309, 0.317, 0.344, 0.352, 0.363,\n",
       "       0.25 , 0.256, 0.27 , 0.299, 0.328, 0.336, 0.367, 0.377, 0.389,\n",
       "       0.277, 0.284, 0.302, 0.336, 0.364, 0.372, 0.411, 0.422, 0.436,\n",
       "       0.301, 0.31 , 0.334, 0.365, 0.395, 0.406, 0.452, 0.465, 0.482,\n",
       "       0.321, 0.336, 0.361, 0.392, 0.426, 0.439, 0.489, 0.506, 0.526,\n",
       "       0.315, 0.339, 0.378, 0.415, 0.454, 0.464, 0.526, 0.543, 0.565,\n",
       "       0.298, 0.313, 0.372, 0.428, 0.48 , 0.471, 0.561, 0.578, 0.605,\n",
       "       0.356, 0.373, 0.373, 0.388, 0.476, 0.492, 0.579, 0.606, 0.653,\n",
       "       0.399, 0.4  , 0.428, 0.48 , 0.435, 0.567, 0.649, 0.657, 0.669,\n",
       "       0.468, 0.475, 0.494, 0.515, 0.609, 0.649, 0.771, 0.809, 0.856,\n",
       "       0.505, 0.512, 0.547, 0.608, 0.658, 0.701, 0.862, 0.901, 0.95 ,\n",
       "       0.544, 0.553, 0.585, 0.65 , 0.761, 0.763, 0.942, 0.994, 1.058,\n",
       "       0.605, 0.612, 0.626, 0.693, 0.828, 0.885, 1.012, 1.067, 1.133,\n",
       "       0.642, 0.657, 0.695, 0.737, 0.878, 0.938, 1.093, 1.146, 1.211,\n",
       "       0.68 , 0.694, 0.733, 0.797, 0.93 , 0.991, 1.246, 1.267, 1.297,\n",
       "       0.726, 0.739, 0.773, 0.847, 0.982, 1.046, 1.309, 1.387, 1.481,\n",
       "       0.759, 0.777, 0.822, 0.891, 1.041, 1.1  , 1.372, 1.453, 1.552,\n",
       "       0.791, 0.811, 0.862, 0.936, 1.106, 1.16 , 1.436, 1.523, 1.621,\n",
       "       0.825, 0.846, 0.897, 0.998, 1.156, 1.228, 1.501, 1.59 , 1.691,\n",
       "       0.903, 0.932, 0.97 , 1.077, 1.258, 1.329, 1.631, 1.721, 1.833,\n",
       "       0.965, 0.994, 1.057, 1.158, 1.375, 1.448, 1.761, 1.853, 1.975,\n",
       "       1.029, 1.058, 1.124, 1.26 , 1.465, 1.553, 1.888, 1.989, 2.114,\n",
       "       1.118, 1.127, 1.194, 1.334, 1.559, 1.65 , 2.014, 2.122, 2.256,\n",
       "       1.18 , 1.211, 1.269, 1.41 , 1.676, 1.752, 2.154, 2.262, 2.396,\n",
       "       1.242, 1.275, 1.353, 1.488, 1.762, 1.881, 2.266, 2.389, 2.541,\n",
       "       1.306, 1.341, 1.419, 1.575, 1.848, 1.969, 2.38 , 2.51 , 2.672,\n",
       "       1.37 , 1.408, 1.487, 1.652, 1.935, 2.057, 2.495, 2.629, 2.795,\n",
       "       1.434, 1.478, 1.555, 1.725, 2.024, 2.146, 2.612, 2.749, 2.92 ,\n",
       "       1.49 , 1.544, 1.624, 1.799, 2.114, 2.237, 2.731, 2.872, 3.048,\n",
       "       1.552, 1.608, 1.695, 1.873, 2.204, 2.329, 2.829, 2.984, 3.178,\n",
       "       1.615, 1.672, 1.764, 1.948, 2.289, 2.403, 2.927, 3.095, 3.304,\n",
       "       1.677, 1.738, 1.832, 2.025, 2.374, 2.491, 3.025, 3.231, 3.411,\n",
       "       1.74 , 1.803, 1.901, 2.102, 2.46 , 2.578, 3.181, 3.34 , 3.537,\n",
       "       1.796, 1.868, 1.973, 2.174, 2.547, 2.666, 3.287, 3.45 , 3.653,\n",
       "       1.856, 1.927, 2.045, 2.246, 2.635, 2.755, 3.394, 3.56 , 3.769,\n",
       "       1.919, 1.987, 2.118, 2.32 , 2.724, 2.845, 3.487, 3.664, 3.885,\n",
       "       1.982, 2.051, 2.182, 2.394, 2.813, 2.935, 3.517, 3.731, 4.003,\n",
       "       2.056, 2.114, 2.249, 2.469, 2.888, 3.026, 3.62 , 3.841, 4.122,\n",
       "       2.125, 2.193, 2.32 , 2.54 , 2.962, 3.118, 3.723, 3.943, 4.217],\n",
       "      dtype=float32)"
      ]
     },
     "execution_count": 22,
     "metadata": {},
     "output_type": "execute_result"
    }
   ],
   "source": [
    "grid_mlr['ML_R'].astype(np.float32)"
   ]
  },
  {
   "cell_type": "code",
   "execution_count": 23,
   "id": "516c0af6",
   "metadata": {},
   "outputs": [],
   "source": [
    "# --- prerequisites already in memory ---------------------------------------\n",
    "# weights_data['WEIGHTS']   -> (4077, 477)   light fractions per bin\n",
    "# grid_mlr['ML_R']          -> (477,)        R-band M/L per template\n",
    "\n",
    "# 1) convert the opaque FITS_rec into a plain ndarray\n",
    "w      = weights_data['WEIGHTS'].astype(np.float32)        # (4077, 477)\n",
    "ml_ssp = grid_mlr['ML_R'].astype(np.float32)               # (477,)\n",
    "\n",
    "# 2) light-weighted M/L_R per Voronoi bin (shape 4077)\n",
    "ml_bin = (w * ml_ssp).sum(axis=1)     # or: np.dot(w, ml_ssp)\n",
    "\n",
    "# 3) optional sanity check: every bin should return a finite, positive value\n",
    "assert np.all(np.isfinite(ml_bin)) and (ml_bin > 0).all()\n"
   ]
  },
  {
   "cell_type": "code",
   "execution_count": 24,
   "id": "1c1d3f61",
   "metadata": {},
   "outputs": [
    {
     "data": {
      "text/plain": [
       "array([1.1946754 , 1.6521219 , 1.7839103 , ..., 1.528122  , 0.71707416,\n",
       "       0.8589499 ], shape=(4077,), dtype=float32)"
      ]
     },
     "execution_count": 24,
     "metadata": {},
     "output_type": "execute_result"
    }
   ],
   "source": [
    "ml_bin"
   ]
  },
  {
   "cell_type": "code",
   "execution_count": 25,
   "id": "ed253dff",
   "metadata": {},
   "outputs": [
    {
     "data": {
      "text/plain": [
       "array([[nan, nan, nan, ..., nan, nan, nan],\n",
       "       [nan, nan, nan, ..., nan, nan, nan],\n",
       "       [nan, nan, nan, ..., nan, nan, nan],\n",
       "       ...,\n",
       "       [nan, nan, nan, ..., nan, nan, nan],\n",
       "       [nan, nan, nan, ..., nan, nan, nan],\n",
       "       [nan, nan, nan, ..., nan, nan, nan]], shape=(438, 437), dtype='>f8')"
      ]
     },
     "execution_count": 25,
     "metadata": {},
     "output_type": "execute_result"
    }
   ],
   "source": [
    "binning_BINID"
   ]
  },
  {
   "cell_type": "code",
   "execution_count": 26,
   "id": "398a4767",
   "metadata": {},
   "outputs": [
    {
     "data": {
      "text/plain": [
       "359"
      ]
     },
     "execution_count": 26,
     "metadata": {},
     "output_type": "execute_result"
    }
   ],
   "source": [
    "len(binning_BINID[binning_BINID==4076])"
   ]
  },
  {
   "cell_type": "code",
   "execution_count": 27,
   "id": "73fef940",
   "metadata": {},
   "outputs": [
    {
     "data": {
      "text/plain": [
       "array([[nan, nan, nan, ..., nan, nan, nan],\n",
       "       [nan, nan, nan, ..., nan, nan, nan],\n",
       "       [nan, nan, nan, ..., nan, nan, nan],\n",
       "       ...,\n",
       "       [nan, nan, nan, ..., nan, nan, nan],\n",
       "       [nan, nan, nan, ..., nan, nan, nan],\n",
       "       [nan, nan, nan, ..., nan, nan, nan]],\n",
       "      shape=(438, 437), dtype=float32)"
      ]
     },
     "execution_count": 27,
     "metadata": {},
     "output_type": "execute_result"
    }
   ],
   "source": [
    "# --- 0)  inputs already in memory ------------------------------------------\n",
    "# binning_BINID  -> (ny, nx) float array   (NaN   = originally masked pixel\n",
    "#                                            <0    = masked, but *belongs to* |id|)\n",
    "# ml_bin         -> (N_bin,) float array   (your 4 077 zone M/L_R values)\n",
    "\n",
    "# --- 1)  create blank map, same shape & dtype ------------------------------\n",
    "binning_MLR = np.full_like(binning_BINID, np.nan, dtype=np.float32)\n",
    "\n",
    "# --- 2)  fill *valid* Voronoi zones ----------------------------------------\n",
    "valid = binning_BINID >= 0                     # True where BINID is a real zone\n",
    "binning_MLR[valid] = ml_bin[binning_BINID[valid].astype(int)]\n",
    "\n",
    "binning_MLR\n"
   ]
  },
  {
   "cell_type": "code",
   "execution_count": 28,
   "id": "14f7bce2",
   "metadata": {},
   "outputs": [
    {
     "data": {
      "text/plain": [
       "(73168,)"
      ]
     },
     "execution_count": 28,
     "metadata": {},
     "output_type": "execute_result"
    }
   ],
   "source": [
    "binning_MLR[binning_MLR>0].shape"
   ]
  },
  {
   "cell_type": "code",
   "execution_count": 29,
   "id": "33a277c1",
   "metadata": {},
   "outputs": [
    {
     "data": {
      "text/plain": [
       "(73168,)"
      ]
     },
     "execution_count": 29,
     "metadata": {},
     "output_type": "execute_result"
    }
   ],
   "source": [
    "binning_BINID[binning_BINID>=0].shape"
   ]
  },
  {
   "cell_type": "code",
   "execution_count": 30,
   "id": "80ba05b3",
   "metadata": {},
   "outputs": [
    {
     "name": "stdout",
     "output_type": "stream",
     "text": [
      "Saved extended file to /Users/maclaptop29/Desktop/ICRAR/data/IC3392/IC3392_SPATIAL_BINNING_maps_extended.fits\n"
     ]
    }
   ],
   "source": [
    "# -------------------------------------------------------------------------\n",
    "# inputs already in memory:\n",
    "#   binning_MLR  -> (438, 437) float32   (we’ll cast to float64 like others)\n",
    "#   binning_path -> Path to original file (\"IC3392_SPATIAL_BINNING_maps.fits\")\n",
    "# -------------------------------------------------------------------------\n",
    "\n",
    "out_path = Path(\"IC3392_SPATIAL_BINNING_maps_extended.fits\")\n",
    "\n",
    "# 1) read the whole HDUList from disk\n",
    "with fits.open(binning_path) as hdul:\n",
    "    # 2) clone all existing HDUs into a new list\n",
    "    new_hdul = fits.HDUList([hdu.copy() for hdu in hdul])\n",
    "\n",
    "# 3) build the new ML_R image HDU\n",
    "ml_hdu = fits.ImageHDU(data=binning_MLR.astype(np.float64), name=\"ML_R\")\n",
    "\n",
    "# 4) keep WCS and pixel-scale info by copying the original BINID header\n",
    "ml_hdu.header.update(binning_hdr)         # you created binning_hdr earlier\n",
    "ml_hdu.header[\"EXTNAME\"] = \"ML_R\"\n",
    "ml_hdu.header[\"BUNIT\"]   = \"Msol/Lsol_R\"  # physical units\n",
    "\n",
    "# 5) append and write to disk\n",
    "new_hdul.append(ml_hdu)\n",
    "new_hdul.writeto(out_path, overwrite=True)\n",
    "\n",
    "print(f\"Saved extended file to {out_path.resolve()}\")\n"
   ]
  },
  {
   "cell_type": "code",
   "execution_count": 31,
   "id": "ee7d688c",
   "metadata": {},
   "outputs": [
    {
     "data": {
      "text/plain": [
       "array([[nan, nan, nan, ..., nan, nan, nan],\n",
       "       [nan, nan, nan, ..., nan, nan, nan],\n",
       "       [nan, nan, nan, ..., nan, nan, nan],\n",
       "       ...,\n",
       "       [nan, nan, nan, ..., nan, nan, nan],\n",
       "       [nan, nan, nan, ..., nan, nan, nan],\n",
       "       [nan, nan, nan, ..., nan, nan, nan]], shape=(438, 437), dtype='>f8')"
      ]
     },
     "execution_count": 31,
     "metadata": {},
     "output_type": "execute_result"
    }
   ],
   "source": [
    "binning_FLUX"
   ]
  },
  {
   "cell_type": "code",
   "execution_count": 32,
   "id": "c74a7ad0",
   "metadata": {},
   "outputs": [
    {
     "data": {
      "text/plain": [
       "(np.float64(1.4416080066671668), np.float64(0.1588471857060981))"
      ]
     },
     "execution_count": 32,
     "metadata": {},
     "output_type": "execute_result"
    }
   ],
   "source": [
    "np.nansum(binning_FLUX*binning_MLR)/np.nansum(binning_FLUX), np.log10(np.nansum(binning_FLUX*binning_MLR)/np.nansum(binning_FLUX))\n"
   ]
  },
  {
   "cell_type": "code",
   "execution_count": 33,
   "id": "9195d793",
   "metadata": {},
   "outputs": [],
   "source": [
    "# -----------------------------------------------------------------\n",
    "# INPUT ARRAYS (438, 437) :\n",
    "#   binning_FLUX   erg s^-1 cm^-2 Å^-1  (10^-20 factor still present)\n",
    "#   binning_MLR    M☉ / L☉_R\n",
    "# DISTANCE:\n",
    "D = 11.5 * u.Mpc\n",
    "lam_r = 6231 * u.AA\n",
    "\n",
    "# 1) flux density F_λ  →  F_ν\n",
    "F_lambda = binning_FLUX * 1e-20 * u.erg / u.s / u.cm**2 / u.AA\n",
    "F_nu     = (F_lambda * lam_r**2 / c.c).to(u.erg / u.s / u.cm**2 / u.Hz)\n",
    "\n",
    "# 2) apparent AB magnitude per spaxel\n",
    "F_nu0 = (3631 * u.Jy).to(F_nu.unit)\n",
    "m_r   = -2.5 * np.log10( (F_nu / F_nu0).value )\n",
    "\n",
    "# 3) absolute magnitude & solar-unit luminosity\n",
    "M_r   = m_r - 5*np.log10( (D.to(u.pc).value)/10 )\n",
    "M_sun = 4.64                       # AB mag of the Sun in r\n",
    "L_Lsun = 10**(-0.4 * (M_r - M_sun))   # dimensionless L/L☉_r\n",
    "\n",
    "# 4) stellar mass map & its log10\n",
    "M_star = L_Lsun * binning_MLR          # M☉ per spaxel\n",
    "logM_star = np.log10(M_star, where=(M_star>0))  # keep NaN where flux=0\n",
    "\n",
    "# logM_star now holds log10(M*/M☉) for every valid spaxel\n"
   ]
  },
  {
   "cell_type": "code",
   "execution_count": 34,
   "id": "e1093830",
   "metadata": {},
   "outputs": [
    {
     "data": {
      "text/plain": [
       "np.float64(12.323084524018153)"
      ]
     },
     "execution_count": 34,
     "metadata": {},
     "output_type": "execute_result"
    }
   ],
   "source": [
    "-2.5 * np.log10( np.nansum((F_nu / F_nu0).value) )"
   ]
  },
  {
   "cell_type": "code",
   "execution_count": 35,
   "id": "31fec0ee",
   "metadata": {},
   "outputs": [
    {
     "data": {
      "text/plain": [
       "(np.float64(5.578155399772873), np.float64(0.0))"
      ]
     },
     "execution_count": 35,
     "metadata": {},
     "output_type": "execute_result"
    }
   ],
   "source": [
    "logM_star.max(), logM_star.min()"
   ]
  },
  {
   "cell_type": "code",
   "execution_count": 36,
   "id": "ce18d7b7",
   "metadata": {},
   "outputs": [
    {
     "data": {
      "text/plain": [
       "np.float64(9.20700905680606)"
      ]
     },
     "execution_count": 36,
     "metadata": {},
     "output_type": "execute_result"
    }
   ],
   "source": [
    "np.log10(np.nansum(M_star))"
   ]
  },
  {
   "cell_type": "code",
   "execution_count": 37,
   "id": "7f7b5633",
   "metadata": {},
   "outputs": [
    {
     "data": {
      "text/plain": [
       "np.float64(9.048161871099962)"
      ]
     },
     "execution_count": 37,
     "metadata": {},
     "output_type": "execute_result"
    }
   ],
   "source": [
    "np.log10(np.nansum(L_Lsun))"
   ]
  },
  {
   "cell_type": "code",
   "execution_count": 38,
   "id": "0f18de3e",
   "metadata": {},
   "outputs": [
    {
     "name": "stdout",
     "output_type": "stream",
     "text": [
      "Stellar-mass layer saved ➜ /Users/maclaptop29/Desktop/ICRAR/data/IC3392/IC3392_SPATIAL_BINNING_maps_extended.fits\n"
     ]
    }
   ],
   "source": [
    "# -----------------------------------------------------------------\n",
    "# INPUTS already in memory\n",
    "#   logM_star      (438, 437)  float32   ← log10(M*/M☉) per spaxel\n",
    "#   binning_hdr    WCS header you copied from the BINID image\n",
    "#   out_path       Path(\"IC3392_SPATIAL_BINNING_maps_extended.fits\")\n",
    "# -----------------------------------------------------------------\n",
    "\n",
    "with fits.open(out_path, mode=\"append\") as hdul:             # open existing file\n",
    "    mass_hdu = fits.ImageHDU(data=logM_star.astype(np.float64),  # like others\n",
    "                             header=binning_hdr, name=\"LOGMSTAR\")\n",
    "    mass_hdu.header[\"BUNIT\"] = \"log(Msol)\"                   # units keyword\n",
    "    hdul.append(mass_hdu)                                    # add as 9-th HDU\n",
    "    hdul.flush()                                             # write in-place\n",
    "\n",
    "print(\"Stellar-mass layer saved ➜\", out_path.resolve())\n"
   ]
  },
  {
   "cell_type": "code",
   "execution_count": 39,
   "id": "6a0a5303",
   "metadata": {},
   "outputs": [
    {
     "name": "stdout",
     "output_type": "stream",
     "text": [
      "Contents: ['templates', 'masses', 'lam', 'ages', 'metals', 'fwhm']\n",
      "templates: shape=(16675, 25, 6), dtype=float64\n",
      "masses: shape=(25, 6), dtype=float64\n",
      "lam: shape=(16675,), dtype=float64\n",
      "ages: shape=(25,), dtype=float64\n",
      "metals: shape=(6,), dtype=float64\n",
      "fwhm: shape=(16675,), dtype=float64\n"
     ]
    }
   ],
   "source": [
    "# Setup SPS templates\n",
    "\n",
    "# sps_name = 'fsps'\n",
    "# sps_name = 'galaxev'\n",
    "sps_name = 'emiles'\n",
    "# sps_name = 'xsl'\n",
    "\n",
    "ppxf_dir = Path(lib.__file__).parent\n",
    "basename = f\"spectra_{sps_name}_9.0.npz\"\n",
    "filename = ppxf_dir / 'sps_models' / basename\n",
    "if not filename.is_file():\n",
    "    url = \"https://raw.githubusercontent.com/micappe/ppxf_data/main/\" + basename\n",
    "    request.urlretrieve(url, filename)\n",
    "\n",
    "# Inspect the NPZ to see its structure\n",
    "npz = np.load(filename)\n",
    "print(\"Contents:\", npz.files)\n",
    "for key in npz.files:\n",
    "    arr = npz[key]\n",
    "    print(f\"{key}: shape={arr.shape}, dtype={arr.dtype}\")\n"
   ]
  },
  {
   "cell_type": "code",
   "execution_count": 40,
   "id": "564e2a3a",
   "metadata": {},
   "outputs": [
    {
     "data": {
      "text/plain": [
       "(array([-1.71, -1.31, -0.71, -0.4 ,  0.  ,  0.22]),\n",
       " array([ 0.0631,  0.0794,  0.1   ,  0.1259,  0.1585,  0.1995,  0.2512,\n",
       "         0.3162,  0.3981,  0.5012,  0.631 ,  0.7943,  1.    ,  1.2589,\n",
       "         1.5849,  1.9953,  2.5119,  3.1623,  3.9811,  5.0119,  6.3096,\n",
       "         7.9433, 10.    , 12.5893, 15.8489]))"
      ]
     },
     "execution_count": 40,
     "metadata": {},
     "output_type": "execute_result"
    }
   ],
   "source": [
    "npz['metals'], npz['ages'],"
   ]
  },
  {
   "cell_type": "code",
   "execution_count": 41,
   "id": "c29feac0",
   "metadata": {},
   "outputs": [
    {
     "data": {
      "text/plain": [
       "array([0.0004, 0.0009, 0.0037, 0.0076, 0.019 , 0.0315])"
      ]
     },
     "execution_count": 41,
     "metadata": {},
     "output_type": "execute_result"
    }
   ],
   "source": [
    "np.round((10**npz['metals'])*0.019, 4)"
   ]
  },
  {
   "cell_type": "code",
   "execution_count": 42,
   "id": "705b421b",
   "metadata": {},
   "outputs": [
    {
     "data": {
      "text/plain": [
       "array([-1.49, -1.26, -0.96, -0.66, -0.35, -0.25,  0.06,  0.15,  0.26],\n",
       "      dtype='>f8')"
      ]
     },
     "execution_count": 42,
     "metadata": {},
     "output_type": "execute_result"
    }
   ],
   "source": [
    "metallicities"
   ]
  },
  {
   "cell_type": "code",
   "execution_count": 43,
   "id": "783c4ec6",
   "metadata": {},
   "outputs": [
    {
     "data": {
      "text/plain": [
       "array([0.0006, 0.0011, 0.0022, 0.0043, 0.0088, 0.0111, 0.0227, 0.028 ,\n",
       "       0.036 ])"
      ]
     },
     "execution_count": 43,
     "metadata": {},
     "output_type": "execute_result"
    }
   ],
   "source": [
    "np.round((10**metallicities)*0.0198, 4)"
   ]
  },
  {
   "cell_type": "code",
   "execution_count": 44,
   "id": "7f3cc5c7",
   "metadata": {},
   "outputs": [
    {
     "data": {
      "text/plain": [
       "array([-2.27, -1.79, -1.49, -1.26, -0.96, -0.66, -0.35, -0.25,  0.06,\n",
       "        0.15,  0.26,  0.4 ])"
      ]
     },
     "execution_count": 44,
     "metadata": {},
     "output_type": "execute_result"
    }
   ],
   "source": [
    "np.round(np.unique(phot['MH']), 2)"
   ]
  },
  {
   "cell_type": "code",
   "execution_count": 45,
   "id": "82a84ed4",
   "metadata": {},
   "outputs": [
    {
     "data": {
      "text/plain": [
       "array([0.0001, 0.0003, 0.0006, 0.0011, 0.0022, 0.0044, 0.0088, 0.0111,\n",
       "       0.0227, 0.0279, 0.0357, 0.0494])"
      ]
     },
     "execution_count": 45,
     "metadata": {},
     "output_type": "execute_result"
    }
   ],
   "source": [
    "np.round((10**np.unique(phot['MH']))*0.0198, 4)"
   ]
  },
  {
   "cell_type": "code",
   "execution_count": 46,
   "id": "d4631e24",
   "metadata": {},
   "outputs": [
    {
     "data": {
      "text/plain": [
       "array([ 0.03,  0.04,  0.05,  0.06,  0.07,  0.08,  0.09,  0.1 ,  0.15,\n",
       "        0.2 ,  0.25,  0.3 ,  0.35,  0.4 ,  0.45,  0.5 ,  0.6 ,  0.7 ,\n",
       "        0.8 ,  0.9 ,  1.  ,  1.25,  1.5 ,  1.75,  2.  ,  2.25,  2.5 ,\n",
       "        2.75,  3.  ,  3.25,  3.5 ,  3.75,  4.  ,  4.5 ,  5.  ,  5.5 ,\n",
       "        6.  ,  6.5 ,  7.  ,  7.5 ,  8.  ,  8.5 ,  9.  ,  9.5 , 10.  ,\n",
       "       10.5 , 11.  , 11.5 , 12.  , 12.5 , 13.  , 13.5 , 14.  ])"
      ]
     },
     "execution_count": 46,
     "metadata": {},
     "output_type": "execute_result"
    }
   ],
   "source": [
    "10**log_ages"
   ]
  },
  {
   "cell_type": "code",
   "execution_count": null,
   "id": "c53dda64",
   "metadata": {},
   "outputs": [],
   "source": []
  }
 ],
 "metadata": {
  "kernelspec": {
   "display_name": "ICRAR",
   "language": "python",
   "name": "python3"
  },
  "language_info": {
   "codemirror_mode": {
    "name": "ipython",
    "version": 3
   },
   "file_extension": ".py",
   "mimetype": "text/x-python",
   "name": "python",
   "nbconvert_exporter": "python",
   "pygments_lexer": "ipython3",
   "version": "3.13.3"
  }
 },
 "nbformat": 4,
 "nbformat_minor": 5
}
