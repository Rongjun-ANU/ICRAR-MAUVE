{
 "cells": [
  {
   "cell_type": "code",
   "execution_count": 1,
   "id": "43f36027",
   "metadata": {},
   "outputs": [],
   "source": [
    "from pathlib import Path\n",
    "import numpy as np\n",
    "import matplotlib.pyplot as plt\n",
    "from matplotlib.colors import LogNorm\n",
    "from urllib import request\n",
    "from scipy.interpolate import interp1d\n",
    "from mpl_toolkits.axes_grid1.inset_locator import inset_axes\n",
    "import speclite.filters as sp\n",
    "from speclite import filters\n",
    "from scipy.ndimage import sum_labels, mean\n",
    "from scipy.stats import linregress, spearmanr\n",
    "\n",
    "\n",
    "from astropy.io import fits\n",
    "from astropy import units as u\n",
    "from astropy import constants as c\n",
    "from astropy.wcs import WCS\n",
    "from astropy.wcs.utils import proj_plane_pixel_scales\n",
    "\n",
    "from ppxf.ppxf import ppxf, rebin\n",
    "import ppxf.ppxf_util as util\n",
    "from ppxf import sps_util as lib\n",
    "\n",
    "import os\n",
    "import sys\n",
    "import glob"
   ]
  },
  {
   "cell_type": "code",
   "execution_count": 2,
   "id": "f4a22e20",
   "metadata": {},
   "outputs": [
    {
     "name": "stdout",
     "output_type": "stream",
     "text": [
      "Loading gas line map from NGC4298_gas_BIN_maps_extended.fits\n"
     ]
    },
    {
     "data": {
      "text/plain": [
       "XTENSION= 'IMAGE   '           / Image extension                                \n",
       "BITPIX  =                  -64 / array data type                                \n",
       "NAXIS   =                    2 / number of array dimensions                     \n",
       "NAXIS1  =                 1042                                                  \n",
       "NAXIS2  =                  995                                                  \n",
       "PCOUNT  =                    0 / number of parameters                           \n",
       "GCOUNT  =                    1 / number of groups                               \n",
       "WCSAXES =                    2 / Number of coordinate axes                      \n",
       "CRPIX1  =      216.11231877588 / Pixel coordinate of reference point            \n",
       "CRPIX2  =      435.42596878359 / Pixel coordinate of reference point            \n",
       "CDELT1  = -5.5555555555556E-05 / [deg] Coordinate increment at reference point  \n",
       "CDELT2  =  5.5555555555556E-05 / [deg] Coordinate increment at reference point  \n",
       "CUNIT1  = 'deg'                / Units of coordinate increment and value        \n",
       "CUNIT2  = 'deg'                / Units of coordinate increment and value        \n",
       "CTYPE1  = 'RA---TAN'           / Right ascension, gnomonic projection           \n",
       "CTYPE2  = 'DEC--TAN'           / Declination, gnomonic projection               \n",
       "CRVAL1  =      185.40546492412 / [deg] Coordinate value at reference point      \n",
       "CRVAL2  =      14.600628042485 / [deg] Coordinate value at reference point      \n",
       "LONPOLE =                180.0 / [deg] Native longitude of celestial pole       \n",
       "LATPOLE =      14.600628042485 / [deg] Native latitude of celestial pole        \n",
       "CSYER1  =    1.69760864415E-05 / [deg] Systematic error in coordinate           \n",
       "CSYER2  =    6.54379526381E-06 / [deg] Systematic error in coordinate           \n",
       "MJDREF  =                  0.0 / [d] MJD of fiducial time                       \n",
       "RADESYS = 'FK5'                / Equatorial coordinate system                   \n",
       "EQUINOX =               2000.0 / [yr] Equinox of equatorial coordinates         \n",
       "EXTNAME = 'HB4861_FLUX'        / extension name                                 "
      ]
     },
     "execution_count": 2,
     "metadata": {},
     "output_type": "execute_result"
    }
   ],
   "source": [
    "# Load gas line map NGC4298_gas_BIN_maps.fits \n",
    "gas_path = Path('NGC4298_gas_BIN_maps_extended.fits')\n",
    "print(f\"Loading gas line map from {gas_path}\")\n",
    "with fits.open(gas_path) as hdul:\n",
    "    V_STARS2 = hdul['V_STARS2'].data\n",
    "    SIGMA_STARS2 = hdul['SIGMA_STARS2'].data\n",
    "    HB4861_FLUX = hdul['HB4861_FLUX'].data\n",
    "    HB4861_FLUX_ERR = hdul['HB4861_FLUX_ERR'].data\n",
    "    HA6562_FLUX = hdul['HA6562_FLUX'].data\n",
    "    HA6562_FLUX_ERR = hdul['HA6562_FLUX_ERR'].data\n",
    "    OIII5006_FLUX = hdul['OIII5006_FLUX'].data\n",
    "    OIII5006_FLUX_ERR = hdul['OIII5006_FLUX_ERR'].data\n",
    "    NII6583_FLUX = hdul['NII6583_FLUX'].data\n",
    "    NII6583_FLUX_ERR = hdul['NII6583_FLUX_ERR'].data\n",
    "    SII6716_FLUX = hdul['SII6716_FLUX'].data\n",
    "    SII6716_FLUX_ERR = hdul['SII6716_FLUX_ERR'].data\n",
    "    SII6730_FLUX = hdul['SII6730_FLUX'].data\n",
    "    SII6730_FLUX_ERR = hdul['SII6730_FLUX_ERR'].data\n",
    "    gas_header = hdul[5].header\n",
    "    hdul.close()\n",
    "\n",
    "gas_header"
   ]
  },
  {
   "cell_type": "code",
   "execution_count": 3,
   "id": "5f1ba648",
   "metadata": {},
   "outputs": [
    {
     "name": "stderr",
     "output_type": "stream",
     "text": [
      "/var/folders/rm/clp89v210v32vh5vjt2kx7b80000gr/T/ipykernel_15248/2764862445.py:14: RuntimeWarning: divide by zero encountered in divide\n",
      "  BD = HA6562_FLUX_cut / HB4861_FLUX_cut\n",
      "/var/folders/rm/clp89v210v32vh5vjt2kx7b80000gr/T/ipykernel_15248/2764862445.py:14: RuntimeWarning: invalid value encountered in divide\n",
      "  BD = HA6562_FLUX_cut / HB4861_FLUX_cut\n",
      "/var/folders/rm/clp89v210v32vh5vjt2kx7b80000gr/T/ipykernel_15248/2764862445.py:16: RuntimeWarning: divide by zero encountered in divide\n",
      "  logN2  = np.log10(NII6583_FLUX / HA6562_FLUX)        # [N II]/Hα\n",
      "/var/folders/rm/clp89v210v32vh5vjt2kx7b80000gr/T/ipykernel_15248/2764862445.py:16: RuntimeWarning: invalid value encountered in divide\n",
      "  logN2  = np.log10(NII6583_FLUX / HA6562_FLUX)        # [N II]/Hα\n",
      "/var/folders/rm/clp89v210v32vh5vjt2kx7b80000gr/T/ipykernel_15248/2764862445.py:16: RuntimeWarning: divide by zero encountered in log10\n",
      "  logN2  = np.log10(NII6583_FLUX / HA6562_FLUX)        # [N II]/Hα\n",
      "/var/folders/rm/clp89v210v32vh5vjt2kx7b80000gr/T/ipykernel_15248/2764862445.py:17: RuntimeWarning: divide by zero encountered in divide\n",
      "  logS2  = np.log10((SII6716_FLUX+SII6730_FLUX) / HA6562_FLUX)   # Σ[S II]/Hα\n",
      "/var/folders/rm/clp89v210v32vh5vjt2kx7b80000gr/T/ipykernel_15248/2764862445.py:17: RuntimeWarning: invalid value encountered in divide\n",
      "  logS2  = np.log10((SII6716_FLUX+SII6730_FLUX) / HA6562_FLUX)   # Σ[S II]/Hα\n",
      "/var/folders/rm/clp89v210v32vh5vjt2kx7b80000gr/T/ipykernel_15248/2764862445.py:17: RuntimeWarning: divide by zero encountered in log10\n",
      "  logS2  = np.log10((SII6716_FLUX+SII6730_FLUX) / HA6562_FLUX)   # Σ[S II]/Hα\n",
      "/var/folders/rm/clp89v210v32vh5vjt2kx7b80000gr/T/ipykernel_15248/2764862445.py:18: RuntimeWarning: divide by zero encountered in divide\n",
      "  logO3  = np.log10(OIII5006_FLUX / HB4861_FLUX)       # [O III]/Hβ\n",
      "/var/folders/rm/clp89v210v32vh5vjt2kx7b80000gr/T/ipykernel_15248/2764862445.py:18: RuntimeWarning: invalid value encountered in divide\n",
      "  logO3  = np.log10(OIII5006_FLUX / HB4861_FLUX)       # [O III]/Hβ\n",
      "/var/folders/rm/clp89v210v32vh5vjt2kx7b80000gr/T/ipykernel_15248/2764862445.py:18: RuntimeWarning: divide by zero encountered in log10\n",
      "  logO3  = np.log10(OIII5006_FLUX / HB4861_FLUX)       # [O III]/Hβ\n"
     ]
    }
   ],
   "source": [
    "# Apply a first cut of FLUX/ERR ≥ 5 on every line, \n",
    "# at least 22 to get min BD>2.86\n",
    "# at least 15 to have all SF in BPT diagram\n",
    "cut = 0\n",
    "mask_HB = HB4861_FLUX / HB4861_FLUX_ERR >= cut\n",
    "mask_HA = HA6562_FLUX / HA6562_FLUX_ERR >= cut\n",
    "# Combine masks for both lines\n",
    "mask_combined = mask_HB & mask_HA\n",
    "# Apply the mask to the flux maps\n",
    "HB4861_FLUX_cut = np.where(mask_combined, HB4861_FLUX, np.nan)\n",
    "HA6562_FLUX_cut = np.where(mask_combined, HA6562_FLUX, np.nan)\n",
    "\n",
    "# Balmer-decrement map – H α/H β (start with all spaxels).\n",
    "BD = HA6562_FLUX_cut / HB4861_FLUX_cut\n",
    "# ---- line ratios --------------------------------------------------\n",
    "logN2  = np.log10(NII6583_FLUX / HA6562_FLUX)        # [N II]/Hα\n",
    "logS2  = np.log10((SII6716_FLUX+SII6730_FLUX) / HA6562_FLUX)   # Σ[S II]/Hα\n",
    "logO3  = np.log10(OIII5006_FLUX / HB4861_FLUX)       # [O III]/Hβ         \n",
    "\n",
    "mask_N2 = NII6583_FLUX / NII6583_FLUX_ERR >= cut\n",
    "mask_S2 = (SII6716_FLUX + SII6730_FLUX) / (SII6716_FLUX_ERR + SII6730_FLUX_ERR) >= cut\n",
    "mask_O3 = OIII5006_FLUX / OIII5006_FLUX_ERR >= cut\n",
    "mask_combinedd = mask_combined & mask_N2 & mask_S2 & mask_O3\n",
    "\n",
    "logN2_cut = np.where(mask_combinedd, logN2, np.nan)\n",
    "logS2_cut = np.where(mask_combinedd, logS2, np.nan)\n",
    "logO3_cut = np.where(mask_combinedd, logO3, np.nan)"
   ]
  },
  {
   "cell_type": "code",
   "execution_count": 4,
   "id": "01dbf3b4",
   "metadata": {},
   "outputs": [
    {
     "name": "stdout",
     "output_type": "stream",
     "text": [
      "Galaxy flux-weighted representative points:\n",
      "[N II] BPT: logN2 = 0.003, logO3 = 1.583\n",
      "[S II] BPT: logS2 = -0.189, logO3 = 1.192\n",
      "Number of spaxels in [N II] BPT regions:\n",
      "HII: 182075, Comp: 112546, AGN: 61438\n",
      "Number of spaxels in [S II] BPT regions:\n",
      "HII: 235646, Seyfert: 26197, LINER: 85916\n"
     ]
    }
   ],
   "source": [
    "#  N II BPT -----------------------------------------\n",
    "def kewley01_N2(x):   # max-starburst\n",
    "    return 0.61/(x-0.47) + 1.19\n",
    "def kauff03_N2(x):    # empirical SF upper envelope\n",
    "    return 0.61/(x-0.05) + 1.30                            \n",
    "\n",
    "#  S II BPT -----------------------------------------\n",
    "def kewley01_S2(x):\n",
    "    return 0.72/(x-0.32) + 1.30                           \n",
    "def kewley06_Sy_LIN(x):   # Seyfert/LINER division\n",
    "    return 1.89*x + 0.76        \n",
    "\n",
    "# Calculate flux-weighted galaxy representative points\n",
    "# Assuming you have a flux array (replace 'flux' with your actual flux variable name)\n",
    "# If you don't have flux, you can use Ha_flux or another appropriate flux measurement\n",
    "valid_mask_N2 = np.isfinite(logN2_cut) & np.isfinite(logO3_cut) \n",
    "valid_mask_S2 = np.isfinite(logS2_cut) & np.isfinite(logO3_cut) \n",
    "\n",
    "# Calculate flux-weighted representative points\n",
    "galaxy_logN2 = np.log10(np.nansum(10**logN2_cut[valid_mask_N2] * 10**logN2_cut[valid_mask_N2]) / np.nansum(10**logN2_cut[valid_mask_N2]))\n",
    "galaxy_logO3_N2 = np.log10(np.nansum(10**logO3_cut[valid_mask_N2] * 10**logO3_cut[valid_mask_N2]) / np.nansum(10**logO3_cut[valid_mask_N2]))\n",
    "galaxy_logS2 = np.log10(np.nansum(10**logS2_cut[valid_mask_S2] * 10**logS2_cut[valid_mask_S2]) / np.nansum(10**logS2_cut[valid_mask_S2]))\n",
    "galaxy_logO3_S2 = np.log10(np.nansum(10**logO3_cut[valid_mask_S2] * 10**logO3_cut[valid_mask_S2]) / np.nansum(10**logO3_cut[valid_mask_S2]))\n",
    "\n",
    "# Print galaxy representative points\n",
    "print(f\"Galaxy flux-weighted representative points:\")\n",
    "print(f\"[N II] BPT: logN2 = {galaxy_logN2:.3f}, logO3 = {galaxy_logO3_N2:.3f}\")\n",
    "print(f\"[S II] BPT: logS2 = {galaxy_logS2:.3f}, logO3 = {galaxy_logO3_S2:.3f}\")\n",
    "\n",
    "# Count the number of spaxels in each region\n",
    "N2_HII = logO3 <= kauff03_N2(logN2)\n",
    "N2_Comp = (logO3 > kauff03_N2(logN2)) & (logO3 <= kewley01_N2(logN2))\n",
    "N2_AGN = logO3 > kewley01_N2(logN2)\n",
    "S2_HII = logO3 <= kewley01_S2(logS2)\n",
    "S2_Seyfert = (logO3 > kewley01_S2(logS2)) & (logO3 > kewley06_Sy_LIN(logS2))\n",
    "S2_LINER = (logO3 > kewley01_S2(logS2)) & (logO3 <= kewley06_Sy_LIN(logS2))\n",
    "# Count the number of spaxels in each region\n",
    "N2_HII_count = np.sum(N2_HII)\n",
    "N2_Comp_count = np.sum(N2_Comp)\n",
    "N2_AGN_count = np.sum(N2_AGN)\n",
    "S2_HII_count = np.sum(S2_HII)\n",
    "S2_Seyfert_count = np.sum(S2_Seyfert)\n",
    "S2_LINER_count = np.sum(S2_LINER)\n",
    "print(f\"Number of spaxels in [N II] BPT regions:\")\n",
    "print(f\"HII: {N2_HII_count}, Comp: {N2_Comp_count}, AGN: {N2_AGN_count}\")\n",
    "print(f\"Number of spaxels in [S II] BPT regions:\")\n",
    "print(f\"HII: {S2_HII_count}, Seyfert: {S2_Seyfert_count}, LINER: {S2_LINER_count}\")"
   ]
  },
  {
   "cell_type": "code",
   "execution_count": 5,
   "id": "a983fece",
   "metadata": {},
   "outputs": [],
   "source": [
    "# Purely SF spaxels in both BPT diagram\n",
    "mask_SF = (N2_HII+N2_Comp) & (S2_HII) #& (E_BV_BD > -0.5)  \n",
    "# Apply the mask to the Halpha flux map\n",
    "HA6562_FLUX_SF = np.where(mask_SF, HA6562_FLUX_cut, np.nan)\n",
    "HB4861_FLUX_SF = np.where(mask_SF, HB4861_FLUX_cut, np.nan)\n",
    "OIII5006_FLUX_SF = np.where(mask_SF, OIII5006_FLUX, np.nan)\n",
    "NII6583_FLUX_SF = np.where(mask_SF, NII6583_FLUX, np.nan)\n",
    "SII6716_FLUX_SF = np.where(mask_SF, SII6716_FLUX, np.nan)\n",
    "SII6730_FLUX_SF = np.where(mask_SF, SII6730_FLUX, np.nan)\n",
    "HA6562_FLUX_ERR_SF = np.where(mask_SF, HA6562_FLUX_ERR, np.nan)\n",
    "HB4861_FLUX_ERR_SF = np.where(mask_SF, HB4861_FLUX_ERR, np.nan)\n",
    "OIII5006_FLUX_ERR_SF = np.where(mask_SF, OIII5006_FLUX_ERR, np.nan)\n",
    "NII6583_FLUX_ERR_SF = np.where(mask_SF, NII6583_FLUX_ERR, np.nan)\n",
    "SII6716_FLUX_ERR_SF = np.where(mask_SF, SII6716_FLUX_ERR, np.nan)\n",
    "SII6730_FLUX_ERR_SF = np.where(mask_SF, SII6730_FLUX_ERR, np.nan)\n",
    "BD_SF = np.where(mask_SF, BD, np.nan)"
   ]
  },
  {
   "cell_type": "code",
   "execution_count": 6,
   "id": "035ec711",
   "metadata": {},
   "outputs": [],
   "source": [
    "HA6562_FLUX_SNR = HA6562_FLUX/HA6562_FLUX_ERR\n",
    "HB4861_FLUX_SNR = HB4861_FLUX/HB4861_FLUX_ERR\n",
    "OIII5006_FLUX_SNR = OIII5006_FLUX/OIII5006_FLUX_ERR\n",
    "NII6583_FLUX_SNR = NII6583_FLUX/NII6583_FLUX_ERR\n",
    "SII6716_FLUX_SNR = SII6716_FLUX/SII6716_FLUX_ERR\n",
    "SII6730_FLUX_SNR = SII6730_FLUX/SII6730_FLUX_ERR\n",
    "\n",
    "threshold = 2.5  # BD threshold\n",
    "good = BD_SF >= threshold\n",
    "between = good & (BD_SF < 2.86)"
   ]
  },
  {
   "cell_type": "code",
   "execution_count": 7,
   "id": "178c7fa9",
   "metadata": {},
   "outputs": [],
   "source": [
    "BD_SF_good = np.where(good, BD_SF, np.nan)\n",
    "BD_SF_bad = np.where(~good, BD_SF, np.nan)\n",
    "BD_SF_between = np.where(between, BD_SF, np.nan)"
   ]
  },
  {
   "cell_type": "code",
   "execution_count": 8,
   "id": "cab3ef22",
   "metadata": {},
   "outputs": [],
   "source": [
    "HA6562_FLUX_SF_good = np.where(good, HA6562_FLUX_SF, np.nan)\n",
    "HB4861_FLUX_SF_good = np.where(good, HB4861_FLUX_SF, np.nan)\n",
    "OIII5006_FLUX_SF_good = np.where(good, OIII5006_FLUX_SF, np.nan)\n",
    "NII6583_FLUX_SF_good = np.where(good, NII6583_FLUX_SF, np.nan)\n",
    "SII6716_FLUX_SF_good = np.where(good, SII6716_FLUX_SF, np.nan)\n",
    "SII6730_FLUX_SF_good = np.where(good, SII6730_FLUX_SF, np.nan)\n",
    "HA6562_FLUX_SF_bad = np.where(~good, HA6562_FLUX_SF, np.nan)\n",
    "HB4861_FLUX_SF_bad = np.where(~good, HB4861_FLUX_SF, np.nan)\n",
    "OIII5006_FLUX_SF_bad = np.where(~good, OIII5006_FLUX_SF, np.nan)\n",
    "NII6583_FLUX_SF_bad = np.where(~good, NII6583_FLUX_SF, np.nan)\n",
    "SII6716_FLUX_SF_bad = np.where(~good, SII6716_FLUX_SF, np.nan)\n",
    "SII6730_FLUX_SF_bad = np.where(~good, SII6730_FLUX_SF, np.nan)\n",
    "HA6562_FLUX_SF_between = np.where(between, HA6562_FLUX_SF, np.nan)\n",
    "HB4861_FLUX_SF_between = np.where(between, HB4861_FLUX_SF, np.nan)\n",
    "OIII5006_FLUX_SF_between = np.where(between, OIII5006_FLUX_SF, np.nan)\n",
    "NII6583_FLUX_SF_between = np.where(between, NII6583_FLUX_SF, np.nan)\n",
    "SII6716_FLUX_SF_between = np.where(between, SII6716_FLUX_SF, np.nan)\n",
    "SII6730_FLUX_SF_between = np.where(between, SII6730_FLUX_SF, np.nan)\n",
    "HA6562_FLUX_SF_poor = np.where(~good | between, HA6562_FLUX_SF, np.nan)\n",
    "HB4861_FLUX_SF_poor = np.where(~good | between, HB4861_FLUX_SF, np.nan)\n",
    "OIII5006_FLUX_SF_poor = np.where(~good | between, OIII5006_FLUX_SF, np.nan)\n",
    "NII6583_FLUX_SF_poor = np.where(~good | between, NII6583_FLUX_SF, np.nan)\n",
    "SII6716_FLUX_SF_poor = np.where(~good | between, SII6716_FLUX_SF, np.nan)\n",
    "SII6730_FLUX_SF_poor = np.where(~good | between, SII6730_FLUX_SF, np.nan)\n",
    "\n",
    "HA6562_FLUX_ERR_SF_good = np.where(good, HA6562_FLUX_ERR_SF, np.nan)\n",
    "HB4861_FLUX_ERR_SF_good = np.where(good, HB4861_FLUX_ERR_SF, np.nan)\n",
    "OIII5006_FLUX_ERR_SF_good = np.where(good, OIII5006_FLUX_ERR_SF, np.nan)\n",
    "NII6583_FLUX_ERR_SF_good = np.where(good, NII6583_FLUX_ERR_SF, np.nan)\n",
    "SII6716_FLUX_ERR_SF_good = np.where(good, SII6716_FLUX_ERR_SF, np.nan)\n",
    "SII6730_FLUX_ERR_SF_good = np.where(good, SII6730_FLUX_ERR_SF, np.nan)\n",
    "HA6562_FLUX_ERR_SF_bad = np.where(~good, HA6562_FLUX_ERR_SF, np.nan)\n",
    "HB4861_FLUX_ERR_SF_bad = np.where(~good, HB4861_FLUX_ERR_SF, np.nan)\n",
    "OIII5006_FLUX_ERR_SF_bad = np.where(~good, OIII5006_FLUX_ERR_SF, np.nan)\n",
    "NII6583_FLUX_ERR_SF_bad = np.where(~good, NII6583_FLUX_ERR_SF, np.nan)\n",
    "SII6716_FLUX_ERR_SF_bad = np.where(~good, SII6716_FLUX_ERR_SF, np.nan)\n",
    "SII6730_FLUX_ERR_SF_bad = np.where(~good, SII6730_FLUX_ERR_SF, np.nan)\n",
    "HA6562_FLUX_ERR_SF_between = np.where(between, HA6562_FLUX_ERR_SF, np.nan)\n",
    "HB4861_FLUX_ERR_SF_between = np.where(between, HB4861_FLUX_ERR_SF, np.nan)\n",
    "OIII5006_FLUX_ERR_SF_between = np.where(between, OIII5006_FLUX_ERR_SF, np.nan)\n",
    "NII6583_FLUX_ERR_SF_between = np.where(between, NII6583_FLUX_ERR_SF, np.nan)\n",
    "SII6716_FLUX_ERR_SF_between = np.where(between, SII6716_FLUX_ERR_SF, np.nan)\n",
    "SII6730_FLUX_ERR_SF_between = np.where(between, SII6730_FLUX_ERR_SF, np.nan)\n",
    "HA6562_FLUX_ERR_SF_poor = np.where(~good | between, HA6562_FLUX_ERR_SF, np.nan)\n",
    "HB4861_FLUX_ERR_SF_poor = np.where(~good | between, HB4861_FLUX_ERR_SF, np.nan)\n",
    "OIII5006_FLUX_ERR_SF_poor = np.where(~good | between, OIII5006_FLUX_ERR_SF, np.nan)\n",
    "NII6583_FLUX_ERR_SF_poor = np.where(~good | between, NII6583_FLUX_ERR_SF, np.nan)\n",
    "SII6716_FLUX_ERR_SF_poor = np.where(~good | between, SII6716_FLUX_ERR_SF, np.nan)\n",
    "SII6730_FLUX_ERR_SF_poor = np.where(~good | between, SII6730_FLUX_ERR_SF, np.nan)"
   ]
  },
  {
   "cell_type": "code",
   "execution_count": 9,
   "id": "d072154f",
   "metadata": {},
   "outputs": [],
   "source": [
    "# O'Donnell (1994) update\n",
    "# k_Hb = 3.609   # 4861 Å\n",
    "# k_Ha = 2.535   # 6563 Å\n",
    "# Calzetti (2000)\n",
    "k_Hb = 4.598 \n",
    "k_Ha = 3.325\n",
    "R_int = 2.86\n",
    "\n",
    "E_BV_BD = 2.5/(k_Hb - k_Ha) * np.log10( (HA6562_FLUX_SF_good/HB4861_FLUX_SF_good) / R_int )"
   ]
  },
  {
   "cell_type": "code",
   "execution_count": 10,
   "id": "bbf89034",
   "metadata": {},
   "outputs": [],
   "source": [
    "# Manually set the negative E(B-V) values to zero\n",
    "E_BV_BD[E_BV_BD < 0] = 0"
   ]
  },
  {
   "cell_type": "code",
   "execution_count": 11,
   "id": "be8e6632",
   "metadata": {},
   "outputs": [],
   "source": [
    "# Purely SF spaxels in both BPT diagram\n",
    "mask_SF = (N2_HII+N2_Comp) & (S2_HII) #& (E_BV_BD > -0.5)  \n",
    "# Apply the mask to the Halpha flux map\n",
    "HA6562_FLUX_SF = np.where(mask_SF, HA6562_FLUX_cut, np.nan) "
   ]
  },
  {
   "cell_type": "code",
   "execution_count": 12,
   "id": "fa77ca8e",
   "metadata": {},
   "outputs": [],
   "source": [
    "# Corrected Halpha map with E(B-V) from gas lines\n",
    "HA6562_FLUX_SF_good_corr = HA6562_FLUX_SF_good * 10**(0.4 * k_Ha * E_BV_BD)"
   ]
  },
  {
   "cell_type": "code",
   "execution_count": 13,
   "id": "27d5ffd0",
   "metadata": {},
   "outputs": [
    {
     "name": "stdout",
     "output_type": "stream",
     "text": [
      "Total corrected Hα luminosity for purely SF good spaxels: 1.418e+41 erg / s erg/s\n"
     ]
    }
   ],
   "source": [
    "# Convert the corrected Halpha map ($10^{-20}erg/(s cm^2)$) to luminosity (erg/s)\n",
    "def flux_to_luminosity(flux, distance=16.5):\n",
    "    \"\"\"\n",
    "    Convert flux to luminosity.\n",
    "    \n",
    "    Parameters:\n",
    "    flux : array-like\n",
    "        Flux in erg/(s * Angstrom * cm^2).\n",
    "    distance : float\n",
    "        Distance in parsecs.\n",
    "        \n",
    "    Returns:\n",
    "    luminosity : array-like\n",
    "        Luminosity in erg/s.\n",
    "    \"\"\"\n",
    "    return (flux*1e-20*u.erg/u.s/u.cm**2 * 4*np.pi*(distance*u.Mpc)**2).cgs\n",
    "\n",
    "# Convert the corrected Halpha flux map to luminosity\n",
    "HA6562_LUM_SF_good_corr = flux_to_luminosity(HA6562_FLUX_SF_good_corr)\n",
    "total_HA6562_LUM_SF_good_corr = np.nansum(HA6562_LUM_SF_good_corr)\n",
    "# Print the total luminosity\n",
    "print(f\"Total corrected Hα luminosity for purely SF good spaxels: {total_HA6562_LUM_SF_good_corr:.3e} erg/s\")\n"
   ]
  },
  {
   "cell_type": "code",
   "execution_count": 14,
   "id": "0d80eabc",
   "metadata": {},
   "outputs": [
    {
     "name": "stdout",
     "output_type": "stream",
     "text": [
      "Total SFR for purely SF good spaxels: 0.707 M_sun/yr\n"
     ]
    }
   ],
   "source": [
    "# SFR map from Halpha luminosity, using Calzetti 2007\n",
    "def calzetti_sfr(luminosity):\n",
    "    \"\"\"\n",
    "    Convert Halpha luminosity to SFR using Calzetti 2007.\n",
    "    But it is assuming the Kroupa IMF, \n",
    "    so we need to times a coefficient to go to Chabrier IMF.\n",
    "    \n",
    "    Parameters:\n",
    "    luminosity : array-like\n",
    "        Halpha luminosity in erg/s.\n",
    "        \n",
    "    Returns:\n",
    "    sfr : array-like\n",
    "        Star formation rate in solar masses per year.\n",
    "    \"\"\"\n",
    "    return 5.3e-42 * luminosity.cgs.value / 0.67 *0.63 # SFR in M_sun/yr\n",
    "\n",
    "# Calculate SFR map from corrected Halpha luminosity\n",
    "SFR_map_SF_good_corr = calzetti_sfr(HA6562_LUM_SF_good_corr)\n",
    "# Calculate total SFR\n",
    "total_SFR_SF_good_corr = calzetti_sfr(total_HA6562_LUM_SF_good_corr)\n",
    "print(f\"Total SFR for purely SF good spaxels: {total_SFR_SF_good_corr:.3f} M_sun/yr\")\n"
   ]
  },
  {
   "cell_type": "code",
   "execution_count": null,
   "id": "85302b5c",
   "metadata": {},
   "outputs": [],
   "source": []
  }
 ],
 "metadata": {
  "kernelspec": {
   "display_name": "ICRAR",
   "language": "python",
   "name": "python3"
  },
  "language_info": {
   "codemirror_mode": {
    "name": "ipython",
    "version": 3
   },
   "file_extension": ".py",
   "mimetype": "text/x-python",
   "name": "python",
   "nbconvert_exporter": "python",
   "pygments_lexer": "ipython3",
   "version": "3.13.3"
  }
 },
 "nbformat": 4,
 "nbformat_minor": 5
}
